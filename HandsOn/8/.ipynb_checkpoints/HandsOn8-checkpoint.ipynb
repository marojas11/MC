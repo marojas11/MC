{
 "metadata": {
  "name": "",
  "signature": "sha256:ec2daee99a0a4d17fc29759077c9f2b0fb80034c85d2038fceed58f8b68631b8"
 },
 "nbformat": 3,
 "nbformat_minor": 0,
 "worksheets": [
  {
   "cells": [
    {
     "cell_type": "markdown",
     "metadata": {},
     "source": [
      "#HandsOn8\n",
      "##Punto1: Finding roots\n",
      "\n",
      "The location of L1 is the solution to the following equation, balancing gravitation and the centrifugal force:\n",
      "\n",
      "$\\frac{M_1}{(R-r)^2}-\\frac{M_2}{r^2}-\\left(\\frac{M_1}{M_1+M_2}R-r\\right)\\frac{M_1+M_2}{R^3}=0$"
     ]
    },
    {
     "cell_type": "code",
     "collapsed": false,
     "input": [
      "%pylab inline"
     ],
     "language": "python",
     "metadata": {},
     "outputs": [
      {
       "output_type": "stream",
       "stream": "stdout",
       "text": [
        "Populating the interactive namespace from numpy and matplotlib\n"
       ]
      }
     ],
     "prompt_number": 1
    },
    {
     "cell_type": "code",
     "collapsed": false,
     "input": [
      "\n",
      "from  scipy.optimize import root\n",
      "from scipy.integrate import quad\n"
     ],
     "language": "python",
     "metadata": {},
     "outputs": [],
     "prompt_number": 9
    },
    {
     "cell_type": "markdown",
     "metadata": {},
     "source": [
      "\n",
      "\n",
      "   $ r \\approx R \\sqrt[3]{\\frac{M_2}{3 M_1}} $"
     ]
    },
    {
     "cell_type": "code",
     "collapsed": false,
     "input": [
      "def func(r):\n",
      "    m1=1.8986*(10**27) \n",
      "    m2=8.931938*(10**22)\n",
      "    R=421700.0\n",
      "    return (m1/(R-r)**2)-(m2/r**2)-((m1/(m1+m2))*R-r)*((m1+m2)/R**3)\n",
      "\n",
      "sol=root(func,0.3)\n",
      "print \"La soluci\u00f3n a la ecuaci\u00f3n es: \", sol.x[0]\n",
      "\n",
      "\n",
      "def aprox():\n",
      "    m1=1.8986*10**27 \n",
      "    m2=8.931938*10**22\n",
      "    R=421700.0\n",
      "    return R*(m2/(3.0*m1))**(1/3)\n",
      "print  \"La soluci\u00f3n aproximada a la ecuaci\u00f3n es: \",aprox()"
     ],
     "language": "python",
     "metadata": {},
     "outputs": [
      {
       "output_type": "stream",
       "stream": "stdout",
       "text": [
        "La soluci\u00f3n a la ecuaci\u00f3n es:  10466.3737214\n",
        "La soluci\u00f3n aproximada a la ecuaci\u00f3n es:  421700.0\n"
       ]
      }
     ],
     "prompt_number": 3
    },
    {
     "cell_type": "markdown",
     "metadata": {},
     "source": [
      "##Punto 3: Series de Fourier"
     ]
    },
    {
     "cell_type": "code",
     "collapsed": false,
     "input": [
      "def fun(x):\n",
      "    if x<1:\n",
      "        return x\n",
      "    elif x<=3:\n",
      "        return -.5*x+1.5\n",
      "\n",
      "x=linspace(0,3,100)\n",
      "\n",
      "y=[]\n",
      "for i in range(len(x)):\n",
      "    \n",
      "    y.append(fun(x[i]))\n",
      "plot(x,y)\n",
      "\n"
     ],
     "language": "python",
     "metadata": {},
     "outputs": [
      {
       "metadata": {},
       "output_type": "pyout",
       "prompt_number": 5,
       "text": [
        "[<matplotlib.lines.Line2D at 0xd168630>]"
       ]
      },
      {
       "metadata": {},
       "output_type": "display_data",
       "png": "[encoded data removed]",
       "text": [
        "<matplotlib.figure.Figure at 0xcf3cc70>"
       ]
      }
     ],
     "prompt_number": 5
    },
    {
     "cell_type": "code",
     "collapsed": false,
     "input": [
      "def fun_an(x,n,T,fun):\n",
      "    return fun(x)*cos(2*pi/T*x)*x\n",
      "\n",
      "def fun_bn(x,n,T,fun):\n",
      "    return fun(x)*sin(2*pi/T*x)*x\n",
      "\n",
      "\n",
      "def fourier(x,fun,fun_an,fun_bn,T,N):\n",
      "    a0=2.0/T*quad(fun,0,T)[0]\n",
      "    \n",
      "    for n in range(N):\n",
      "        an=2.0/T*quad(lambda x: fun_an(x,n,T,fun),0,T)\n",
      "        print an"
     ],
     "language": "python",
     "metadata": {},
     "outputs": [],
     "prompt_number": 37
    },
    {
     "cell_type": "code",
     "collapsed": false,
     "input": [
      "fourier(1,fun,fun_an,fun_bn,3,10)"
     ],
     "language": "python",
     "metadata": {},
     "outputs": [
      {
       "output_type": "stream",
       "stream": "stdout",
       "text": [
        "<function <lambda> at 0x0D2EB6B0>\n"
       ]
      },
      {
       "ename": "TypeError",
       "evalue": "can't multiply sequence by non-int of type 'float'",
       "output_type": "pyerr",
       "traceback": [
        "\u001b[1;31m---------------------------------------------------------------------------\u001b[0m\n\u001b[1;31mTypeError\u001b[0m                                 Traceback (most recent call last)",
        "\u001b[1;32m<ipython-input-38-35d94608ecaf>\u001b[0m in \u001b[0;36m<module>\u001b[1;34m()\u001b[0m\n\u001b[1;32m----> 1\u001b[1;33m \u001b[0mfourier\u001b[0m\u001b[1;33m(\u001b[0m\u001b[1;36m1\u001b[0m\u001b[1;33m,\u001b[0m\u001b[0mfun\u001b[0m\u001b[1;33m,\u001b[0m\u001b[0mfun_an\u001b[0m\u001b[1;33m,\u001b[0m\u001b[0mfun_bn\u001b[0m\u001b[1;33m,\u001b[0m\u001b[1;36m3\u001b[0m\u001b[1;33m,\u001b[0m\u001b[1;36m10\u001b[0m\u001b[1;33m)\u001b[0m\u001b[1;33m\u001b[0m\u001b[0m\n\u001b[0m",
        "\u001b[1;32m<ipython-input-37-41bbc292a1ec>\u001b[0m in \u001b[0;36mfourier\u001b[1;34m(x, fun, fun_an, fun_bn, T, N)\u001b[0m\n\u001b[0;32m     11\u001b[0m     \u001b[1;32mfor\u001b[0m \u001b[0mn\u001b[0m \u001b[1;32min\u001b[0m \u001b[0mrange\u001b[0m\u001b[1;33m(\u001b[0m\u001b[0mN\u001b[0m\u001b[1;33m)\u001b[0m\u001b[1;33m:\u001b[0m\u001b[1;33m\u001b[0m\u001b[0m\n\u001b[0;32m     12\u001b[0m         \u001b[1;32mprint\u001b[0m \u001b[1;32mlambda\u001b[0m \u001b[0mx\u001b[0m\u001b[1;33m:\u001b[0m \u001b[0mfun_an\u001b[0m\u001b[1;33m(\u001b[0m\u001b[0mx\u001b[0m\u001b[1;33m,\u001b[0m\u001b[0mn\u001b[0m\u001b[1;33m,\u001b[0m\u001b[0mT\u001b[0m\u001b[1;33m,\u001b[0m\u001b[0mfun\u001b[0m\u001b[1;33m)\u001b[0m\u001b[1;33m\u001b[0m\u001b[0m\n\u001b[1;32m---> 13\u001b[1;33m         \u001b[0man\u001b[0m\u001b[1;33m=\u001b[0m\u001b[1;36m2.0\u001b[0m\u001b[1;33m/\u001b[0m\u001b[0mT\u001b[0m\u001b[1;33m*\u001b[0m\u001b[0mquad\u001b[0m\u001b[1;33m(\u001b[0m\u001b[1;32mlambda\u001b[0m \u001b[0mx\u001b[0m\u001b[1;33m:\u001b[0m \u001b[0mfun_an\u001b[0m\u001b[1;33m(\u001b[0m\u001b[0mx\u001b[0m\u001b[1;33m,\u001b[0m\u001b[0mn\u001b[0m\u001b[1;33m,\u001b[0m\u001b[0mT\u001b[0m\u001b[1;33m,\u001b[0m\u001b[0mfun\u001b[0m\u001b[1;33m)\u001b[0m\u001b[1;33m,\u001b[0m\u001b[1;36m0\u001b[0m\u001b[1;33m,\u001b[0m\u001b[0mT\u001b[0m\u001b[1;33m)\u001b[0m\u001b[1;33m\u001b[0m\u001b[0m\n\u001b[0m\u001b[0;32m     14\u001b[0m         \u001b[1;32mprint\u001b[0m \u001b[0man\u001b[0m\u001b[1;33m\u001b[0m\u001b[0m\n",
        "\u001b[1;31mTypeError\u001b[0m: can't multiply sequence by non-int of type 'float'"
       ]
      }
     ],
     "prompt_number": 38
    },
    {
     "cell_type": "code",
     "collapsed": false,
     "input": [],
     "language": "python",
     "metadata": {},
     "outputs": []
    }
   ],
   "metadata": {}
  }
 ]
}