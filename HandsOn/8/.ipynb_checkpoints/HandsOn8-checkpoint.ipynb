{
 "metadata": {
  "name": "",
  "signature": "sha256:3129f937016f5ade7f9d46e41af65130bd7524e0c8b7a444c0c6be225eaeca75"
 },
 "nbformat": 3,
 "nbformat_minor": 0,
 "worksheets": [
  {
   "cells": [
    {
     "cell_type": "markdown",
     "metadata": {},
     "source": [
      "#HandsOn8\n",
      "##Punto1: Finding roots\n",
      "\n",
      "The location of L1 is the solution to the following equation, balancing gravitation and the centrifugal force:\n",
      "\n",
      "$\\frac{M_1}{(R-r)^2}-\\frac{M_2}{r^2}-\\left(\\frac{M_1}{M_1+M_2}R-r\\right)\\frac{M_1+M_2}{R^3}=0$"
     ]
    },
    {
     "cell_type": "code",
     "collapsed": false,
     "input": [
      "%pylab inline"
     ],
     "language": "python",
     "metadata": {},
     "outputs": [
      {
       "output_type": "stream",
       "stream": "stdout",
       "text": [
        "Populating the interactive namespace from numpy and matplotlib\n"
       ]
      }
     ],
     "prompt_number": 1
    },
    {
     "cell_type": "code",
     "collapsed": false,
     "input": [
      "\n",
      "from  scipy.optimize import root\n",
      "from scipy.integrate import quad\n"
     ],
     "language": "python",
     "metadata": {},
     "outputs": [],
     "prompt_number": 2
    },
    {
     "cell_type": "markdown",
     "metadata": {},
     "source": [
      "\n",
      "\n",
      "   $ r \\approx R \\sqrt[3]{\\frac{M_2}{3 M_1}} $"
     ]
    },
    {
     "cell_type": "code",
     "collapsed": false,
     "input": [
      "def func(r):\n",
      "    m1=1.8986*(10**27) \n",
      "    m2=8.931938*(10**22)\n",
      "    R=421700.0\n",
      "    return (m1/(R-r)**2)-(m2/r**2)-((m1/(m1+m2))*R-r)*((m1+m2)/R**3)\n",
      "\n",
      "sol=root(func,0.3)\n",
      "print \"La soluci\u00f3n a la ecuaci\u00f3n es: \", sol.x[0]\n",
      "\n",
      "\n",
      "def aprox():\n",
      "    m1=1.8986*10**27 \n",
      "    m2=8.931938*10**22\n",
      "    R=421700.0\n",
      "    return R*(m2/(3.0*m1))**(1/3)\n",
      "print  \"La soluci\u00f3n aproximada a la ecuaci\u00f3n es: \",aprox()"
     ],
     "language": "python",
     "metadata": {},
     "outputs": [
      {
       "output_type": "stream",
       "stream": "stdout",
       "text": [
        "La soluci\u00f3n a la ecuaci\u00f3n es:  10466.3737214\n",
        "La soluci\u00f3n aproximada a la ecuaci\u00f3n es:  421700.0\n"
       ]
      }
     ],
     "prompt_number": 3
    },
    {
     "cell_type": "markdown",
     "metadata": {},
     "source": [
      "##Punto 3: Series de Fourier"
     ]
    },
    {
     "cell_type": "code",
     "collapsed": false,
     "input": [
      "def fun(x):\n",
      "    if x<0:\n",
      "        return fun(x+3)\n",
      "        \n",
      "    elif x<1:\n",
      "        return x\n",
      "    elif x<=3:\n",
      "        return -.5*x+1.5\n",
      "    else:\n",
      "        return fun(x-3)\n",
      "    \n",
      "\n",
      "x=linspace(0,6,200)\n",
      "\n",
      "y=[]\n",
      "for i in range(len(x)):\n",
      "    y.append(fun(x[i]))\n",
      "    \n",
      "plot(x,y)\n",
      "\n",
      "\n",
      "\n"
     ],
     "language": "python",
     "metadata": {},
     "outputs": [
      {
       "metadata": {},
       "output_type": "pyout",
       "prompt_number": 58,
       "text": [
        "[<matplotlib.lines.Line2D at 0xd6624f0>]"
       ]
      },
      {
       "metadata": {},
       "output_type": "display_data",
       "png": "[encoded data removed]",
       "text": [
        "<matplotlib.figure.Figure at 0xd3055f0>"
       ]
      }
     ],
     "prompt_number": 58
    },
    {
     "cell_type": "code",
     "collapsed": false,
     "input": [
      "def fun_an(x,n,T,fun):\n",
      "    return fun(x)*cos(2.*pi*n/T*x)\n",
      "\n",
      "def fun_bn(x,n,T,fun):\n",
      "    return fun(x)*sin(2.*pi*n/T*x)\n",
      "\n",
      "\n",
      "def fourier(x,fun,fun_an,fun_bn,T,N):\n",
      "    a0=2.0/T*quad(fun,-T/2.0,T/2.0)[0]\n",
      "    suma=a0/2.0\n",
      "    \n",
      "    for n in range(1,N+1):\n",
      "        an=2.0/T*quad(lambda x: fun_an(x,n,T,fun),-T/2.0,T/2.0)[0]\n",
      "        bn=2.0/T*quad(lambda x: fun_bn(x,n,T,fun),-T/2.0,T/2.0)[0]\n",
      "        suma+=an*cos(2.*n*pi/T*x)+bn*sin(2.*n*pi/T*x)\n",
      "    return suma"
     ],
     "language": "python",
     "metadata": {},
     "outputs": [],
     "prompt_number": 59
    },
    {
     "cell_type": "code",
     "collapsed": false,
     "input": [
      "\n",
      "plot(x,y, label=\"original\")\n",
      "\n",
      "f=[]\n",
      "for i in range(len(x)):\n",
      "    f.append(fourier(x[i],fun,fun_an,fun_bn,3,20))\n",
      "plot(x,f,label=\"fourier\")\n",
      "legend()\n"
     ],
     "language": "python",
     "metadata": {},
     "outputs": [
      {
       "metadata": {},
       "output_type": "pyout",
       "prompt_number": 60,
       "text": [
        "<matplotlib.legend.Legend at 0x1039d350>"
       ]
      },
      {
       "metadata": {},
       "output_type": "display_data",
       "png": "[encoded data removed]",
       "text": [
        "<matplotlib.figure.Figure at 0x107263d0>"
       ]
      }
     ],
     "prompt_number": 60
    },
    {
     "cell_type": "code",
     "collapsed": false,
     "input": [],
     "language": "python",
     "metadata": {},
     "outputs": []
    }
   ],
   "metadata": {}
  }
 ]
}