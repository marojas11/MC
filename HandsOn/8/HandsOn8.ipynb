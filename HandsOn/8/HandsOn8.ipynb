{
 "metadata": {
  "name": "",
  "signature": "sha256:39183d846f6929c7190be10fb46bfec5c4cc6cdc3941a7dea241399fbd2197cb"
 },
 "nbformat": 3,
 "nbformat_minor": 0,
 "worksheets": [
  {
   "cells": [
    {
     "cell_type": "markdown",
     "metadata": {},
     "source": [
      "#HandsOn8\n",
      "##Punto1: Finding roots\n",
      "\n",
      "The location of L1 is the solution to the following equation, balancing gravitation and the centrifugal force:\n",
      "\n",
      "$\\frac{M_1}{(R-r)^2}-\\frac{M_2}{r^2}-\\left(\\frac{M_1}{M_1+M_2}R-r\\right)\\frac{M_1+M_2}{R^3}=0$"
     ]
    },
    {
     "cell_type": "code",
     "collapsed": false,
     "input": [
      "%pylab inline"
     ],
     "language": "python",
     "metadata": {},
     "outputs": [
      {
       "output_type": "stream",
       "stream": "stdout",
       "text": [
        "Populating the interactive namespace from numpy and matplotlib\n"
       ]
      }
     ],
     "prompt_number": 2
    },
    {
     "cell_type": "code",
     "collapsed": false,
     "input": [
      "\n",
      "from  scipy.optimize import root\n"
     ],
     "language": "python",
     "metadata": {},
     "outputs": [],
     "prompt_number": 3
    },
    {
     "cell_type": "markdown",
     "metadata": {},
     "source": [
      "\n",
      "\n",
      "   $ r \\approx R \\sqrt[3]{\\frac{M_2}{3 M_1}} $"
     ]
    },
    {
     "cell_type": "code",
     "collapsed": false,
     "input": [
      "def func(r):\n",
      "    m1=1.8986*(10**27) \n",
      "    m2=8.931938*(10**22)\n",
      "    R=421700.0\n",
      "    return (m1/(R-r)**2)-(m2/r**2)-((m1/(m1+m2))*R-r)*((m1+m2)/R**3)\n",
      "\n",
      "sol=root(func,0.3)\n",
      "print \"La soluci\u00f3n a la ecuaci\u00f3n es: \", sol.x[0]\n",
      "\n",
      "\n",
      "def aprox():\n",
      "    m1=1.8986*10**27 \n",
      "    m2=8.931938*10**22\n",
      "    R=421700.0\n",
      "    return R*(m2/(3.0*m1))**(1/3)\n",
      "print  \"La soluci\u00f3n aproximada a la ecuaci\u00f3n es: \",aprox()"
     ],
     "language": "python",
     "metadata": {},
     "outputs": [
      {
       "output_type": "stream",
       "stream": "stdout",
       "text": [
        "La soluci\u00f3n a la ecuaci\u00f3n es:  10466.3737214\n",
        "La soluci\u00f3n aproximada a la ecuaci\u00f3n es:  421700.0\n"
       ]
      }
     ],
     "prompt_number": 16
    },
    {
     "cell_type": "markdown",
     "metadata": {},
     "source": [
      "##Punto 3: Series de Fourier"
     ]
    },
    {
     "cell_type": "code",
     "collapsed": false,
     "input": [],
     "language": "python",
     "metadata": {},
     "outputs": []
    }
   ],
   "metadata": {}
  }
 ]
}