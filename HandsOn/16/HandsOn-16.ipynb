{
 "metadata": {
  "name": "",
  "signature": "sha256:6283674d57f4826c47680dceefdbda263105f6240de67b9bc06984ceb042b1ec"
 },
 "nbformat": 3,
 "nbformat_minor": 0,
 "worksheets": [
  {
   "cells": [
    {
     "cell_type": "markdown",
     "metadata": {},
     "source": [
      "# Hands-On 16\n",
      "*17-Jul-2015*\n",
      "\n",
      "## El Modelo de Potts\n",
      "\n",
      "\n",
      "![](https://raw.githubusercontent.com/ComputoCienciasUniandes/MetodosComputacionales/master/hands_on/figures/potttiling.png)\n",
      "\n",
      "* El [modelo de Potts](https://en.wikipedia.org/wiki/Potts_model) es un modelo de espines en interacci\u00f3n que generaliza al modelo de Ising permitiendo m\u00e1s de dos estados. En su versi\u00f3n est\u00e1ndar el Hamiltoniano del modelo est\u00e1ndar de Potts de orden $q$ est\u00e1 definido por\n",
      "\n",
      "    $$\\mathcal{H} = -J \\sum_{\\langle i,j \\rangle} \\delta(\\sigma_i,\\sigma_j)$$\n",
      "\n",
      "    donde los $\\sigma$ pueden tomar uno de $q$ valores distintos ${0,1\\ldots,q-1}$ y la suma se lleva a cabo sobre primeros vecinos $\\langle i,j \\rangle$. La magnetizaci\u00f3n se define como el n\u00famero promedio de espines en el estado $0$\n",
      "    \n",
      "    $$m=\\frac{1}{N}\\sum_i \\delta(0,\\sigma_i)$$\n",
      "    \n",
      "    siendo $N$ el n\u00famero todal de espines.\n",
      "    \n",
      "    En funci\u00f3n de la magnetizaci\u00f3n se define el siguiente *par\u00e1metro de orden* \n",
      "    \n",
      "    $$r=\\frac{qm-1}{q-1}$$\n",
      "    \n",
      "    que es igual a uno si $m = 1$ (completo orden) y $0$ si $m=1/q$ (pleno desorden).\n",
      "    \n",
      "    \n",
      "1. Utilice el algoritmo de Metr\u00f3polis para estimar el par\u00e1metro de orden en funci\u00f3n de la temperatura en el intervalo $\\left[0.6, 1.1\\right ]$ para el modelo est\u00e1ndar de orden 5. Tome J = 1 y utilice una red cuadrada de tama\u00f1o 32x32. Comience a una temperatura baja iniciando con todos los espines en el estado cero, estime la magnetizaci\u00f3n a esa temperatura y luego use el \u00faltimo estado a esa temperatura para comenzar las iteraciones correspondientes a la segunda temperatura. En todas las temperaturas use los \u00faltimos 100 estados de la red para estimar la magnetizaci\u00f3n $m$. **log**\n",
      "\n",
      "    Para implementar el algoritmo de Metr\u00f3polis puede 'invertir' los espines eligiendo al azar alguno de los otros estados diferentes al actual.\n",
      "    \n",
      "    En el caso bidimensional puede mostrarse que se presenta una transici\u00f3n de fase a la temperatura\n",
      "    \n",
      "    $$T_c = \\frac{1}{\\ln(1+\\sqrt{q})}.$$\n",
      "\n",
      "![](https://raw.githubusercontent.com/ComputoCienciasUniandes/MetodosComputacionales/master/hands_on/figures/potts5.png)"
     ]
    },
    {
     "cell_type": "code",
     "collapsed": false,
     "input": [],
     "language": "python",
     "metadata": {},
     "outputs": []
    }
   ],
   "metadata": {}
  }
 ]
}