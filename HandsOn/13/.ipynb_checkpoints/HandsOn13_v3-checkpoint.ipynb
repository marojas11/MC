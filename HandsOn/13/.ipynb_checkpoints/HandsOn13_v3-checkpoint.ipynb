{
 "metadata": {
  "name": "",
  "signature": "sha256:eb696b9b1eb7d014ad4f22141f6b5844b3135ecbcaf6d769d3c06705f6ccf693"
 },
 "nbformat": 3,
 "nbformat_minor": 0,
 "worksheets": [
  {
   "cells": [
    {
     "cell_type": "code",
     "collapsed": false,
     "input": [
      "%pylab inline"
     ],
     "language": "python",
     "metadata": {},
     "outputs": [
      {
       "output_type": "stream",
       "stream": "stdout",
       "text": [
        "Populating the interactive namespace from numpy and matplotlib\n"
       ]
      }
     ],
     "prompt_number": 1
    },
    {
     "cell_type": "code",
     "collapsed": false,
     "input": [
      "from sympy import *\n",
      "init_printing(use_unicode=True)\n",
      "diff(x**2,x)\n",
      "x=simbols('x')\n",
      "integrate(x**2,(x,1,2))\n",
      "\n"
     ],
     "language": "python",
     "metadata": {},
     "outputs": [
      {
       "ename": "ImportError",
       "evalue": "No module named sympy",
       "output_type": "pyerr",
       "traceback": [
        "\u001b[1;31m---------------------------------------------------------------------------\u001b[0m\n\u001b[1;31mImportError\u001b[0m                               Traceback (most recent call last)",
        "\u001b[1;32m<ipython-input-2-f01f01c94879>\u001b[0m in \u001b[0;36m<module>\u001b[1;34m()\u001b[0m\n\u001b[1;32m----> 1\u001b[1;33m \u001b[1;32mfrom\u001b[0m \u001b[0msympy\u001b[0m \u001b[1;32mimport\u001b[0m \u001b[1;33m*\u001b[0m\u001b[1;33m\u001b[0m\u001b[0m\n\u001b[0m\u001b[0;32m      2\u001b[0m \u001b[0minit_printing\u001b[0m\u001b[1;33m(\u001b[0m\u001b[0muse_unicode\u001b[0m\u001b[1;33m=\u001b[0m\u001b[0mTrue\u001b[0m\u001b[1;33m)\u001b[0m\u001b[1;33m\u001b[0m\u001b[0m\n\u001b[0;32m      3\u001b[0m \u001b[0mdiff\u001b[0m\u001b[1;33m(\u001b[0m\u001b[0mx\u001b[0m\u001b[1;33m**\u001b[0m\u001b[1;36m2\u001b[0m\u001b[1;33m,\u001b[0m\u001b[0mx\u001b[0m\u001b[1;33m)\u001b[0m\u001b[1;33m\u001b[0m\u001b[0m\n\u001b[0;32m      4\u001b[0m \u001b[0mx\u001b[0m\u001b[1;33m=\u001b[0m\u001b[0msimbols\u001b[0m\u001b[1;33m(\u001b[0m\u001b[1;34m'x'\u001b[0m\u001b[1;33m)\u001b[0m\u001b[1;33m\u001b[0m\u001b[0m\n\u001b[0;32m      5\u001b[0m \u001b[0mintegrate\u001b[0m\u001b[1;33m(\u001b[0m\u001b[0mx\u001b[0m\u001b[1;33m**\u001b[0m\u001b[1;36m2\u001b[0m\u001b[1;33m,\u001b[0m\u001b[1;33m(\u001b[0m\u001b[0mx\u001b[0m\u001b[1;33m,\u001b[0m\u001b[1;36m1\u001b[0m\u001b[1;33m,\u001b[0m\u001b[1;36m2\u001b[0m\u001b[1;33m)\u001b[0m\u001b[1;33m)\u001b[0m\u001b[1;33m\u001b[0m\u001b[0m\n",
        "\u001b[1;31mImportError\u001b[0m: No module named sympy"
       ]
      }
     ],
     "prompt_number": 2
    },
    {
     "cell_type": "code",
     "collapsed": false,
     "input": [
      "t,fn,fn1,h,tn,tn1=symbols('t fn fn1 h tn tn1')\n",
      "tn1=tn-h\n",
      "\n",
      "simplify(integrate(fn1*(t-tn)/(tn1-tn)+fn*(t-tn1)/(tn-tn1), (t,tn,tn+h)))"
     ],
     "language": "python",
     "metadata": {},
     "outputs": []
    },
    {
     "cell_type": "code",
     "collapsed": false,
     "input": [
      "t,fn,fn1,fn2,h,tn,tn1,tn2=symbols('t fn fn1 fn2 h tn tn1 tn2')\n",
      "tn1=tn-h\n",
      "tn2=tn1-h\n",
      "\n",
      "simplify(integrate(fn1*(t-tn)*(t-tn2)/((tn1-tn)*(tn1-tn2))+fn*(t-tn1)*(t-tn2)/((tn-tn1)*(tn-tn2))+fn2*(t-tn1)*(t-tn)/((tn2-tn1)*(tn2-tn)), (t,tn,tn+h)))"
     ],
     "language": "python",
     "metadata": {},
     "outputs": []
    },
    {
     "cell_type": "code",
     "collapsed": false,
     "input": [
      "t,fn,fn1,fn2,fn3,h,tn,tn1,tn2,tn3=symbols('t fn fn1 fn2 fn3 h tn tn1 tn2 tn3')\n",
      "tn1=tn-h\n",
      "tn2=tn1-h\n",
      "tn3=tn2-h\n",
      "\n",
      "simplify(integrate(fn1*(t-tn)*(t-tn2)*(t-tn3)/((tn1-tn)*(tn1-tn2)*(tn1-tn3))+fn*(t-tn1)*(t-tn2)*(t-tn3)/((tn-tn1)*(tn-tn2)*(tn-tn3))+fn2*(t-tn1)*(t-tn)*(t-tn3)/((tn2-tn1)*(tn2-tn)*(tn2-tn3))+fn3*(t-tn1)*(t-tn)*(t-tn2)/((tn3-tn1)*(tn3-tn)*(tn3-tn2)), (t,tn,tn+h)))"
     ],
     "language": "python",
     "metadata": {},
     "outputs": []
    },
    {
     "cell_type": "code",
     "collapsed": false,
     "input": [
      "def f(Y,t):\n",
      "    return array([Y[1],-Y[0]])"
     ],
     "language": "python",
     "metadata": {},
     "outputs": []
    },
    {
     "cell_type": "code",
     "collapsed": false,
     "input": [
      "def increment(f1,f2,f3):\n",
      "    global h\n",
      "    return  h/12.*(23.*f1-16.*f2+5.*f3)"
     ],
     "language": "python",
     "metadata": {},
     "outputs": []
    },
    {
     "cell_type": "code",
     "collapsed": false,
     "input": [
      "\n",
      "numIter=1000\n",
      "h=0.01\n",
      "x=1.\n",
      "v=0.\n",
      "Y=np.array([x,v])\n",
      "f1 = f(Y,h)\n",
      "f2 = f1\n",
      "f3 = f1\n",
      "t=h\n",
      "gridSol=np.array([[t,Y[0],Y[1]]])\n",
      "y_=[cos(t)]\n",
      "x_=[t]\n",
      "for __ in range(numIter):\n",
      "    Y += increment(f1,f2,f3)\n",
      "   \n",
      "    t+=h\n",
      "    # Actualizar los valores de f1, f2 y f3 para la siguiente iteraci\u00f3n\n",
      "    f1, f2, f3 = f(Y,t), f1, f2\n",
      "    gridSol=np.append(gridSol,[[t,Y[0],Y[1]]],axis=0)\n",
      "    y_.append(cos(t))\n",
      "    x_.append(t)\n",
      "\n",
      "plt.plot(gridSol[:,0],gridSol[:,1],\"--\",label=\"sol\")\n",
      "\n",
      "plt.plot(x_,y_)\n",
      "plt.legend()\n",
      "#plt.xlim(0,1)\n",
      "#plt.ylim(0,2)\n",
      "plt.show()"
     ],
     "language": "python",
     "metadata": {},
     "outputs": []
    },
    {
     "cell_type": "code",
     "collapsed": false,
     "input": [
      "def error(h):\n",
      "    x=1.\n",
      "    v=0.\n",
      "    Y=np.array([x,v])\n",
      "    f1 = f(Y,h)\n",
      "    f2 = f1\n",
      "    f3 = f1\n",
      "    t=h\n",
      "    gridSol=np.array([[t,Y[0],Y[1]]])\n",
      "    y_=array([cos(t)])\n",
      "    x_=array([Y[0]])\n",
      "    for __ in range(numIter):\n",
      "        Y += increment(f1,f2,f3)\n",
      "        t+=h\n",
      "        # Actualizar los valores de f1, f2 y f3 para la siguiente iteraci\u00f3n\n",
      "        f1, f2, f3 = f(Y,t), f1, f2\n",
      "        gridSol=np.append(gridSol,[[t,Y[0],Y[1]]],axis=0)\n",
      "        y_=append(y_,[cos(t)])\n",
      "        x_=append(x_,[Y[0]])\n",
      "    absol=abs((x_-y_)/(y_))\n",
      "    error=np.mean(absol)\n",
      "    \n",
      "    return error\n",
      "h_=logspace(1,-5,1)\n",
      "for i in range(len(h_)):\n",
      "    yerror=error(h_[i])\n",
      "plot(h,yerror)"
     ],
     "language": "python",
     "metadata": {},
     "outputs": []
    }
   ],
   "metadata": {}
  }
 ]
}