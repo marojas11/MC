{
 "cells": [
  {
   "cell_type": "code",
   "execution_count": 6,
   "metadata": {
    "collapsed": false
   },
   "outputs": [
    {
     "name": "stdout",
     "output_type": "stream",
     "text": [
      "Populating the interactive namespace from numpy and matplotlib\n"
     ]
    },
    {
     "name": "stderr",
     "output_type": "stream",
     "text": [
      "WARNING: pylab import has clobbered these variables: ['Polygon', 'poly', 'cosh', 'flatten', 'conjugate', 'diff', 'Circle', 'tan', 'roots', 'plot', 'eye', 'trace', 'floor', 'diag', 'invert', 'nan', 'sqrt', 'source', 'add', 'zeros', 'take', 'var', 'prod', 'plotting', 'product', 'power', 'multinomial', 'transpose', 'test', 'beta', 'ones', 'sinh', 'vectorize', 'sign', 'trunc', 'cos', 'seterr', 'tanh', 'mod', 'det', 'pi', 'sin', 'binomial', 'solve', 'log', 'exp', 'reshape', 'gamma', 'interactive']\n",
      "`%matplotlib` prevents importing * from pylab and numpy\n"
     ]
    }
   ],
   "source": [
    "%pylab inline"
   ]
  },
  {
   "cell_type": "markdown",
   "metadata": {},
   "source": [
    "#Clase16\n",
    "##1/07/2015\n",
    "\n",
    "###ODEs-Adams-Bashforth- Calculos Simbolicos en Python"
   ]
  },
  {
   "cell_type": "code",
   "execution_count": 9,
   "metadata": {
    "collapsed": false
   },
   "outputs": [
    {
     "data": {
      "image/png": "[encoded data removed]",
      "text/latex": [
       "$$\\frac{7}{3}$$"
      ],
      "text/plain": [
       "7/3"
      ]
     },
     "execution_count": 9,
     "metadata": {},
     "output_type": "execute_result"
    }
   ],
   "source": [
    "from sympy import *\n",
    "init_printing(use_unicode=True)\n",
    "x=symbols('x')\n",
    "diff(x**2,x)\n",
    "\n",
    "\n",
    "integrate(x**2,(x,1,2))\n"
   ]
  },
  {
   "cell_type": "code",
   "execution_count": 14,
   "metadata": {
    "collapsed": false
   },
   "outputs": [
    {
     "data": {
      "image/png": "[encoded data removed]",
      "text/latex": [
       "$$\\frac{h}{2} \\left(3 fn - fn_{1}\\right)$$"
      ],
      "text/plain": [
       "h⋅(3⋅fn - fn₁)\n",
       "──────────────\n",
       "      2       "
      ]
     },
     "execution_count": 14,
     "metadata": {},
     "output_type": "execute_result"
    }
   ],
   "source": [
    "t,fn,fn1,h,tn,tn1=symbols('t fn fn1 h tn tn1')\n",
    "tn1=tn-h\n",
    "\n",
    "simplify(integrate(fn1*(t-tn)/(tn1-tn)+fn*(t-tn1)/(tn-tn1), (t,tn,tn+h)))"
   ]
  },
  {
   "cell_type": "code",
   "execution_count": 16,
   "metadata": {
    "collapsed": false
   },
   "outputs": [
    {
     "data": {
      "image/png": "[encoded data removed]",
      "text/latex": [
       "$$\\frac{h}{12} \\left(23 fn - 16 fn_{1} + 5 fn_{2}\\right)$$"
      ],
      "text/plain": [
       "h⋅(23⋅fn - 16⋅fn₁ + 5⋅fn₂)\n",
       "──────────────────────────\n",
       "            12            "
      ]
     },
     "execution_count": 16,
     "metadata": {},
     "output_type": "execute_result"
    }
   ],
   "source": [
    "t,fn,fn1,fn2,h,tn,tn1,tn2=symbols('t fn fn1 fn2 h tn tn1 tn2')\n",
    "tn1=tn-h\n",
    "tn2=tn1-h\n",
    "\n",
    "simplify(integrate(fn1*(t-tn)*(t-tn2)/((tn1-tn)*(tn1-tn2))+fn*(t-tn1)*(t-tn2)/((tn-tn1)*(tn-tn2))+fn2*(t-tn1)*(t-tn)/((tn2-tn1)*(tn2-tn)), (t,tn,tn+h)))"
   ]
  },
  {
   "cell_type": "code",
   "execution_count": 17,
   "metadata": {
    "collapsed": false
   },
   "outputs": [
    {
     "data": {
      "image/png": "[encoded data removed]",
      "text/latex": [
       "$$\\frac{h}{24} \\left(55 fn - 59 fn_{1} + 37 fn_{2} - 9 fn_{3}\\right)$$"
      ],
      "text/plain": [
       "h⋅(55⋅fn - 59⋅fn₁ + 37⋅fn₂ - 9⋅fn₃)\n",
       "───────────────────────────────────\n",
       "                 24                "
      ]
     },
     "execution_count": 17,
     "metadata": {},
     "output_type": "execute_result"
    }
   ],
   "source": [
    "t,fn,fn1,fn2,fn3,h,tn,tn1,tn2,tn3=symbols('t fn fn1 fn2 fn3 h tn tn1 tn2 tn3')\n",
    "tn1=tn-h\n",
    "tn2=tn1-h\n",
    "tn3=tn2-h\n",
    "\n",
    "simplify(integrate(fn1*(t-tn)*(t-tn2)*(t-tn3)/((tn1-tn)*(tn1-tn2)*(tn1-tn3))+fn*(t-tn1)*(t-tn2)*(t-tn3)/((tn-tn1)*(tn-tn2)*(tn-tn3))+fn2*(t-tn1)*(t-tn)*(t-tn3)/((tn2-tn1)*(tn2-tn)*(tn2-tn3))+fn3*(t-tn1)*(t-tn)*(t-tn2)/((tn3-tn1)*(tn3-tn)*(tn3-tn2)), (t,tn,tn+h)))"
   ]
  },
  {
   "cell_type": "code",
   "execution_count": 30,
   "metadata": {
    "collapsed": true
   },
   "outputs": [],
   "source": [
    "def f(Y,t):\n",
    "    return array([Y[1],-Y[0]])"
   ]
  },
  {
   "cell_type": "code",
   "execution_count": 31,
   "metadata": {
    "collapsed": true
   },
   "outputs": [],
   "source": [
    "def increment(f1,f2,f3):\n",
    "    global h\n",
    "    return  h/12.*(23.*f1-16.*f2+5.*f3)"
   ]
  },
  {
   "cell_type": "code",
   "execution_count": 68,
   "metadata": {
    "collapsed": false
   },
   "outputs": [
    {
     "data": {
      "image/png": "[encoded data removed]",
      "text/plain": [
       "<matplotlib.figure.Figure at 0x7f29d5cb8250>"
      ]
     },
     "metadata": {},
     "output_type": "display_data"
    }
   ],
   "source": [
    "\n",
    "numIter=1000\n",
    "h=0.01\n",
    "x=1.\n",
    "v=0.\n",
    "Y=np.array([x,v])\n",
    "f1 = f(Y,h)\n",
    "f2 = f1\n",
    "f3 = f1\n",
    "t=h\n",
    "gridSol=np.array([[t,Y[0],Y[1]]])\n",
    "y_=[cos(t)]\n",
    "x_=[t]\n",
    "for __ in range(numIter):\n",
    "    Y += increment(f1,f2,f3)\n",
    "   \n",
    "    t+=h\n",
    "    # Actualizar los valores de f1, f2 y f3 para la siguiente iteración\n",
    "    f1, f2, f3 = f(Y,t), f1, f2\n",
    "    gridSol=np.append(gridSol,[[t,Y[0],Y[1]]],axis=0)\n",
    "    y_.append(cos(t))\n",
    "    x_.append(t)\n",
    "\n",
    "plt.plot(gridSol[:,0],gridSol[:,1],\"--\",label=\"sol\")\n",
    "\n",
    "plt.plot(x_,y_)\n",
    "plt.legend()\n",
    "#plt.xlim(0,1)\n",
    "#plt.ylim(0,2)\n",
    "plt.show()"
   ]
  },
  {
   "cell_type": "code",
   "execution_count": null,
   "metadata": {
    "collapsed": false
   },
   "outputs": [],
   "source": [
    "def error(h):\n",
    "    x=1.\n",
    "    v=0.\n",
    "    Y=np.array([x,v])\n",
    "    f1 = f(Y,h)\n",
    "    f2 = f1\n",
    "    f3 = f1\n",
    "    t=h\n",
    "    gridSol=np.array([[t,Y[0],Y[1]]])\n",
    "    y_=array([cos(t)])\n",
    "    x_=array([Y[0]])\n",
    "    for __ in range(numIter):\n",
    "        Y += increment(f1,f2,f3)\n",
    "        t+=h\n",
    "        # Actualizar los valores de f1, f2 y f3 para la siguiente iteración\n",
    "        f1, f2, f3 = f(Y,t), f1, f2\n",
    "        gridSol=np.append(gridSol,[[t,Y[0],Y[1]]],axis=0)\n",
    "        y_=append(y_,[cos(t)])\n",
    "        x_=append(x_,[Y[0]])\n",
    "    absol=abs((x_-y_)/(y_))\n",
    "    error=np.mean(absol)\n",
    "    \n",
    "    return error\n",
    "h_=logspace(1,-5,1)\n",
    "for i in range(len(h_)):\n",
    "    yerror=error(h_[i])\n",
    "plot(h,yerror)"
   ]
  },
  {
   "cell_type": "code",
   "execution_count": null,
   "metadata": {
    "collapsed": true
   },
   "outputs": [],
   "source": []
  }
 ],
 "metadata": {
  "kernelspec": {
   "display_name": "Python 2",
   "language": "python",
   "name": "python2"
  },
  "language_info": {
   "codemirror_mode": {
    "name": "ipython",
    "version": 2
   },
   "file_extension": ".py",
   "mimetype": "text/x-python",
   "name": "python",
   "nbconvert_exporter": "python",
   "pygments_lexer": "ipython2",
   "version": "2.7.8"
  },
  "name": "2015-07-01-102913.ipynb"
 },
 "nbformat": 4,
 "nbformat_minor": 0
}
