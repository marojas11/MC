{
 "cells": [
  {
   "cell_type": "markdown",
   "metadata": {},
   "source": [
    "#Hands On 13\n",
    "##1/07/2015\n",
    "\n",
    "###ODEs-Adams-Bashforth- Calculos Simbolicos en Python"
   ]
  },
  {
   "cell_type": "code",
   "execution_count": 2,
   "metadata": {
    "collapsed": false
   },
   "outputs": [
    {
     "name": "stdout",
     "output_type": "stream",
     "text": [
      "Populating the interactive namespace from numpy and matplotlib\n"
     ]
    }
   ],
   "source": [
    "%pylab inline"
   ]
  },
  {
   "cell_type": "code",
   "execution_count": 2,
   "metadata": {
    "collapsed": false
   },
   "outputs": [
    {
     "data": {
      "image/png": "[encoded data removed]",
      "text/latex": [
       "$$\\frac{7}{3}$$"
      ],
      "text/plain": [
       "7/3"
      ]
     },
     "execution_count": 2,
     "metadata": {},
     "output_type": "execute_result"
    }
   ],
   "source": [
    "from sympy import *\n",
    "init_printing(use_unicode=True)\n",
    "x=symbols('x')\n",
    "diff(x**2,x)\n",
    "\n",
    "\n",
    "integrate(x**2,(x,1,2))\n"
   ]
  },
  {
   "cell_type": "code",
   "execution_count": 3,
   "metadata": {
    "collapsed": false
   },
   "outputs": [
    {
     "data": {
      "image/png": "[encoded data removed]",
      "text/latex": [
       "$$\\frac{h}{2} \\left(3 fn - fn_{1}\\right)$$"
      ],
      "text/plain": [
       "h⋅(3⋅fn - fn₁)\n",
       "──────────────\n",
       "      2       "
      ]
     },
     "execution_count": 3,
     "metadata": {},
     "output_type": "execute_result"
    }
   ],
   "source": [
    "t,fn,fn1,h,tn,tn1=symbols('t fn fn1 h tn tn1')\n",
    "tn1=tn-h\n",
    "\n",
    "simplify(integrate(fn1*(t-tn)/(tn1-tn)+fn*(t-tn1)/(tn-tn1), (t,tn,tn+h)))"
   ]
  },
  {
   "cell_type": "code",
   "execution_count": 4,
   "metadata": {
    "collapsed": false
   },
   "outputs": [
    {
     "data": {
      "image/png": "[encoded data removed]",
      "text/latex": [
       "$$\\frac{h}{12} \\left(23 fn - 16 fn_{1} + 5 fn_{2}\\right)$$"
      ],
      "text/plain": [
       "h⋅(23⋅fn - 16⋅fn₁ + 5⋅fn₂)\n",
       "──────────────────────────\n",
       "            12            "
      ]
     },
     "execution_count": 4,
     "metadata": {},
     "output_type": "execute_result"
    }
   ],
   "source": [
    "t,fn,fn1,fn2,h,tn,tn1,tn2=symbols('t fn fn1 fn2 h tn tn1 tn2')\n",
    "tn1=tn-h\n",
    "tn2=tn1-h\n",
    "\n",
    "simplify(integrate(fn1*(t-tn)*(t-tn2)/((tn1-tn)*(tn1-tn2))+fn*(t-tn1)*(t-tn2)/((tn-tn1)*(tn-tn2))+fn2*(t-tn1)*(t-tn)/((tn2-tn1)*(tn2-tn)), (t,tn,tn+h)))"
   ]
  },
  {
   "cell_type": "code",
   "execution_count": 5,
   "metadata": {
    "collapsed": false
   },
   "outputs": [
    {
     "data": {
      "image/png": "[encoded data removed]",
      "text/latex": [
       "$$\\frac{h}{24} \\left(55 fn - 59 fn_{1} + 37 fn_{2} - 9 fn_{3}\\right)$$"
      ],
      "text/plain": [
       "h⋅(55⋅fn - 59⋅fn₁ + 37⋅fn₂ - 9⋅fn₃)\n",
       "───────────────────────────────────\n",
       "                 24                "
      ]
     },
     "execution_count": 5,
     "metadata": {},
     "output_type": "execute_result"
    }
   ],
   "source": [
    "t,fn,fn1,fn2,fn3,h,tn,tn1,tn2,tn3=symbols('t fn fn1 fn2 fn3 h tn tn1 tn2 tn3')\n",
    "tn1=tn-h\n",
    "tn2=tn1-h\n",
    "tn3=tn2-h\n",
    "\n",
    "simplify(integrate(fn1*(t-tn)*(t-tn2)*(t-tn3)/((tn1-tn)*(tn1-tn2)*(tn1-tn3))+fn*(t-tn1)*(t-tn2)*(t-tn3)/((tn-tn1)*(tn-tn2)*(tn-tn3))+fn2*(t-tn1)*(t-tn)*(t-tn3)/((tn2-tn1)*(tn2-tn)*(tn2-tn3))+fn3*(t-tn1)*(t-tn)*(t-tn2)/((tn3-tn1)*(tn3-tn)*(tn3-tn2)), (t,tn,tn+h)))"
   ]
  },
  {
   "cell_type": "code",
   "execution_count": 6,
   "metadata": {
    "collapsed": true
   },
   "outputs": [],
   "source": [
    "def f(Y,t):\n",
    "    return array([Y[1],-Y[0]])"
   ]
  },
  {
   "cell_type": "code",
   "execution_count": 7,
   "metadata": {
    "collapsed": true
   },
   "outputs": [],
   "source": [
    "def increment(f1,f2,f3):\n",
    "    global h\n",
    "    return  h/12.*(23.*f1-16.*f2+5.*f3)"
   ]
  },
  {
   "cell_type": "code",
   "execution_count": 8,
   "metadata": {
    "collapsed": false
   },
   "outputs": [
    {
     "data": {
      "image/png": "[encoded data removed]",
      "text/plain": [
       "<matplotlib.figure.Figure at 0x7f58035e36d0>"
      ]
     },
     "metadata": {},
     "output_type": "display_data"
    }
   ],
   "source": [
    "\n",
    "numIter=1000\n",
    "h=0.01\n",
    "x=1.\n",
    "v=0.\n",
    "Y=np.array([x,v])\n",
    "f1 = f(Y,h)\n",
    "f2 = f1\n",
    "f3 = f1\n",
    "t=h\n",
    "gridSol=np.array([[t,Y[0],Y[1]]])\n",
    "y_=[cos(t)]\n",
    "x_=[t]\n",
    "for __ in range(numIter):\n",
    "    Y += increment(f1,f2,f3)\n",
    "   \n",
    "    t+=h\n",
    "    # Actualizar los valores de f1, f2 y f3 para la siguiente iteración\n",
    "    f1, f2, f3 = f(Y,t), f1, f2\n",
    "    gridSol=np.append(gridSol,[[t,Y[0],Y[1]]],axis=0)\n",
    "    y_.append(cos(t))\n",
    "    x_.append(t)\n",
    "\n",
    "plt.plot(gridSol[:,0],gridSol[:,1],\"--\",label=\"sol\")\n",
    "\n",
    "plt.plot(x_,y_)\n",
    "plt.legend()\n",
    "#plt.xlim(0,1)\n",
    "#plt.ylim(0,2)\n",
    "plt.show()"
   ]
  },
  {
   "cell_type": "code",
   "execution_count": 9,
   "metadata": {
    "collapsed": false
   },
   "outputs": [
    {
     "ename": "TypeError",
     "evalue": "__init__() takes exactly 3 arguments (2 given)",
     "output_type": "error",
     "traceback": [
      "\u001b[1;31m---------------------------------------------------------------------------\u001b[0m",
      "\u001b[1;31mTypeError\u001b[0m                                 Traceback (most recent call last)",
      "\u001b[1;32m<ipython-input-9-0361074281af>\u001b[0m in \u001b[0;36m<module>\u001b[1;34m()\u001b[0m\n\u001b[0;32m     25\u001b[0m \u001b[1;32mfor\u001b[0m \u001b[0mi\u001b[0m \u001b[1;32min\u001b[0m \u001b[0mrange\u001b[0m\u001b[1;33m(\u001b[0m\u001b[0mlen\u001b[0m\u001b[1;33m(\u001b[0m\u001b[0mh_\u001b[0m\u001b[1;33m)\u001b[0m\u001b[1;33m)\u001b[0m\u001b[1;33m:\u001b[0m\u001b[1;33m\u001b[0m\u001b[0m\n\u001b[0;32m     26\u001b[0m     \u001b[0myerror\u001b[0m\u001b[1;33m=\u001b[0m\u001b[0merror\u001b[0m\u001b[1;33m(\u001b[0m\u001b[0mh_\u001b[0m\u001b[1;33m[\u001b[0m\u001b[0mi\u001b[0m\u001b[1;33m]\u001b[0m\u001b[1;33m)\u001b[0m\u001b[1;33m\u001b[0m\u001b[0m\n\u001b[1;32m---> 27\u001b[1;33m \u001b[0mplot\u001b[0m\u001b[1;33m(\u001b[0m\u001b[0mh\u001b[0m\u001b[1;33m,\u001b[0m\u001b[0myerror\u001b[0m\u001b[1;33m)\u001b[0m\u001b[1;33m\u001b[0m\u001b[0m\n\u001b[0m",
      "\u001b[1;32m/projects/sage/sage-6.7/local/lib/python2.7/site-packages/sympy/plotting/plot.pyc\u001b[0m in \u001b[0;36mplot\u001b[1;34m(*args, **kwargs)\u001b[0m\n\u001b[0;32m   1274\u001b[0m     \u001b[0mseries\u001b[0m \u001b[1;33m=\u001b[0m \u001b[1;33m[\u001b[0m\u001b[1;33m]\u001b[0m\u001b[1;33m\u001b[0m\u001b[0m\n\u001b[0;32m   1275\u001b[0m     \u001b[0mplot_expr\u001b[0m \u001b[1;33m=\u001b[0m \u001b[0mcheck_arguments\u001b[0m\u001b[1;33m(\u001b[0m\u001b[0margs\u001b[0m\u001b[1;33m,\u001b[0m \u001b[1;36m1\u001b[0m\u001b[1;33m,\u001b[0m \u001b[1;36m1\u001b[0m\u001b[1;33m)\u001b[0m\u001b[1;33m\u001b[0m\u001b[0m\n\u001b[1;32m-> 1276\u001b[1;33m     \u001b[0mseries\u001b[0m \u001b[1;33m=\u001b[0m \u001b[1;33m[\u001b[0m\u001b[0mLineOver1DRangeSeries\u001b[0m\u001b[1;33m(\u001b[0m\u001b[1;33m*\u001b[0m\u001b[0marg\u001b[0m\u001b[1;33m,\u001b[0m \u001b[1;33m**\u001b[0m\u001b[0mkwargs\u001b[0m\u001b[1;33m)\u001b[0m \u001b[1;32mfor\u001b[0m \u001b[0marg\u001b[0m \u001b[1;32min\u001b[0m \u001b[0mplot_expr\u001b[0m\u001b[1;33m]\u001b[0m\u001b[1;33m\u001b[0m\u001b[0m\n\u001b[0m\u001b[0;32m   1277\u001b[0m \u001b[1;33m\u001b[0m\u001b[0m\n\u001b[0;32m   1278\u001b[0m     \u001b[0mplots\u001b[0m \u001b[1;33m=\u001b[0m \u001b[0mPlot\u001b[0m\u001b[1;33m(\u001b[0m\u001b[1;33m*\u001b[0m\u001b[0mseries\u001b[0m\u001b[1;33m,\u001b[0m \u001b[1;33m**\u001b[0m\u001b[0mkwargs\u001b[0m\u001b[1;33m)\u001b[0m\u001b[1;33m\u001b[0m\u001b[0m\n",
      "\u001b[1;31mTypeError\u001b[0m: __init__() takes exactly 3 arguments (2 given)"
     ]
    }
   ],
   "source": [
    "def error(h):\n",
    "    x=1.\n",
    "    v=0.\n",
    "    Y=np.array([x,v])\n",
    "    f1 = f(Y,h)\n",
    "    f2 = f1\n",
    "    f3 = f1\n",
    "    t=h\n",
    "    gridSol=np.array([[t,Y[0],Y[1]]])\n",
    "    y_=array([cos(t)])\n",
    "    x_=array([Y[0]])\n",
    "    for __ in range(numIter):\n",
    "        Y += increment(f1,f2,f3)\n",
    "        t+=h\n",
    "        # Actualizar los valores de f1, f2 y f3 para la siguiente iteración\n",
    "        f1, f2, f3 = f(Y,t), f1, f2\n",
    "        gridSol=np.append(gridSol,[[t,Y[0],Y[1]]],axis=0)\n",
    "        y_=append(y_,[cos(t)])\n",
    "        x_=append(x_,[Y[0]])\n",
    "    absol=abs((x_-y_)/(y_))\n",
    "    error=np.mean(absol)\n",
    "    \n",
    "    return error\n",
    "h_=logspace(1,-5,1)\n",
    "for i in range(len(h_)):\n",
    "    yerror=error(h_[i])\n",
    "plot(h,yerror)"
   ]
  },
  {
   "cell_type": "markdown",
   "metadata": {},
   "source": [
    "###odeint\n",
    "\n",
    "Resuelva con odeint la ecuación diferencial del oscilador amortiguado tomando ω₀=1 y analizando los casos de subamortiguamiento $(\\zeta<1 )$, amortiguamiento crítico $( \\zeta=1 )$ y sobreamortiguamiento $( 1<\\zeta)$ .\n",
    "\n",
    "$ \\frac{\\mathrm{d}^2x}{\\mathrm{d}t^2} + 2\\zeta\\omega_0\\frac{\\mathrm{d}x}{\\mathrm{d}t} + \\omega_0^{\\,2} x $\n",
    "\n",
    "\n",
    "$ \\frac{\\mathrm{d}^2x}{\\mathrm{d}t^2}= f(x,\\frac{\\mathrm{d}x}{\\mathrm{d}t})= - 2\\zeta\\omega_0\\frac{\\mathrm{d}x}{\\mathrm{d}t} - \\omega_0^{\\,2} x$\n"
   ]
  },
  {
   "cell_type": "code",
   "execution_count": 36,
   "metadata": {
    "collapsed": false
   },
   "outputs": [
    {
     "name": "stdout",
     "output_type": "stream",
     "text": [
      "Integration successful.\n",
      "Integration successful.\n",
      "Integration successful.\n"
     ]
    },
    {
     "data": {
      "text/plain": [
       "<matplotlib.legend.Legend at 0x7f652da2c9d0>"
      ]
     },
     "execution_count": 36,
     "metadata": {},
     "output_type": "execute_result"
    },
    {
     "data": {
      "image/png": "[encoded data removed]",
      "text/plain": [
       "<matplotlib.figure.Figure at 0x7f652d3eeb50>"
      ]
     },
     "metadata": {},
     "output_type": "display_data"
    }
   ],
   "source": [
    "from scipy.integrate import odeint\n",
    "\n",
    "def secdif(Y,t):\n",
    "    global zeta, w\n",
    "    return array([Y[1],-2.*zeta*w*Y[1]- Y[0]*w**2])\n",
    "\n",
    "#Subamortiguamiento\n",
    "zeta=0.5\n",
    "w=1.\n",
    "times=linspace(0,10,100)\n",
    "\n",
    "result1=odeint(secdif,[1,0],times,printmessg=True )\n",
    "\n",
    "plot(times,result1[:,0],label=('sub'))\n",
    "\n",
    "#Critico amortiguamiento\n",
    "zeta=1.\n",
    "w=1.\n",
    "\n",
    "\n",
    "result2=odeint(secdif,[1,0],times,printmessg=True )\n",
    "\n",
    "plot(times,result2[:,0],label=('critic'))\n",
    "\n",
    "#Sobreamortiguamiento\n",
    "zeta=1.5\n",
    "w=1.\n",
    "\n",
    "\n",
    "result3=odeint(secdif,[1,0],times,printmessg=True )\n",
    "\n",
    "plot(times,result3[:,0],label=('sobre'))\n",
    "legend()"
   ]
  },
  {
   "cell_type": "code",
   "execution_count": null,
   "metadata": {
    "collapsed": true
   },
   "outputs": [],
   "source": []
  }
 ],
 "metadata": {
  "kernelspec": {
   "display_name": "Python 2",
   "language": "python",
   "name": "python2"
  },
  "language_info": {
   "codemirror_mode": {
    "name": "ipython",
    "version": 2
   },
   "file_extension": ".py",
   "mimetype": "text/x-python",
   "name": "python",
   "nbconvert_exporter": "python",
   "pygments_lexer": "ipython2",
   "version": "2.7.8"
  },
  "name": "2015-07-01-102913.ipynb"
 },
 "nbformat": 4,
 "nbformat_minor": 0
}
