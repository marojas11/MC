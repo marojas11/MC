{
 "metadata": {
  "name": "",
  "signature": "sha256:81b64bf998e404a756557c41d8c874fce4d6b91a75d3461cf3761b6615dcf295"
 },
 "nbformat": 3,
 "nbformat_minor": 0,
 "worksheets": [
  {
   "cells": [
    {
     "cell_type": "markdown",
     "metadata": {},
     "source": [
      "#Hands On 13\n",
      "##1/07/2015\n",
      "\n",
      "###ODEs-Adams-Bashforth- Calculos Simbolicos en Python"
     ]
    },
    {
     "cell_type": "code",
     "collapsed": false,
     "input": [
      "%pylab inline"
     ],
     "language": "python",
     "metadata": {},
     "outputs": [
      {
       "output_type": "stream",
       "stream": "stdout",
       "text": [
        "Populating the interactive namespace from numpy and matplotlib\n"
       ]
      }
     ],
     "prompt_number": 1
    },
    {
     "cell_type": "code",
     "collapsed": false,
     "input": [
      "from sympy import *\n",
      "init_printing(use_unicode=True)\n",
      "diff(x**2,x)\n",
      "x=simbols('x')\n",
      "integrate(x**2,(x,1,2))\n",
      "\n"
     ],
     "language": "python",
     "metadata": {},
     "outputs": [
      {
       "ename": "ImportError",
       "evalue": "No module named sympy",
       "output_type": "pyerr",
       "traceback": [
        "\u001b[1;31m---------------------------------------------------------------------------\u001b[0m\n\u001b[1;31mImportError\u001b[0m                               Traceback (most recent call last)",
        "\u001b[1;32m<ipython-input-6-bcdb1dcffbd0>\u001b[0m in \u001b[0;36m<module>\u001b[1;34m()\u001b[0m\n\u001b[1;32m----> 1\u001b[1;33m \u001b[1;32mfrom\u001b[0m \u001b[0msympy\u001b[0m \u001b[1;32mimport\u001b[0m \u001b[1;33m*\u001b[0m\u001b[1;33m\u001b[0m\u001b[0m\n\u001b[0m\u001b[0;32m      2\u001b[0m \u001b[0minit_printing\u001b[0m\u001b[1;33m(\u001b[0m\u001b[0muse_unicode\u001b[0m\u001b[1;33m=\u001b[0m\u001b[0mTrue\u001b[0m\u001b[1;33m)\u001b[0m\u001b[1;33m\u001b[0m\u001b[0m\n\u001b[0;32m      3\u001b[0m \u001b[0mdiff\u001b[0m\u001b[1;33m(\u001b[0m\u001b[0mx\u001b[0m\u001b[1;33m**\u001b[0m\u001b[1;36m2\u001b[0m\u001b[1;33m,\u001b[0m\u001b[0mx\u001b[0m\u001b[1;33m)\u001b[0m\u001b[1;33m\u001b[0m\u001b[0m\n\u001b[0;32m      4\u001b[0m \u001b[0mx\u001b[0m\u001b[1;33m=\u001b[0m\u001b[0msimbols\u001b[0m\u001b[1;33m(\u001b[0m\u001b[1;34m'x'\u001b[0m\u001b[1;33m)\u001b[0m\u001b[1;33m\u001b[0m\u001b[0m\n\u001b[0;32m      5\u001b[0m \u001b[0mintegrate\u001b[0m\u001b[1;33m(\u001b[0m\u001b[0mx\u001b[0m\u001b[1;33m**\u001b[0m\u001b[1;36m2\u001b[0m\u001b[1;33m,\u001b[0m\u001b[1;33m(\u001b[0m\u001b[0mx\u001b[0m\u001b[1;33m,\u001b[0m\u001b[1;36m1\u001b[0m\u001b[1;33m,\u001b[0m\u001b[1;36m2\u001b[0m\u001b[1;33m)\u001b[0m\u001b[1;33m)\u001b[0m\u001b[1;33m\u001b[0m\u001b[0m\n",
        "\u001b[1;31mImportError\u001b[0m: No module named sympy"
       ]
      }
     ],
     "prompt_number": 6
    },
    {
     "cell_type": "code",
     "collapsed": false,
     "input": [
      "t,fn,fn1,h,tn,tn1=symbols('t fn fn1 h tn tn1')\n",
      "tn1=tn-h\n",
      "\n",
      "simplify(integrate(fn1*(t-tn)/(tn1-tn)+fn*(t-tn1)/(tn-tn1), (t,tn,tn+h)))"
     ],
     "language": "python",
     "metadata": {},
     "outputs": []
    },
    {
     "cell_type": "code",
     "collapsed": false,
     "input": [
      "t,fn,fn1,fn2,h,tn,tn1,tn2=symbols('t fn fn1 fn2 h tn tn1 tn2')\n",
      "tn1=tn-h\n",
      "tn2=tn1-h\n",
      "\n",
      "simplify(integrate(fn1*(t-tn)*(t-tn2)/((tn1-tn)*(tn1-tn2))+fn*(t-tn1)*(t-tn2)/((tn-tn1)*(tn-tn2))+fn2*(t-tn1)*(t-tn)/((tn2-tn1)*(tn2-tn)), (t,tn,tn+h)))"
     ],
     "language": "python",
     "metadata": {},
     "outputs": []
    },
    {
     "cell_type": "code",
     "collapsed": false,
     "input": [
      "t,fn,fn1,fn2,fn3,h,tn,tn1,tn2,tn3=symbols('t fn fn1 fn2 fn3 h tn tn1 tn2 tn3')\n",
      "tn1=tn-h\n",
      "tn2=tn1-h\n",
      "tn3=tn2-h\n",
      "\n",
      "simplify(integrate(fn1*(t-tn)*(t-tn2)*(t-tn3)/((tn1-tn)*(tn1-tn2)*(tn1-tn3))+fn*(t-tn1)*(t-tn2)*(t-tn3)/((tn-tn1)*(tn-tn2)*(tn-tn3))+fn2*(t-tn1)*(t-tn)*(t-tn3)/((tn2-tn1)*(tn2-tn)*(tn2-tn3))+fn3*(t-tn1)*(t-tn)*(t-tn2)/((tn3-tn1)*(tn3-tn)*(tn3-tn2)), (t,tn,tn+h)))"
     ],
     "language": "python",
     "metadata": {},
     "outputs": []
    },
    {
     "cell_type": "code",
     "collapsed": false,
     "input": [
      "def f(Y,t):\n",
      "    return array([Y[1],-Y[0]])"
     ],
     "language": "python",
     "metadata": {},
     "outputs": []
    },
    {
     "cell_type": "code",
     "collapsed": false,
     "input": [
      "def increment(f1,f2,f3):\n",
      "    global h\n",
      "    return  h/12.*(23.*f1-16.*f2+5.*f3)"
     ],
     "language": "python",
     "metadata": {},
     "outputs": []
    },
    {
     "cell_type": "code",
     "collapsed": false,
     "input": [
      "\n",
      "numIter=1000\n",
      "h=0.01\n",
      "x=1.\n",
      "v=0.\n",
      "Y=np.array([x,v])\n",
      "f1 = f(Y,h)\n",
      "f2 = f1\n",
      "f3 = f1\n",
      "t=h\n",
      "gridSol=np.array([[t,Y[0],Y[1]]])\n",
      "y_=[cos(t)]\n",
      "x_=[t]\n",
      "for __ in range(numIter):\n",
      "    Y += increment(f1,f2,f3)\n",
      "   \n",
      "    t+=h\n",
      "    # Actualizar los valores de f1, f2 y f3 para la siguiente iteraci\u00f3n\n",
      "    f1, f2, f3 = f(Y,t), f1, f2\n",
      "    gridSol=np.append(gridSol,[[t,Y[0],Y[1]]],axis=0)\n",
      "    y_.append(cos(t))\n",
      "    x_.append(t)\n",
      "\n",
      "plt.plot(gridSol[:,0],gridSol[:,1],\"--\",label=\"sol\")\n",
      "\n",
      "plt.plot(x_,y_)\n",
      "plt.legend()\n",
      "#plt.xlim(0,1)\n",
      "#plt.ylim(0,2)\n",
      "plt.show()"
     ],
     "language": "python",
     "metadata": {},
     "outputs": []
    },
    {
     "cell_type": "code",
     "collapsed": false,
     "input": [
      "def error(h):\n",
      "    x=1.\n",
      "    v=0.\n",
      "    Y=np.array([x,v])\n",
      "    f1 = f(Y,h)\n",
      "    f2 = f1\n",
      "    f3 = f1\n",
      "    t=h\n",
      "    gridSol=np.array([[t,Y[0],Y[1]]])\n",
      "    y_=array([cos(t)])\n",
      "    x_=array([Y[0]])\n",
      "    for __ in range(numIter):\n",
      "        Y += increment(f1,f2,f3)\n",
      "        t+=h\n",
      "        # Actualizar los valores de f1, f2 y f3 para la siguiente iteraci\u00f3n\n",
      "        f1, f2, f3 = f(Y,t), f1, f2\n",
      "        gridSol=np.append(gridSol,[[t,Y[0],Y[1]]],axis=0)\n",
      "        y_=append(y_,[cos(t)])\n",
      "        x_=append(x_,[Y[0]])\n",
      "    absol=abs((x_-y_)/(y_))\n",
      "    error=np.mean(absol)\n",
      "    \n",
      "    return error\n",
      "h_=logspace(1,-5,1)\n",
      "for i in range(len(h_)):\n",
      "    yerror=error(h_[i])\n",
      "plot(h,yerror)"
     ],
     "language": "python",
     "metadata": {},
     "outputs": []
    },
    {
     "cell_type": "markdown",
     "metadata": {},
     "source": [
      "##Odeint\n"
     ]
    },
    {
     "cell_type": "code",
     "collapsed": false,
     "input": [
      "from scipy.integrate import odeint\n",
      "\n",
      "def secdif(Y,t):\n",
      "    global zeta, w\n",
      "    return array([Y[1],-2.*zeta*w*Y[1]- Y[0]*w**2])\n",
      "\n",
      "#Subamortiguamiento\n",
      "zeta=0.5\n",
      "w=1.\n",
      "times=linspace(0,10,100)\n",
      "\n",
      "result1=odeint(secdif,[1,0],times,printmessg=True )\n",
      "\n",
      "plot(times,result1[:,0],label=('sub'))\n",
      "\n",
      "#Critico amortiguamiento\n",
      "zeta=1.\n",
      "w=1.\n",
      "\n",
      "\n",
      "result2=odeint(secdif,[1,0],times,printmessg=True )\n",
      "\n",
      "plot(times,result2[:,0],label=('critic'))\n",
      "\n",
      "#Sobreamortiguamiento\n",
      "zeta=1.5\n",
      "w=1.\n",
      "\n",
      "\n",
      "result3=odeint(secdif,[1,0],times,printmessg=True )\n",
      "\n",
      "plot(times,result3[:,0],label=('sobre'))\n",
      "legend()"
     ],
     "language": "python",
     "metadata": {},
     "outputs": [
      {
       "output_type": "stream",
       "stream": "stdout",
       "text": [
        "Integration successful.\n",
        "Integration successful."
       ]
      },
      {
       "output_type": "stream",
       "stream": "stdout",
       "text": [
        "\n",
        "Integration successful.\n"
       ]
      },
      {
       "metadata": {},
       "output_type": "pyout",
       "prompt_number": 2,
       "text": [
        "<matplotlib.legend.Legend at 0x58ccb90>"
       ]
      },
      {
       "metadata": {},
       "output_type": "display_data",
       "png": "[encoded data removed]",
       "text": [
        "<matplotlib.figure.Figure at 0x584d510>"
       ]
      }
     ],
     "prompt_number": 2
    }
   ],
   "metadata": {}
  }
 ]
}