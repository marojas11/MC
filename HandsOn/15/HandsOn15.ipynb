{
 "metadata": {
  "name": "",
  "signature": "sha256:2048eeb33c48fbd04b818d418579199b52993de3cb5e9b0914f81c77c669e3cf"
 },
 "nbformat": 3,
 "nbformat_minor": 0,
 "worksheets": [
  {
   "cells": [
    {
     "cell_type": "code",
     "collapsed": false,
     "input": [
      "%pylab inline\n",
      "import random\n",
      "import math"
     ],
     "language": "python",
     "metadata": {},
     "outputs": [
      {
       "output_type": "stream",
       "stream": "stdout",
       "text": [
        "Populating the interactive namespace from numpy and matplotlib\n"
       ]
      },
      {
       "output_type": "stream",
       "stream": "stderr",
       "text": [
        "WARNING: pylab import has clobbered these variables: ['random']\n",
        "`%matplotlib` prevents importing * from pylab and numpy\n"
       ]
      }
     ],
     "prompt_number": 61
    },
    {
     "cell_type": "code",
     "collapsed": false,
     "input": [
      "peruanos=10\n",
      "colombianos=10\n",
      "def cpc():\n",
      "    mesa=[]\n",
      "    for i in range(peruanos):\n",
      "        mesa.append(1)\n",
      "    for i in range(colombianos):\n",
      "        mesa.append(0)\n",
      "    random.shuffle(mesa)\n",
      "    print mesa\n",
      "\n",
      "    count=0\n",
      "    for i in range(-1,len(mesa)-1):\n",
      "        if mesa[i]!=mesa[i-1] and mesa[i]!=mesa[i+1] and mesa[i]==1:\n",
      "            count+=1.\n",
      "    return count\n",
      "\n"
     ],
     "language": "python",
     "metadata": {},
     "outputs": [],
     "prompt_number": 95
    },
    {
     "cell_type": "code",
     "collapsed": false,
     "input": [
      "rep=1000\n",
      "\n"
     ],
     "language": "python",
     "metadata": {},
     "outputs": []
    }
   ],
   "metadata": {}
  }
 ]
}