{
 "metadata": {
  "name": "",
  "signature": "sha256:0b0a075d834b5967fba2ac941fcdf8af8d96f2325bbf3436028643eb4ecdcaa7"
 },
 "nbformat": 3,
 "nbformat_minor": 0,
 "worksheets": [
  {
   "cells": [
    {
     "cell_type": "code",
     "collapsed": false,
     "input": [
      "%pylab inline\n"
     ],
     "language": "python",
     "metadata": {},
     "outputs": [
      {
       "output_type": "stream",
       "stream": "stdout",
       "text": [
        "Populating the interactive namespace from numpy and matplotlib\n"
       ]
      }
     ],
     "prompt_number": 1
    },
    {
     "cell_type": "code",
     "collapsed": false,
     "input": [
      "import random\n",
      "import math\n",
      "from scipy.misc import *"
     ],
     "language": "python",
     "metadata": {},
     "outputs": [],
     "prompt_number": 2
    },
    {
     "cell_type": "code",
     "collapsed": false,
     "input": [
      "peruanos=10\n",
      "\n",
      "def cpc(colombianos):\n",
      "    mesa=[]\n",
      "    for i in range(peruanos):\n",
      "        mesa.append(1)\n",
      "    for i in range(colombianos):\n",
      "        mesa.append(0)\n",
      "    random.shuffle(mesa)\n",
      "    \n",
      "\n",
      "    exitos=0.\n",
      "    totales=0.\n",
      "    \n",
      "    for i in range(-1,len(mesa)-1):\n",
      "        \n",
      "        if mesa[i]==1:\n",
      "            totales+=1\n",
      "            if mesa[i]!=mesa[i-1] and mesa[i]!=mesa[i+1] :\n",
      "                exitos+=1.\n",
      "    return exitos/totales\n",
      "\n",
      "def probCPC(col):\n",
      "    p=(col*(col-1.))/((col+9.)*(col+8.))\n",
      "    \n",
      "    return p\n",
      "        \n",
      "        "
     ],
     "language": "python",
     "metadata": {},
     "outputs": [],
     "prompt_number": 3
    },
    {
     "cell_type": "code",
     "collapsed": false,
     "input": [
      "cpcProb=vectorize(probCPC)\n",
      "col=range(2,60,1)\n",
      "plot(col,cpcProb(col))\n",
      "\n",
      "\n",
      "cpccev=vectorize(cpc)\n",
      "col=range(2,60,2)\n",
      "\n",
      "hist=zeros((len(col)))\n",
      "\n",
      "for i in range(1000):\n",
      "    hist+=cpccev(col)\n",
      "hist=hist/1000.\n",
      "\n",
      "scatter(col,hist)\n",
      "print hist[0], 1/60.\n"
     ],
     "language": "python",
     "metadata": {},
     "outputs": [
      {
       "output_type": "stream",
       "stream": "stdout",
       "text": [
        "0.0168 0.0166666666667\n"
       ]
      },
      {
       "metadata": {},
       "output_type": "display_data",
       "png": "[encoded data removed]",
       "text": [
        "<matplotlib.figure.Figure at 0x5eb6d30>"
       ]
      }
     ],
     "prompt_number": 4
    },
    {
     "cell_type": "code",
     "collapsed": false,
     "input": [],
     "language": "python",
     "metadata": {},
     "outputs": [],
     "prompt_number": 86
    },
    {
     "cell_type": "code",
     "collapsed": false,
     "input": [
      "scipy.misc.comb(10,0)"
     ],
     "language": "python",
     "metadata": {},
     "outputs": [
      {
       "metadata": {},
       "output_type": "pyout",
       "prompt_number": 108,
       "text": [
        "1.0"
       ]
      }
     ],
     "prompt_number": 108
    },
    {
     "cell_type": "code",
     "collapsed": false,
     "input": [],
     "language": "python",
     "metadata": {},
     "outputs": []
    }
   ],
   "metadata": {}
  }
 ]
}