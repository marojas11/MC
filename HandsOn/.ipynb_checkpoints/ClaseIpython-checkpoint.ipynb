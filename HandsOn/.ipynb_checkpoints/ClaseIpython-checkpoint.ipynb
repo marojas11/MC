{
 "metadata": {
  "name": "",
  "signature": "sha256:32f07c69bc40eb976aa2df5d94b630fff6084c1f76a9b62e78624c9cde0c0bce"
 },
 "nbformat": 3,
 "nbformat_minor": 0,
 "worksheets": [
  {
   "cells": [
    {
     "cell_type": "markdown",
     "metadata": {},
     "source": [
      "#Secci\u00f3n\n",
      "##Subsecci\u00f3n\n",
      "Hola este es mi cuaderno de ipython con markdown\n",
      "```\n",
      "print \"Codigo necesario para los cuadernos\"\n",
      "\n",
      "%pylab inline \n",
      "\n",
      "import matplotlib as mpl\n",
      "import numpy as np\n",
      "import scypy\n",
      "...\n",
      "```"
     ]
    },
    {
     "cell_type": "code",
     "collapsed": false,
     "input": [
      "%pylab inline\n"
     ],
     "language": "python",
     "metadata": {},
     "outputs": [
      {
       "output_type": "stream",
       "stream": "stdout",
       "text": [
        "Populating the interactive namespace from numpy and matplotlib\n"
       ]
      }
     ],
     "prompt_number": 1
    },
    {
     "cell_type": "code",
     "collapsed": false,
     "input": [
      "from matplotlib import animation\n"
     ],
     "language": "python",
     "metadata": {},
     "outputs": [],
     "prompt_number": 2
    },
    {
     "cell_type": "code",
     "collapsed": false,
     "input": [
      "#coreo=genfromtxt"
     ],
     "language": "python",
     "metadata": {},
     "outputs": [],
     "prompt_number": 1
    }
   ],
   "metadata": {}
  }
 ]
}