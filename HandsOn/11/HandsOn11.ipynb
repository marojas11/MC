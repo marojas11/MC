{
 "metadata": {
  "name": "",
  "signature": "sha256:6635a567984319d89a0efba89a36186454f7400c7ea52f6d220163dfc13b27c7"
 },
 "nbformat": 3,
 "nbformat_minor": 0,
 "worksheets": [
  {
   "cells": [
    {
     "cell_type": "code",
     "collapsed": false,
     "input": [
      "%pylab inline\n"
     ],
     "language": "python",
     "metadata": {},
     "outputs": [
      {
       "output_type": "stream",
       "stream": "stdout",
       "text": [
        "Populating the interactive namespace from numpy and matplotlib\n"
       ]
      }
     ],
     "prompt_number": 1
    },
    {
     "cell_type": "code",
     "collapsed": false,
     "input": [
      "def simpsonThreeOctaves (integrand,x0,x3,m):\n",
      "    h=(x3-x0)/(3*m)\n",
      "    k=range(1,m+1)\n",
      "    x=linspace(x0,x3,3*m+1)\n",
      "    \n",
      "    simp = 3.*h/8.*sum(integrand(x[0:-3:3]),3*integrand(x[1:-2:3]),3*integrand(x[2:-1:3]),integrand(x[3::3]))\n"
     ],
     "language": "python",
     "metadata": {},
     "outputs": [],
     "prompt_number": 36
    },
    {
     "cell_type": "code",
     "collapsed": false,
     "input": [
      "x=linspace(0,12,12+1)\n",
      "print x\n",
      "print x[3::3]"
     ],
     "language": "python",
     "metadata": {},
     "outputs": [
      {
       "output_type": "stream",
       "stream": "stdout",
       "text": [
        "[  0.   1.   2.   3.   4.   5.   6.   7.   8.   9.  10.  11.  12.]\n",
        "[  3.   6.   9.  12.]\n"
       ]
      }
     ],
     "prompt_number": 35
    },
    {
     "cell_type": "code",
     "collapsed": false,
     "input": [],
     "language": "python",
     "metadata": {},
     "outputs": []
    }
   ],
   "metadata": {}
  }
 ]
}