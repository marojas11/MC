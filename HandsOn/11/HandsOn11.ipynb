{
 "metadata": {
  "name": "",
  "signature": "sha256:ed8f64742cc34c076a07aaa3139ce3352ef5e069cc3e1c5e10a586cf3d3f0648"
 },
 "nbformat": 3,
 "nbformat_minor": 0,
 "worksheets": [
  {
   "cells": [
    {
     "cell_type": "code",
     "collapsed": false,
     "input": [
      "%pylab inline\n"
     ],
     "language": "python",
     "metadata": {},
     "outputs": [
      {
       "output_type": "stream",
       "stream": "stdout",
       "text": [
        "Populating the interactive namespace from numpy and matplotlib\n"
       ]
      }
     ],
     "prompt_number": 1
    },
    {
     "cell_type": "code",
     "collapsed": false,
     "input": [
      "def simpsonThreeOctaves (integrand,x0,x3,m):\n",
      "    h=(x3-x0)/(3*m)\n",
      "    k=range(1,m+1)\n",
      "    x=linspace(x0,x3,3*m+1)\n",
      "    \n",
      "    simp = 3.*h/8.*sum()\n"
     ],
     "language": "python",
     "metadata": {},
     "outputs": [
      {
       "ename": "SyntaxError",
       "evalue": "invalid syntax (<ipython-input-4-52985e5dbbd5>, line 5)",
       "output_type": "pyerr",
       "traceback": [
        "\u001b[1;36m  File \u001b[1;32m\"<ipython-input-4-52985e5dbbd5>\"\u001b[1;36m, line \u001b[1;32m5\u001b[0m\n\u001b[1;33m    simp = 3.*h/8.*(integrand(x0) + 3*integrand(x1) + 3*integrand(x2)+ * sum(integrand(x_coarse[2:-2:2])) + 4. * sum(integrand(x_coarse[1:-1:2])))\u001b[0m\n\u001b[1;37m                                                                       ^\u001b[0m\n\u001b[1;31mSyntaxError\u001b[0m\u001b[1;31m:\u001b[0m invalid syntax\n"
       ]
      }
     ],
     "prompt_number": 4
    },
    {
     "cell_type": "code",
     "collapsed": false,
     "input": [
      "x=linspace(0,12,12+1)\n",
      "print x\n",
      "print x[0:-3:3]"
     ],
     "language": "python",
     "metadata": {},
     "outputs": [
      {
       "output_type": "stream",
       "stream": "stdout",
       "text": [
        "[  0.   1.   2.   3.   4.   5.   6.   7.   8.   9.  10.  11.  12.]\n",
        "[ 0.  3.  6.  9.]\n"
       ]
      }
     ],
     "prompt_number": 28
    },
    {
     "cell_type": "code",
     "collapsed": false,
     "input": [],
     "language": "python",
     "metadata": {},
     "outputs": []
    }
   ],
   "metadata": {}
  }
 ]
}