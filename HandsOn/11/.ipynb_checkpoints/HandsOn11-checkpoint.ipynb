{
 "metadata": {
  "name": "",
  "signature": "sha256:7594401e4673f65675425df8156d2987d651c135917994c6b4be94375b055282"
 },
 "nbformat": 3,
 "nbformat_minor": 0,
 "worksheets": [
  {
   "cells": [
    {
     "cell_type": "code",
     "collapsed": false,
     "input": [
      "%pylab inline\n"
     ],
     "language": "python",
     "metadata": {},
     "outputs": [
      {
       "output_type": "stream",
       "stream": "stdout",
       "text": [
        "Populating the interactive namespace from numpy and matplotlib\n"
       ]
      }
     ],
     "prompt_number": 1
    },
    {
     "cell_type": "code",
     "collapsed": false,
     "input": [
      "from scipy.integrate import quad\n",
      "\n",
      "def simpsonThreeOctaves (integrand,x0,x3,m):\n",
      "    h=(x3-x0)/(3.0*m)\n",
      "    print h**4\n",
      "    \n",
      "    x=linspace(x0,x3,3.*m+1)\n",
      "    simp = 3.*h/8.*(sum(integrand(x[0:-3:3]))+3*sum(integrand(x[1:-2:3]))+3*sum(integrand(x[2:-1:3]))+sum(integrand(x[3::3])))\n",
      "    return simp\n",
      "\n",
      "def integrand(x):\n",
      "    return x**2 * np.exp(-x)\n",
      "\n",
      "exp= simpsonThreeOctaves(integrand,0,1,5)\n",
      "teo= quad(integrand,0,1)[0]\n",
      "error=abs(exp-teo)/teo\n",
      "print error"
     ],
     "language": "python",
     "metadata": {},
     "outputs": [
      {
       "output_type": "stream",
       "stream": "stdout",
       "text": [
        "1.97530864198e-05\n",
        "8.63301893536e-06\n"
       ]
      }
     ],
     "prompt_number": 21
    },
    {
     "cell_type": "code",
     "collapsed": false,
     "input": [],
     "language": "python",
     "metadata": {},
     "outputs": []
    }
   ],
   "metadata": {}
  }
 ]
}