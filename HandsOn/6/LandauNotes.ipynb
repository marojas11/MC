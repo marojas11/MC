{
 "metadata": {
  "name": "",
  "signature": "sha256:621ca7dc7fdd5ae7d27a1688bd72528057eb10291c3adef0e912d51ab145ab4d"
 },
 "nbformat": 3,
 "nbformat_minor": 0,
 "worksheets": [
  {
   "cells": [
    {
     "cell_type": "markdown",
     "metadata": {},
     "source": [
      "#Errors and Uncertainties in Computation\n",
      "**Cap\u00edtulo 2 de Landau Notes**\n",
      "\n",
      "+ Types of Errors\n",
      "    1. Blunders or bad theory --> Wrong data files, typography\n",
      "    2. Random Errors          --> Fluctuations, reproducibility\n",
      "    3. Aproximation Errors    --> Simplifying, aproximations, algorithmic error\n",
      "    4. Round-off Errors       --> Floating-point numbers,"
     ]
    },
    {
     "cell_type": "code",
     "collapsed": false,
     "input": [
      "print  2*10000/3-20000/3\n"
     ],
     "language": "python",
     "metadata": {},
     "outputs": [
      {
       "output_type": "stream",
       "stream": "stdout",
       "text": [
        "0\n"
       ]
      }
     ],
     "prompt_number": 2
    },
    {
     "cell_type": "markdown",
     "metadata": {},
     "source": [
      "    - Subtractive cancellation\n",
      "    - Round off error in a single step\n",
      "    - Round off error accumulation"
     ]
    },
    {
     "cell_type": "code",
     "collapsed": false,
     "input": [
      "%pylab inline"
     ],
     "language": "python",
     "metadata": {},
     "outputs": [
      {
       "output_type": "stream",
       "stream": "stdout",
       "text": [
        "Populating the interactive namespace from numpy and matplotlib\n"
       ]
      }
     ],
     "prompt_number": 3
    },
    {
     "cell_type": "code",
     "collapsed": false,
     "input": [
      "\n",
      "def roots(a,b,c):\n",
      "    x1=(-b+sqrt(b**2-4*a*c))/(2*a)\n",
      "    x2=(-b-sqrt(b**2-4*a*c))/(2*a)\n",
      "    x3=((-b+sqrt(b**2-4*a*c))/(-2*c))**-1\n",
      "    x4=((-b-sqrt(b**2-4*a*c))/(-2*c))**-1\n",
      "    return x1,x2,x3,x4\n",
      "\n",
      "print roots(1,1,10**-5)"
     ],
     "language": "python",
     "metadata": {},
     "outputs": [
      {
       "output_type": "stream",
       "stream": "stdout",
       "text": [
        "(-1.0000100002016676e-05, -0.99998999989999793, 0.99998999989833537, 1.0000100002000053e-05)\n"
       ]
      }
     ],
     "prompt_number": 4
    },
    {
     "cell_type": "code",
     "collapsed": false,
     "input": [
      "def s1(N):\n",
      "    result=0\n",
      "    for n in range(1,2*N+1):\n",
      "        result+=((-1.0)**n)*n/(n+1.0)\n",
      "    return result\n",
      "def s2(N):\n",
      "    result=0\n",
      "    for n in range(1,N+1):\n",
      "        result+=-(2.*n-1)/(2.0*n)+2*n/(2.*n+1.)\n",
      "    return result\n",
      "def s3(N):\n",
      "    result=0\n",
      "    for n in range(1,N+1):\n",
      "        result+=1./((2.*n)*(2.*n+1.))\n",
      "        \n",
      "    return result\n",
      "y=[]\n",
      "x=[]\n",
      "\n",
      "\n",
      "#for N in range(1,1000001):\n",
      "    #print abs((s1(N)-s3(N))/s3(N))\n",
      "    #log,10)\n",
      "    #x.append()\n",
      "    #y.append(log(N,10))\n",
      "    \n",
      "#plot(x,y)"
     ],
     "language": "python",
     "metadata": {},
     "outputs": [],
     "prompt_number": 5
    },
    {
     "cell_type": "markdown",
     "metadata": {},
     "source": [
      "+ Errores en funciones Bessel\n",
      "    - Relaciones num\u00e9ricas Recursivas\n",
      "+ Error experimental en investigaci\u00f3n\n",
      "    - Errores de aproximaci\u00f3n\n",
      "    - Errores de redondeo\n",
      "    - Error assessment(valoration)"
     ]
    },
    {
     "cell_type": "code",
     "collapsed": false,
     "input": [],
     "language": "python",
     "metadata": {},
     "outputs": []
    }
   ],
   "metadata": {}
  }
 ]
}