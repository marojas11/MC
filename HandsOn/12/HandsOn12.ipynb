{
 "metadata": {
  "name": "",
  "signature": "sha256:bcbd7576af159e1b33bc18a5e51795f51150779ca4831c1e6c0a5a6c437eae9d"
 },
 "nbformat": 3,
 "nbformat_minor": 0,
 "worksheets": [
  {
   "cells": [
    {
     "cell_type": "code",
     "collapsed": false,
     "input": [
      "%pylab inline"
     ],
     "language": "python",
     "metadata": {},
     "outputs": [
      {
       "output_type": "stream",
       "stream": "stdout",
       "text": [
        "Populating the interactive namespace from numpy and matplotlib\n"
       ]
      }
     ],
     "prompt_number": 1
    },
    {
     "cell_type": "code",
     "collapsed": false,
     "input": [
      "w0=1\n",
      "w1=2.*w0\n",
      "wr=3.*w0\n",
      "sx=array([[0,1],[1,0]])\n",
      "sy=array([[0,-1.j],[-1.j,0]])\n",
      "sz=array([[1,0],[0,-1]])\n",
      "print sx\n"
     ],
     "language": "python",
     "metadata": {},
     "outputs": [
      {
       "output_type": "stream",
       "stream": "stdout",
       "text": [
        "[[0 1]\n",
        " [1 0]]\n"
       ]
      }
     ],
     "prompt_number": 14
    },
    {
     "cell_type": "code",
     "collapsed": false,
     "input": [
      "def phiprima(phi):\n",
      "    return 1.0j*_(w1*sx*cos(wr*t)+w1*sy*sin(wr*t)+w0*sz)*phi\n",
      "\n",
      "\n",
      "\n",
      "    "
     ],
     "language": "python",
     "metadata": {},
     "outputs": []
    },
    {
     "cell_type": "markdown",
     "metadata": {},
     "source": [
      "P+(t)=|<+|phi>|^2=|phi+|^2\n",
      "P-(t)=|<-|phi>|^2=|phi-|^2"
     ]
    }
   ],
   "metadata": {}
  }
 ]
}