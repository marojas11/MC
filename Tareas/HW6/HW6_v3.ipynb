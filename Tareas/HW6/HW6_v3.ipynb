{
 "metadata": {
  "name": "",
  "signature": "sha256:d6d770a9707cec246549246c9f492ee14a90840d2b7f43106ecc05224300b229"
 },
 "nbformat": 3,
 "nbformat_minor": 0,
 "worksheets": [
  {
   "cells": [
    {
     "cell_type": "markdown",
     "metadata": {},
     "source": [
      "#Tarea 6\n",
      "##Metodos Computacionales\n",
      "**Miguel Angel Rojas Aparicio**\n",
      "\n",
      "# Punto 1: C\u00e1lculo Simb\u00f3lico\n",
      "En este ejercicio queremos usar Sympy para calcular las ecuaciones que definen a los m\u00e9todos\n",
      "expl\u00edcitos de Adams-Bashforth para cualquier orden.\n",
      "\n",
      "##Punto a\n",
      "\n",
      "Programe una funci\u00f3n de python llamada lagrange que reciba el n\u00famero N de\n",
      "puntos $\\{ti, fi\\}$ para $i = 0..., N \u22121$, y que entregue de regreso una expresi\u00f3n simb\u00f3lica para\n",
      "el polinomio de grado $N \u2212 1$ que los interpola. Puede usar var para definir s\u00edmbolos de\n",
      "SymPy de forma program\u00e1tica y eval para convertir strings en nombres de objetos. Abajo\n",
      "a la izquierda se muestra el output en algunos casos"
     ]
    },
    {
     "cell_type": "code",
     "collapsed": false,
     "input": [
      "#Importar el espacio interactivo de numpy y matplotlib\n",
      "%pylab inline"
     ],
     "language": "python",
     "metadata": {},
     "outputs": [
      {
       "output_type": "stream",
       "stream": "stdout",
       "text": [
        "Populating the interactive namespace from numpy and matplotlib\n"
       ]
      }
     ],
     "prompt_number": 1
    },
    {
     "cell_type": "code",
     "collapsed": false,
     "input": [
      "#Importar la herramienta para c\u00e1lculo simb\u00f3lico de Sympy \n",
      "from sympy import *\n",
      "#Mejorar el estilo de impresi\u00f3n\n",
      "init_printing(use_unicode=True)"
     ],
     "language": "python",
     "metadata": {},
     "outputs": []
    },
    {
     "cell_type": "code",
     "collapsed": false,
     "input": [
      "#Esta funci\u00f3n permite realizar la construcci\u00f3n del polinomio que interpola los N puntos a trabajar de forma simb\u00f3lica\n",
      "def lagrange(N):\n",
      "    #Crear la variable simb\u00f3lica tiempo y step de avance\n",
      "    var('t h')\n",
      "    #Condicional para evitar generar errores con n\u00fameros en cero o negativos\n",
      "    if N<=0:\n",
      "        return \"Ingrese un valor entero mayor a cero\"\n",
      "    else:\n",
      "        #Variable de tipo string para agregar todos los t\u00e9rminos\n",
      "        acum=''\n",
      "        #Ciclo que genera las nuevas variables simb\u00f3licas dependiendo del n\u00fameros de puntos N a trabajar\n",
      "        for i in range(N):\n",
      "            var('f%d t%d'%(i,i))\n",
      "        \n",
      "        #Ciclo para generar la construcci\u00f3n de cada uno de los t\u00e9rminos del polinimio\n",
      "        for j in range(N):\n",
      "            term='+f%d'%j        #Variable string para almacenar las variables de cada uno de los t\u00e9rminos \n",
      "            for k in range(N):\n",
      "                if not(j==k):\n",
      "                     term+='*(t-t%d)/(t%d-t%d)'%(k,j,k)\n",
      "            #Acumulaci\u00f3n de los t\u00e9rminos\n",
      "            acum+=term\n",
      "        #Imprimir el polinomio\n",
      "        return eval(acum)\n",
      "\n",
      "#Resultado para 1 punto\n",
      "lagrange(1)"
     ],
     "language": "python",
     "metadata": {},
     "outputs": []
    },
    {
     "cell_type": "markdown",
     "metadata": {},
     "source": [
      "##Punto b\n",
      "\n",
      "Ahora, en el contexto de los m\u00e9todos multistep de Adams-Bashforth defina una\n",
      "funci\u00f3n llamada adams que reciba el orden m a considerar y de regreso entregue el incremento\n",
      "correspondiente. Para ello tome $ti = tn \u2212 i \u2217 h$ y $fi = f(ti)$ siendo h el timestep.\n",
      "Para ello debe utilizar la funci\u00f3n definida en el anterior literal, y utilizar integrate y\n",
      "simplify de SymPy."
     ]
    },
    {
     "cell_type": "code",
     "collapsed": false,
     "input": [
      "#Funci\u00f3n que permite evaluar el m\u00e9todo de  Adams-Bashforth dependiendo del grado m que se ingrese\n",
      "\n",
      "def adams(m):\n",
      "    #Crear la variable simb\u00f3lica tiempo y step de avance\n",
      "    var('t h')\n",
      "    \n",
      "    #Ciclo para generar las variables simb\u00f3licas necesarias para evaluar el m\u00e9todo\n",
      "    for i in range(m):\n",
      "        var('f%d t%d'%(i,i))\n",
      "    \n",
      "    #Llamado de la funci\u00f3n anterior para generar el polinomio a evaluar dependiendo del grado ingresado\n",
      "    poly=lagrange(m)\n",
      "    \n",
      "    #Ciclo para reemplazar algunas variables del tiempo por sus correspondientes equivalencias en t\u00e9rminos del step a utilizar\n",
      "    for i in range(m-1):\n",
      "        a=m-1-i\n",
      "        poly=poly.subs('t%d'%a,'t%d-%d*h'%(0,a))\n",
      "   \n",
      "    #L\u00edmite superior de la integral\n",
      "    a=eval('t%d'%(0))\n",
      "    #L\u00edmite inferior de la integral\n",
      "    b=eval('t%d +h'%(0))\n",
      "    #Simplificar e integrar el polinomio recibido\n",
      "    return simplify(integrate(poly,(t,a,b)))\n",
      "\n",
      "#Resultado para el grado 2\n",
      "adams(2)"
     ],
     "language": "python",
     "metadata": {},
     "outputs": []
    },
    {
     "cell_type": "markdown",
     "metadata": {},
     "source": [
      "#Punto 2: Potencial Gravitacional\n",
      "\n",
      "En este ejercicio queremos encontrar la soluci\u00f3n a la ecuaci\u00f3n de Poisson para el caso del\n",
      "potencial gravitacional y usar el resultado para resolver la ecuaci\u00b4on de movimiento de una\n",
      "peque\u00f1a part\u00edcula. Para poder hacerlo debe modificar lo visto para la ecuaci\u00f3n de Poisson en\n",
      "el caso electromagn\u00e9tico para el caso gravitacional.\n",
      "\n",
      "##Punto a\n",
      "\n",
      "Encuentre el potencial gravitacional de un cubo de densidad $400\\frac{Kg}{m^3}$ y lado 270. m usando\n",
      "el m\u00e9todo de relajaci\u00f3n. Resuelva la ecuaci\u00f3n de Poisson para el potencial en un cubo de\n",
      "3.00 km de lado usando una cuadr\u00edcula en cada direcci\u00f3n de 30. m de lado. Use condiciones\n",
      "de frontera de Dirichlet tomando \u03c6 = 0 en la frontera y tome como ansatz el potencial de\n",
      "una masa puntual. Use un sistema de coordenadas con el centro del cubo en el origen y los\n",
      "ejes xyz perpendiculares a las caras. Al final haga una gr\u00e1fica de densidad del potencial\n",
      "en el plano yz con l\u00edneas equipotenciales superpuestas.\n",
      "\n",
      "$ \\frac{\\partial^2\\phi}{\\partial x^2} + \\frac{\\partial^2\\phi}{\\partial y^2}+ \\frac{\\partial^2\\phi}{\\partial z^2}=-4\\pi G\\rho$\n",
      "\n",
      "\n",
      "\n",
      "$ \\phi_{i,j,k}=\\frac{1}{6}(\\phi_{i+1,j,k} + \\phi_{i-1,j,k} +\\phi_{i,j+1,k}+\\phi_{i,j-1,k}+\\phi_{i,j,k+1}+\\phi_{i,j,k-1}-4\\pi G\\rho h^2) $\n",
      "\n",
      "Para una masa puntual\n",
      "$ \\phi = -\\frac{Gm}{r}$"
     ]
    },
    {
     "cell_type": "code",
     "collapsed": false,
     "input": [
      "#Importar el espacio interactivo de numpy y matplotlib\n",
      "%pylab inline"
     ],
     "language": "python",
     "metadata": {},
     "outputs": [
      {
       "output_type": "stream",
       "stream": "stdout",
       "text": [
        "Populating the interactive namespace from numpy and matplotlib\n"
       ]
      }
     ],
     "prompt_number": 1
    },
    {
     "cell_type": "code",
     "collapsed": false,
     "input": [
      "#Declaraci\u00f3n de constantes \n",
      "\n",
      "G=6.67384*10**-11*(100**3)    #Constante Gravitacional  (Kg*cm/s^2)*cm^2/Kg^2\n",
      "rho=400./100**3               #Densidad Kg/cm^3\n",
      "h=30*100.                     #Tama\u00f1o del lado del cubo minimo a considerar en cm\n",
      "Vol=h**3                      #Volumen del cubo minimo a considerar cm^3  \n",
      "Masa=rho*Vol                  #Masa del volumen en Kg\n",
      "lado=3000.                    #Medida del cubo grande en el cual se va a analizar el potencial gravitacional\n",
      "\n",
      "#Establecer el sistema de coordenadas en el centro del cubo\n",
      "xmin=-lado/2.\n",
      "xmax=lado/2.\n",
      "ymin=-lado/2.\n",
      "ymax=lado/2.\n",
      "zmin=-lado/2.\n",
      "zmax=lado/2.\n",
      "N=101                         #N\u00famero de casillas a generar por lado en el cubo\n",
      "xcoords=linspace(xmin,xmax,N) #Generar las divisiones y las posiciones centrales de las casillas \n",
      "ycoords=linspace(ymin,ymax,N)\n",
      "zcoords=linspace(zmin,zmax,N)\n",
      "\n",
      "xcoords[N/2]=(xcoords[N/2-1]) #Eliminar el valor en cero y reemplazar por un valor cercano\n",
      "ycoords[N/2]=(ycoords[N/2-1])\n",
      "zcoords[N/2]=(zcoords[N/2-1])\n",
      "\n",
      "#Generar arreglos para trabajar con slice notation\n",
      "cube=np.zeros((N,N,N))        #Cubo grande o espacio a trabajar de 3km de lado que contiene los potenciales gravitacionales\n",
      "x=range(0,N)                  #Generaci\u00f3n de las posiciones a recorrer en el cubo\n",
      "y=range(0,N)\n",
      "z=range(0,N)\n",
      "xx,yy,zz = meshgrid(x,y,z)    #Todas las posibles combinaciones de las posiciones en x,y,z\n",
      "\n",
      "#Inicializaci\u00f3n de los valores para el potencial gravitacional en base a una masa puntal\n",
      "cube[xx,yy,zz]=-Masa*G/(sqrt((xcoords[xx])**2+(ycoords[yy])**2+(zcoords[zz])**2)*100.)\n",
      "\n",
      "cube[0,:,:]=0                #Condiciones de frontera\n",
      "cube[:,0,:]=0\n",
      "cube[:,:,0]=0\n",
      "cube[-1,:,:]=0\n",
      "cube[:,-1,:]=0\n",
      "cube[:,:,-1]=0\n",
      "\n",
      "#Construcci\u00f3n de la masa central\n",
      "density=zeros((N,N,N))       #Arreglo c\u00fabico que contendr\u00e1 los valores de la densidad y define el cubo de 270m de lado\n",
      "density[ N/2-4:N/2+5 , N/2-4:N/2+5 , N/2-4:N/2+5 ]=rho\n",
      "\n"
     ],
     "language": "python",
     "metadata": {},
     "outputs": [],
     "prompt_number": 2
    },
    {
     "cell_type": "code",
     "collapsed": false,
     "input": [
      "#M\u00e9todo de relajaci\u00f3n\n",
      "lista=[cube]                 #Lista que contendr\u00e1 los arreglos generados en cada una de las iteraciones \n",
      "l=0                          #Inicializar variable de iteraci\u00f3n\n",
      "x=range(1,N-1)               #Eliminar valores en la frontera\n",
      "y=range(1,N-1)\n",
      "z=range(1,N-1)\n",
      "xx,yy,zz = meshgrid(x,y,z)   #Generar malla a recorrer en los arreglos \n",
      "\n",
      "while l<5000:                #Ciclo de 5000 iteraciones. ATENCI\u00d3N: Puede Tardar un Poco\n",
      "    \n",
      "    #C\u00e1lculo de los valores de cada una de las casillas teniendo en cuenta el cubo anterior y el t\u00e9rmino adicional en funci\u00f3n de la densidad\n",
      "    cube[xx,yy,zz]=1./6.*(lista[l][xx+1,yy,zz] + lista[l][xx-1,yy,zz] +\n",
      "                          lista[l][xx,yy+1,zz] + lista[l][xx,yy-1,zz] + \n",
      "                          lista[l][xx,yy,zz+1] + lista[l][xx,yy,zz-1] \n",
      "                          - 4*pi*G*density[xx,yy,zz]*(h)**2)\n",
      "    #Condiciones de frontera \n",
      "    cube[0,:,:]=0\n",
      "    cube[:,0,:]=0\n",
      "    cube[:,:,0]=0\n",
      "    cube[-1,:,:]=0\n",
      "    cube[:,-1,:]=0\n",
      "    cube[:,:,-1]=0\n",
      "    lista.append(cube)\n",
      "    l+=1\n",
      "   "
     ],
     "language": "python",
     "metadata": {},
     "outputs": []
    },
    {
     "cell_type": "code",
     "collapsed": false,
     "input": [
      "#Visualizaci\u00f3n de una tajada del cubo: el plano yz\n",
      "\n",
      "fig=figure(figsize=(10,8))                              #Inicializaci\u00f3n de la figura\n",
      "pcolor(ycoords,zcoords,cube[100/2.],cmap='gist_heat')   #Graficar los valores del potencial gravitacional obtenido en la iteraci\u00f3n anterior\n",
      "title('$\\Phi (cm^{2}s^{-2})$')                          #T\u00edtulo\n",
      "xlabel('$y (m)$')                                       #Ejes \n",
      "ylabel('$z (m)$')\n",
      "colorbar()                                              #Barra de colores \n",
      "C=contour(ycoords,zcoords,cube[100/2.],                 #Generaci\u00f3n de los contornos\n",
      "          levels=[-1,-2,-4,-8,-16],colors = 'k') \n",
      "clabel(C)                                               #Poner etiquetas a los contornos \n"
     ],
     "language": "python",
     "metadata": {},
     "outputs": []
    },
    {
     "cell_type": "markdown",
     "metadata": {},
     "source": [
      "##Punto b\n",
      "Tambi\u00e9n haga una gr\u00e1fica del potencial a lo largo del eje z y compare con lo que\n",
      "se obtiene de segmentar el cubo en $9^3$ masas puntuales y sumar los potenciales correspondientes."
     ]
    },
    {
     "cell_type": "code",
     "collapsed": false,
     "input": [
      "#Inicializar los valores para las posiciones de la masa\n",
      "x=range(0,9)                       #Nueve cubos de largo, 9**3 en total\n",
      "y=range(0,9)\n",
      "z=range(0,9)\n",
      "xx,yy,zz = meshgrid(x,y,z)         #Posibles combinaciones para realizar los recorridos de las matrices \n",
      "xxx=xx+N/2-4                       #Posiciones para trabajar con las coordenadas del cubo generado en el anterior literal\n",
      "yyy=yy+N/2-4\n",
      "zzz=zz+N/2-4\n",
      "\n",
      "#Funci\u00f3n que permite calcular la suma de los potenciales desde cada una de las 9**3 masas en valores vec de la coordenada z\n",
      "def fun(vec):\n",
      "    a=zeros((9,9,9))               #Inicializaci\u00f3n de la matriz de ceros para almacenar los valores a calcular de los potenciales\n",
      "    #C\u00e1lculo de cada uno de los potenciales y su seguido almacenamiento\n",
      "    a[xx,yy,zz]=-G*(Masa)/(sqrt(xcoords[xxx]**2+ycoords[yyy]**2+(zcoords[zzz]-vec)**2)*100.)\n",
      "    \n",
      "    return sum(a)                  #Retornar la suma de estos potenciales \n",
      "\n",
      "#Visualizaci\u00f3n\n",
      "vec=vectorize(fun)                 #Vectorizaci\u00f3n de la funci\u00f3n definida anteriormente\n",
      "a=vec(zcoords)                     #Almacenamiento de los valores obtenidos de la funci\u00f3n al ingresar los valores del eje z\n",
      "fig=figure(figsize(20,10))         #Generaci\u00f3n de la figura\n",
      "plot(zcoords,a+3.5,                #Valores para la suma de los potenciales \n",
      "     label=\"$sum + \\epsilon$\")                \n",
      "plot(zcoords,cube[102/2.,102/2.,:] #Valores obtenidos por la soluci\u00f3n de la f\u00f3rmula de Poisson\n",
      "     ,'o',c='w', label=\"$Poisson$\")\n",
      "title('Potencial Gravitacional')   #Titulo\n",
      "xlabel('$z(m)$',fontsize=15)       #MArcas Eje x, y\n",
      "ylabel('$\\Phi(cm^{2}s^{-2})$',fontsize=15)\n",
      "xlim(-1500,1500)                   #Fijar l\u00edmite en x\n",
      "legend()                           #Visualizar leyenda"
     ],
     "language": "python",
     "metadata": {},
     "outputs": []
    },
    {
     "cell_type": "markdown",
     "metadata": {},
     "source": [
      "##Punto c\n",
      "Luego calcule el campo gravitacional a lo largo del mismo eje haciendo derivadas\n",
      "num\u00e9ricas"
     ]
    },
    {
     "cell_type": "code",
     "collapsed": false,
     "input": [
      "#C\u00e1lculo de la derivada num\u00e9rica\n",
      "derivada=(roll(cube[102/2.,102/2.,:],1)-cube[102/2.,102/2.,:])/(30)\n",
      "fig=figure(figsize(20,10))\n",
      "plot(zcoords,derivada*100,'o',c='w')\n",
      "title('Campo Gravitacional')\n",
      "xlabel('$z (m)$',fontsize=15)\n",
      "ylabel('$g (\\mu m*s^{-2})$',fontsize=15)"
     ],
     "language": "python",
     "metadata": {},
     "outputs": []
    },
    {
     "cell_type": "markdown",
     "metadata": {},
     "source": [
      "##Punto d\n",
      "Finalmente encuentre el tiempo que le tomar\u00eda a una part\u00edcula de masa peque\u00f1a\n",
      "en chocar contra el cubo si parte del reposo sobre el eje z y a una distancia de 500 m de\n",
      "la cara m\u00e1s pr\u00f3xima. Para ello resuelva la ecuaci\u00f3n de movimiento usando lo encontrado\n",
      "para el campo gravitacional en el anterior literal.\n",
      "\n",
      "$$x=x_0+v_0t+\\frac{a_0t^2}{2}+\\frac{da}{dt}|_0\\frac{t^3}{3}+\\frac{d^2a}{dt^2}|_0\\frac{t^4}{4}$$\n",
      "\n",
      "$$t=\\sqrt{(x-x_0-v_0t-\\frac{da}{dt}|_0\\frac{t^3}{3}-\\frac{d^2a}{dt^2}|_0\\frac{t^4}{4})\\frac{2}{a_0}}$$"
     ]
    },
    {
     "cell_type": "code",
     "collapsed": false,
     "input": [
      "#Interpolar los datos obtenidos en la derivada num\u00e9rica\n",
      "from scipy import interpolate\n",
      "interpol= interpolate.interp1d(zcoords,derivada,kind='linear')\n",
      "\n",
      "#Constantes \n",
      "x=xcoords[N/2+5]+15           #Posici\u00f3n de choque \n",
      "x_0=500+xcoords[N/2+5]+15     #Posici\u00f3n inicial\n",
      "v_0=0                         #Velocidad inicial\n",
      "a_0=interpol(x_0)       #aceleraci\u00f3n inicial\n",
      " #Primera derivada de la aceleraci\u00f3n\n",
      "da_0=(interpol(x_0)-interpol(x_0+1))   \n",
      "#Segunda derivada de la aceleraci\u00f3n\n",
      "d2a_0=(interpol(x_0-1)-2*interpol(x_0)+interpol(x_0+1)) \n",
      "#Variable para guardar Diferencias\n",
      "dif=10\n",
      "time=10\n",
      "while dif>0.01:\n",
      "    mem=time\n",
      "    \n",
      "    time=sqrt((x-x_0-v_0*time-da_0*time**3/3.-d2a_0*time**4/12.)*2./a_0)\n",
      "    dif=abs(mem-time)\n",
      "print \"El tiempo necesario es: \", time, \"s\""
     ],
     "language": "python",
     "metadata": {},
     "outputs": []
    },
    {
     "cell_type": "code",
     "collapsed": false,
     "input": [],
     "language": "python",
     "metadata": {},
     "outputs": []
    }
   ],
   "metadata": {}
  }
 ]
}