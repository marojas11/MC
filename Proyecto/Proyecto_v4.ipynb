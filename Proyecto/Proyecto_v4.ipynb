{
 "cells": [
  {
   "cell_type": "markdown",
   "metadata": {},
   "source": [
    "#Proyecto final Métodos Computacionales\n",
    "**Miguel Angel Rojas Aparicio**\n",
    "\n",
    "\n",
    "##Propuesta\n",
    "En la ingeniería Química se tiene el objetivo de desarrollar nuevos productos y algunos de ellos implican conocer el comportamiento de las transferencias de materia y energía en los flujos que se encuentran a su alrededor. Algunos de estos productos, como los desodorantes y perfumes, requieren de modelar la transferencia de masa en un rango determinado de espacio en el cual sus efectos son significativos. Este rango viene determinado por la teoría de Capa Límite, en la cual la transferencia de masa tiene una mayor importancia ante flujos externos para determinar los parámetros de diseño del producto final. Las ecuaciones diferenciales desarrolladas por Blasius para estimar esta capa límite presentan el gran problema de que no pueden resolverse manualmente. La idea sería que por medio de la solución de estas ecuaciones por medio del método de Runge-Kutta de cuarto orden se pueda realizar una animación de la transferencia de masa para unas condiciones iniciales determinadas a través del tiempo y la variación de concentraciones a través del espacio.\n",
    "\n",
    "Una vez realizada esta modelación es posible estimar los parámetros necesarios para optimizar el funcionamiento del producto, tales como el tamaño, la concentración de la sustancia a utilizar, los costos y la duración del mismo. Por medio de la obtención de relaciones empíricas entre las variables mencionadas y las modeladas se puede optimizar las características del producto y realizar el diseño en tercera dimensión del producto final a ofrecer al consumidor. Las soluciones obtenidas podrían ser comparados con datos obtenidos empíricamente en la literatura que permitan estimar la utilidad o la cercanía que pueda tener a la realidad para que pudiera aplicarse en esta industria.\n",
    "\n",
    "##Introducción\n",
    "\n",
    "La transferencia de masa se da en dos tipos principales: convección y conducción. La conducción se encuentra modelada principalmente por medio de las leyes de Fick que involucran gradientes de concentración y difusividades másicas. A pesar de ello, la mayoría de productos que se desarrollan en la industria le da una mayor importancia a las transferencias de masa convectivas que se desarrollan al entrar en contacto con el aire del medio ambiente. Para modelar este tipo de transferencia es necesario agregar algunos términos convectivos que dependen de la velocidad del fluido a su alrededor y la distancia a la cual se encuentran de la superficie que realiza dicha transferencia. En principio se puede establecer un espacio (capa límite) en el cual esta transferencia es fácilmente modelable y de allí determinar parámetros como los coeficientes convectivos másicos que permiten extrapolar su comportamiento de una manera cercana.\n",
    "\n",
    "Para un perfume de compuesto A que se encuentra finamente esparcido en una placa ubicada a lo largo del eje x, con una concentración en la superficie $C_{As}=0.5mol/m^3$ se realiza el análisis de la capa límite másica a una sustancia de sus alrededores a una velocidad de $ V_∞=150cm/s$ y con una concentración del compuesto a una distancia suficientemente lejana $C_{A∞} = 0.1 mol/m^3$. La difusividad másica del compuesto, en su mayor parte etanol, corresponde a $102*10^{-3} cm^2/s$. Debido a que se va a realizar la difusión en el aire se puede asumir que la difusividad másica es equivalente a la viscosidad cinemática: $D_{AB}=\\nu$\n",
    "\n",
    "![](https://raw.githubusercontent.com/marojas11/MC/master/Proyecto/Proyecto.png)\n",
    "\n",
    "Partiendo de la segunda ley de Fick y teniendo en cuenta el término de transferencia convectiva en medio de la capa límite se puede determinar una ecuación diferencial que permita estimar el tamaño de la capa límite y los parámetros para el cálculo de los coeficientes convectivos.\n",
    "\n",
    "$$v_x\\frac{ ∂C_A}{∂x}+v_y\\frac{∂C_A}{∂y}=D_{AB}\\frac{∂^2 C_A}{∂y^2} $$\n",
    "\n",
    "Para facilitar el trabajo de las variables se procede con la adimensionalización del espacio en términos de la velocidad de flujo de los alrededores $v_∞$ y la viscosidad cinemática $υ$\n",
    "\n",
    "$$η=y/2 \\sqrt{v_∞/υx}$$\n",
    "\n",
    "Con base en esta variable adimensional se define la función de flujo de masa a partir de la cual se definen las velocidades y las concentraciones por medio de la analogía en el comportamiento de los gradientes de velocidad con los de concentración\n",
    "$$ψ=f(η) \\sqrt{υxv_∞}$$\n",
    "\n",
    "\n"
   ]
  },
  {
   "cell_type": "markdown",
   "metadata": {},
   "source": [
    "##Desarrollo\n",
    "\n",
    "En primer lugar se procede a realizar la derivación simbólica de las velocidades y las concentraciones para realizar el reemplazo en la segunda ley de Fick y obtener la ecuación diferencial a resolver."
   ]
  },
  {
   "cell_type": "code",
   "execution_count": 1,
   "metadata": {
    "collapsed": false
   },
   "outputs": [
    {
     "name": "stdout",
     "output_type": "stream",
     "text": [
      "Populating the interactive namespace from numpy and matplotlib\n"
     ]
    }
   ],
   "source": [
    "%pylab inline"
   ]
  },
  {
   "cell_type": "code",
   "execution_count": 3,
   "metadata": {
    "collapsed": false
   },
   "outputs": [],
   "source": [
    "from sympy import *\n",
    "#Mejorar el estilo de impresión\n",
    "init_printing(use_unicode=True)\n",
    "\n",
    "vx, vy, D_AB, dx,dy,d2y, eta, y, v_inf, nu,n, x, psi=symbols('vx vy D_AB dx dy d2y eta y v_inf nu n x psi ')\n",
    "\n",
    "f=Function('f')(eta)\n",
    "D_AB=nu\n",
    "\n",
    "n=y/2*(v_inf**.5/(nu**.5*x**.5))\n",
    "psi=f*(nu**.5)*x**.5*(v_inf)**.5\n"
   ]
  },
  {
   "cell_type": "markdown",
   "metadata": {},
   "source": [
    "$$v_x=∂ψ/∂y$$\n"
   ]
  },
  {
   "cell_type": "code",
   "execution_count": 4,
   "metadata": {
    "collapsed": false
   },
   "outputs": [
    {
     "data": {
      "image/png": "[encoded data removed]",
      "text/latex": [
       "$$\\frac{v_{inf}}{2} \\frac{d}{d \\eta} f{\\left (\\eta \\right )}$$"
      ],
      "text/plain": [
       "      d       \n",
       "v_inf⋅──(f(η))\n",
       "      dη      \n",
       "──────────────\n",
       "      2       "
      ]
     },
     "execution_count": 4,
     "metadata": {},
     "output_type": "execute_result"
    }
   ],
   "source": [
    "vx=nsimplify(psi.diff(eta)*n.diff(y))\n",
    "eval(\"vx\")\n"
   ]
  },
  {
   "cell_type": "markdown",
   "metadata": {},
   "source": [
    "$$v_y=-∂ψ/∂x$$\n",
    "\n"
   ]
  },
  {
   "cell_type": "code",
   "execution_count": 5,
   "metadata": {
    "collapsed": false
   },
   "outputs": [
    {
     "data": {
      "image/png": "[encoded data removed]",
      "text/latex": [
       "$$- \\frac{\\sqrt{\\nu} \\sqrt{v_{inf}}}{2 \\sqrt{x}} f{\\left (\\eta \\right )} + \\frac{v_{inf} y}{4 x} \\frac{d}{d \\eta} f{\\left (\\eta \\right )}$$"
      ],
      "text/plain": [
       "                                 d       \n",
       "    ___   _______        v_inf⋅y⋅──(f(η))\n",
       "  ╲╱ ν ⋅╲╱ v_inf ⋅f(η)           dη      \n",
       "- ──────────────────── + ────────────────\n",
       "            ___                4⋅x       \n",
       "        2⋅╲╱ x                           "
      ]
     },
     "execution_count": 5,
     "metadata": {},
     "output_type": "execute_result"
    }
   ],
   "source": [
    "vy=simplify(nsimplify(-(diff(psi,x)+n.diff(x)*nu**.5*psi.diff(eta)/nu**.5)))\n",
    "eval(\"vy\")"
   ]
  },
  {
   "cell_type": "markdown",
   "metadata": {},
   "source": [
    "$$∂C_A/∂x=∂v_x/∂x$$"
   ]
  },
  {
   "cell_type": "code",
   "execution_count": 6,
   "metadata": {
    "collapsed": false
   },
   "outputs": [
    {
     "data": {
      "image/png": "[encoded data removed]",
      "text/latex": [
       "$$- \\frac{v_{inf}^{\\frac{3}{2}} y}{8 \\sqrt{\\nu} x^{\\frac{3}{2}}} \\frac{d^{2}}{d \\eta^{2}}  f{\\left (\\eta \\right )}$$"
      ],
      "text/plain": [
       "              2       \n",
       "      3/2    d        \n",
       "-v_inf   ⋅y⋅───(f(η)) \n",
       "              2       \n",
       "            dη        \n",
       "──────────────────────\n",
       "         ___  3/2     \n",
       "     8⋅╲╱ ν ⋅x        "
      ]
     },
     "execution_count": 6,
     "metadata": {},
     "output_type": "execute_result"
    }
   ],
   "source": [
    "dx=simplify(nsimplify(n.diff(x)*diff(f.diff(eta),eta)*vx/f.diff(eta)))\n",
    "simplify(nsimplify(n.diff(x)*diff(f.diff(eta),eta)*vx/f.diff(eta)))"
   ]
  },
  {
   "cell_type": "markdown",
   "metadata": {},
   "source": [
    "$$∂C_A/∂y=∂v_x/∂y$$"
   ]
  },
  {
   "cell_type": "code",
   "execution_count": 7,
   "metadata": {
    "collapsed": false
   },
   "outputs": [
    {
     "data": {
      "image/png": "[encoded data removed]",
      "text/latex": [
       "$$\\frac{v_{inf}^{\\frac{3}{2}}}{4 \\sqrt{\\nu} \\sqrt{x}} \\frac{d^{2}}{d \\eta^{2}}  f{\\left (\\eta \\right )}$$"
      ],
      "text/plain": [
       "           2      \n",
       "     3/2  d       \n",
       "v_inf   ⋅───(f(η))\n",
       "           2      \n",
       "         dη       \n",
       "──────────────────\n",
       "      ___   ___   \n",
       "  4⋅╲╱ ν ⋅╲╱ x    "
      ]
     },
     "execution_count": 7,
     "metadata": {},
     "output_type": "execute_result"
    }
   ],
   "source": [
    "dy=simplify(nsimplify(n.diff(y)*diff(f.diff(eta),eta)*vx/f.diff(eta)))\n",
    "simplify(nsimplify(n.diff(y)*diff(f.diff(eta),eta)*vx/f.diff(eta)))"
   ]
  },
  {
   "cell_type": "markdown",
   "metadata": {},
   "source": [
    "$$∂^2C_A/∂y^2=∂^2v_x/∂y^2$$"
   ]
  },
  {
   "cell_type": "code",
   "execution_count": 8,
   "metadata": {
    "collapsed": false
   },
   "outputs": [
    {
     "data": {
      "image/png": "[encoded data removed]",
      "text/latex": [
       "$$\\frac{v_{inf}^{2}}{8 \\nu x} \\frac{d^{3}}{d \\eta^{3}}  f{\\left (\\eta \\right )}$$"
      ],
      "text/plain": [
       "         3      \n",
       "     2  d       \n",
       "v_inf ⋅───(f(η))\n",
       "         3      \n",
       "       dη       \n",
       "────────────────\n",
       "     8⋅ν⋅x      "
      ]
     },
     "execution_count": 8,
     "metadata": {},
     "output_type": "execute_result"
    }
   ],
   "source": [
    "d2y=simplify(nsimplify(n.diff(y)*diff(diff(f.diff(eta),eta),eta)*dy/diff(f.diff(eta),eta)))\n",
    "simplify(nsimplify(n.diff(y)*diff(diff(f.diff(eta),eta),eta)*dy/diff(f.diff(eta),eta)))"
   ]
  },
  {
   "cell_type": "markdown",
   "metadata": {},
   "source": [
    "Al derivar las expresiones para la velocidad y la concentración, se puede evaluar en la ecuación modificada de Fick y se obtiene que\n",
    "$$-v_x\\frac{ ∂C_A}{∂x}-v_y\\frac{∂C_A}{∂y}+D_{AB}\\frac{∂^2 C_A}{∂y^2}=0 $$"
   ]
  },
  {
   "cell_type": "code",
   "execution_count": 9,
   "metadata": {
    "collapsed": false
   },
   "outputs": [
    {
     "data": {
      "image/png": "[encoded data removed]",
      "text/latex": [
       "$$\\frac{v_{inf}^{2}}{8 x} \\left(f{\\left (\\eta \\right )} \\frac{d^{2}}{d \\eta^{2}}  f{\\left (\\eta \\right )} + \\frac{d^{3}}{d \\eta^{3}}  f{\\left (\\eta \\right )}\\right)$$"
      ],
      "text/plain": [
       "       ⎛       2           3      ⎞\n",
       "     2 ⎜      d           d       ⎟\n",
       "v_inf ⋅⎜f(η)⋅───(f(η)) + ───(f(η))⎟\n",
       "       ⎜       2           3      ⎟\n",
       "       ⎝     dη          dη       ⎠\n",
       "───────────────────────────────────\n",
       "                8⋅x                "
      ]
     },
     "execution_count": 9,
     "metadata": {},
     "output_type": "execute_result"
    }
   ],
   "source": [
    "simplify(nsimplify(-vx*dx-vy*dy+d2y*D_AB))"
   ]
  },
  {
   "cell_type": "markdown",
   "metadata": {},
   "source": [
    "$f(\\eta)*f^{\\prime\\prime}(\\eta)+f^{\\prime\\prime\\prime}(\\eta)=0$\n",
    "\n",
    "Debido a que la función $f(\\eta)$ depende del espacio definimos que las condiciones de frontera corresponden a: \n",
    "\n",
    "$\n",
    "f(0)=f^\\prime(0)=0$\n",
    "\n",
    "$f^\\prime(\\infty)=2$\n",
    "\n",
    "Esto se debe a que la concentración adimensional y normalizada corresponde a la mitad de la primera derivada de f\n",
    "\n",
    "$f^\\prime(η)/2=\\frac{c_A-c_{A,s}}{c_{A,∞}- c_{A,s}}=\\frac{C_A}{C_{A,∞}}$\n",
    "\n",
    "Aquí tenemos el problema de que para que pueda obtenerse una correcta solución a esta ecuación es necesario que la condición inicial para la segunda derivada sea evaluada en 0. Para eso tomamos un valor considerablemente grande para que pueda ser considerado como infinito en este contexto. Este valor puede tomarse como 10 debido a que el orden de los valores de la variable adimensional $\\eta$ son mucho menores. "
   ]
  },
  {
   "cell_type": "markdown",
   "metadata": {},
   "source": [
    "Para hallar el valor correcto de este valor es necesario realizar una serie de soluciones a la ecuación fijando distintos valores a la segunda derivada evaluada en cero $ f^\\prime (0)$hasta encontrar donde los valores de la primera derivada en el valor de 10 $f^{\\prime}(10)=2$. Para ello definimos lo siguiente\n",
    "\n",
    "$$f^{\\prime\\prime}(\\eta)=f2$$\n",
    "$$f^{\\prime}(\\eta)=f1$$\n",
    "$$f(\\eta)=f0$$\n",
    "\n",
    "$$f^{\\prime\\prime\\prime}(\\eta)=-f(\\eta)*f^{\\prime\\prime}(\\eta)=func3(f0,f2)$$"
   ]
  },
  {
   "cell_type": "code",
   "execution_count": 10,
   "metadata": {
    "collapsed": false
   },
   "outputs": [],
   "source": [
    "def func3(f0,f2):\n",
    "    return -f0*f2\n",
    "\n",
    "def RungeKutta(eta,t, f0, f1, f2):\n",
    "    \n",
    "    \n",
    "    k1=eta*f1           #f0=t*f1\n",
    "    l1=eta*f2           #f1=t*f2\n",
    "    m1=eta*func3(f0,f2) #f2=t*func3\n",
    "    \n",
    "    k2=eta*(f1+l1/2.)\n",
    "    l2=eta*(f2+m1/2.)\n",
    "    m2=eta*func3(f0+k1/2.,f2+m1/2.)\n",
    "    \n",
    "    k3=eta*(f1+l2/2.)\n",
    "    l3=eta*(f2+m2/2.)\n",
    "    m3=eta*func3(f0+k2/2.,f2+m2/2.)\n",
    "    \n",
    "    k4=eta*(f1+l3)           \n",
    "    l4=eta*(f2+m3)           \n",
    "    m4=eta*func3(f0+k3,f2+m3) \n",
    "    \n",
    "    f0+=(k1+2.*k2+2.*k3+k4)/6.\n",
    "    f1+=(l1+2.*l2+2.*l3+l4)/6.\n",
    "    f2+=(m1+2.*m2+2.*m3+m4)/6.\n",
    "    t+=eta\n",
    "    return t,f0, f1, f2\n",
    "    \n",
    "def Itera(numIter,eta,t,f0, f1, f2):\n",
    "    \n",
    "    step=eta/numIter\n",
    "    \n",
    "    #Inicialización arreglo para almacenar posiciones\n",
    "    history=np.array([[t,f0, f1, f2]])\n",
    "    \n",
    "    #Ciclo de Iteración para el método de RungeKutta\n",
    "    for __ in range(numIter):\n",
    "        #Aplicar rungekutta con el lapso de Tiempo calculado\n",
    "        a=RungeKutta(step,t,f0, f1, f2)\n",
    "        t=a[0]\n",
    "        f0=a[1]\n",
    "        f1=a[2]\n",
    "        f2=a[3]\n",
    "        #Almacenar las posiciones y velocidades en cada tiempo\n",
    "        history=append(history,[[t,f0, f1, f2]],axis=0)\n",
    "    \n",
    "    return history\n",
    "    \n",
    "    "
   ]
  },
  {
   "cell_type": "code",
   "execution_count": 14,
   "metadata": {
    "collapsed": false
   },
   "outputs": [],
   "source": [
    "f2_0=[]\n",
    "f1_inf=[]\n",
    "eta=10.\n",
    "\n",
    "for i in range(1,2000):\n",
    "    f0=0.\n",
    "    f1=0.\n",
    "    t=0.\n",
    "    f2_0.append(i/1000.)\n",
    "    f2=i/1000.\n",
    "    x=Itera(1000,eta,t,f0, f1, f2)\n",
    "    f1_inf.append(x[-1,2])\n",
    "    \n",
    "    if abs(f1_inf[i-1]-2)<0.0005:\n",
    "        value=f2_0[i-1]\n",
    "        \n",
    "    \n"
   ]
  },
  {
   "cell_type": "code",
   "execution_count": 17,
   "metadata": {
    "collapsed": false
   },
   "outputs": [
    {
     "name": "stdout",
     "output_type": "stream",
     "text": [
      "Cuando f1(10)=2, el valor de f2(0)=  1.328\n"
     ]
    },
    {
     "data": {
      "image/png": "[encoded data removed]",
      "text/plain": [
       "<matplotlib.figure.Figure at 0x7fecc95fea90>"
      ]
     },
     "metadata": {},
     "output_type": "display_data"
    }
   ],
   "source": [
    "\n",
    "plot(f2_0,f1_inf)\n",
    "grid()\n",
    "xlabel('$f^{\\ \\prime \\prime}(0)$', size=16)\n",
    "ylabel('$f^{\\  \\prime}(10)$', size=16)\n",
    "\n",
    "print \"Cuando f1(10)=2, el valor de f2(0)= \",value"
   ]
  },
  {
   "cell_type": "markdown",
   "metadata": {},
   "source": [
    "Una vez conocida la condición de frontera que nos faltaba se procede a resolver la ecuación de Blasius."
   ]
  },
  {
   "cell_type": "code",
   "execution_count": 18,
   "metadata": {
    "collapsed": false
   },
   "outputs": [
    {
     "data": {
      "image/png": "[encoded data removed]",
      "text/plain": [
       "<matplotlib.figure.Figure at 0x7fecc95f1e10>"
      ]
     },
     "metadata": {},
     "output_type": "display_data"
    }
   ],
   "source": [
    "D_AB=102.e-3\n",
    "eta=10.\n",
    "f0=0\n",
    "f1=0\n",
    "f2=1.328\n",
    "t=0\n",
    "x=Itera(1000,eta,t,f0, f1, f2)\n",
    "plot(x[:,0],x[:,2]/2.,'o')\n",
    "xlabel('$\\eta$', size=16)\n",
    "ylabel('$C_A/C_{A,\\infty}$', size=16)\n",
    "ylim(0,1.1)\n",
    "grid()\n",
    "from scipy import interpolate\n",
    "interpol= interpolate.interp1d(x[:,0],x[:,2]/2.,kind='linear')"
   ]
  },
  {
   "cell_type": "markdown",
   "metadata": {},
   "source": [
    "Para visualizar mejor el perfil de concentraciones en el espacio realizaré el gráfico en las coordenadas x,y\n"
   ]
  },
  {
   "cell_type": "code",
   "execution_count": 19,
   "metadata": {
    "collapsed": false
   },
   "outputs": [],
   "source": [
    "xval=linspace(0.01,1,len(x[:,0])/2)\n",
    "yval=linspace(1e-3,.05,len(x[:,0])/2)\n",
    "\n",
    "xx,yy=meshgrid(xval,yval)\n",
    "conc=interpol(yy/2.*sqrt(150./(D_AB*xx)))\n"
   ]
  },
  {
   "cell_type": "code",
   "execution_count": 20,
   "metadata": {
    "collapsed": false
   },
   "outputs": [
    {
     "data": {
      "text/plain": [
       "<matplotlib.text.Text at 0x7fecc985eb10>"
      ]
     },
     "execution_count": 20,
     "metadata": {},
     "output_type": "execute_result"
    },
    {
     "data": {
      "image/png": "[encoded data removed]",
      "text/plain": [
       "<matplotlib.figure.Figure at 0x7fecc96f7ed0>"
      ]
     },
     "metadata": {},
     "output_type": "display_data"
    }
   ],
   "source": [
    "pcolor(xval,yval,conc,cmap='gist_heat')\n",
    "colorbar()\n",
    "C=contour(xval,yval,conc,colors='k') \n",
    "clabel(C)\n",
    "xlabel('$x(cm)$', size=16)\n",
    "ylabel('$y(cm)$', size=16)\n",
    "\n",
    "title(\"$C_A/C_{A,\\infty}$\")\n"
   ]
  },
  {
   "cell_type": "markdown",
   "metadata": {},
   "source": [
    "Una vez resuelta la ecuación diferencial de Blasius se puede estimar el coeficiente convetivo de transferencia de masa, el cual configura el alcance de difusión de la sustancia y que permite decidir los parámetros del producto a desarrollar. Este coeficiente se define de forma análoga a la ley de enfriamiento de Newton.\n",
    "\n",
    "$h=\\frac{\\partial C_A}{\\partial y}*1/C_{A,\\infty}$\n",
    "\n",
    "Tomando la derivada de la concentración adimensional con respecto a eta y dejando solo en términos de y se puede reemplazar en la ecuación anterior\n",
    "\n",
    "$\\left|\\frac{\\partial\\left(2C_A/C_{A,\\infty}\\right)}{\\partial \\left(y/2*\\sqrt{xv_\\infty/υ}\\right)}\\right|_{y=0}=f^{\\prime\\prime}(0)$\n",
    "\n",
    "$\\frac{\\partial C_A}{\\partial y}=f^{\\prime\\prime}(0)/4*\\sqrt{xv_\\infty/υ}$\n",
    "\n",
    "$h=\\frac{f^{\\prime\\prime}(0)/4*\\sqrt{xv_\\infty/υ}}{C_{A,\\infty}}$"
   ]
  },
  {
   "cell_type": "code",
   "execution_count": 22,
   "metadata": {
    "collapsed": false
   },
   "outputs": [
    {
     "data": {
      "text/plain": [
       "<matplotlib.text.Text at 0x7fecc324ec50>"
      ]
     },
     "execution_count": 22,
     "metadata": {},
     "output_type": "execute_result"
    },
    {
     "data": {
      "image/png": "[encoded data removed]",
      "text/plain": [
       "<matplotlib.figure.Figure at 0x7fecc32ae150>"
      ]
     },
     "metadata": {},
     "output_type": "display_data"
    }
   ],
   "source": [
    "C_Ainf=0.1\n",
    "h=value/4.*sqrt(xval*150./D_AB)/C_Ainf\n",
    "plot(xval,h)\n",
    "xlabel('$x(cm)$', size=16)\n",
    "ylabel('$h(molcm^{-2}s^{-1})$', size=16)\n"
   ]
  },
  {
   "cell_type": "markdown",
   "metadata": {
    "collapsed": false
   },
   "source": [
    "##Conclusiones\n",
    "\n",
    "\n",
    "\n"
   ]
  },
  {
   "cell_type": "markdown",
   "metadata": {},
   "source": [
    "##Bibliografía\n",
    "\n",
    "Perry, R. & Green, D. (1987) Perry's Chemical Engineers' Handbook, 6th Ed\n",
    "\n",
    "Petrila, T. & Trif, D. (2005) Basics of Fluid Mechanics and Introduction to Computational Fluid Dynamics. Springer Science & Business Media. Page 188.\n",
    "\n",
    "Welty, J. & Wicks, C. & Wilson, R. (2007) Fundamentals of Momentum, Heat, and Mass Transfer. John Wiley & Sons: Fifth Edition"
   ]
  },
  {
   "cell_type": "code",
   "execution_count": null,
   "metadata": {
    "collapsed": false
   },
   "outputs": [],
   "source": []
  }
 ],
 "metadata": {
  "kernelspec": {
   "display_name": "Python 2",
   "language": "python",
   "name": "python2"
  },
  "language_info": {
   "codemirror_mode": {
    "name": "ipython",
    "version": 2
   },
   "file_extension": ".py",
   "mimetype": "text/x-python",
   "name": "python",
   "nbconvert_exporter": "python",
   "pygments_lexer": "ipython2",
   "version": "2.7.8"
  },
  "name": "Proyecto.ipynb"
 },
 "nbformat": 4,
 "nbformat_minor": 0
}
