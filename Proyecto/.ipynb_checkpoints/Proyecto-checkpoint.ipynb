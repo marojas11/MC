{
 "metadata": {
  "name": "",
  "signature": "sha256:0a424254ea6d58d7b55bad6089169872ecb34fb2b2d0046dc5094143b99450f4"
 },
 "nbformat": 3,
 "nbformat_minor": 0,
 "worksheets": [
  {
   "cells": [
    {
     "cell_type": "markdown",
     "metadata": {},
     "source": [
      "#Proyecto final\n",
      "\n",
      "##Propuesta\n",
      "En la ingenier\u00eda Qu\u00edmica se tiene el objetivo de desarrollar nuevos productos y algunos de ellos implican conocer el comportamiento de las transferencias de materia y energ\u00eda en los flujos que se encuentran a su alrededor. Algunos de estos productos, como los desodorantes y perfumes, requieren de modelar la transferencia de masa en un rango determinado de espacio en el cual sus efectos son significativos. Este rango viene determinado por la teor\u00eda de Capa L\u00edmite, en la cual la transferencia de masa tiene una mayor importancia ante flujos externos para determinar los par\u00e1metros de dise\u00f1o del producto final. Las ecuaciones diferenciales desarrolladas por Blasius para estimar esta capa l\u00edmite presentan el gran problema de que no pueden resolverse manualmente. La idea ser\u00eda que por medio de la soluci\u00f3n de estas ecuaciones por medio del m\u00e9todo de Runge-Kutta de cuarto orden se pueda realizar una animaci\u00f3n de la transferencia de masa para unas condiciones iniciales determinadas a trav\u00e9s del tiempo y la variaci\u00f3n de concentraciones a trav\u00e9s del espacio.\n",
      "\n",
      "Una vez realizada esta modelaci\u00f3n es posible estimar los par\u00e1metros necesarios para optimizar el funcionamiento del producto, tales como el tama\u00f1o, la concentraci\u00f3n de la sustancia a utilizar, los costos y la duraci\u00f3n del mismo. Por medio de la obtenci\u00f3n de relaciones emp\u00edricas entre las variables mencionadas y las modeladas se puede optimizar las caracter\u00edsticas del producto y realizar el dise\u00f1o en tercera dimensi\u00f3n del producto final a ofrecer al consumidor. Las soluciones obtenidas podr\u00edan ser comparados con datos obtenidos emp\u00edricamente en la literatura que permitan estimar la utilidad o la cercan\u00eda que pueda tener a la realidad para que pudiera aplicarse en esta industria.\n",
      "\n",
      "##Introducci\u00f3n\n",
      "\n",
      "La transferencia de masa se da en dos tipos principales: convecci\u00f3n y conducci\u00f3n. La conducci\u00f3n se encuentra modelada principalmente por medio de las leyes de Fick que involucran gradientes de concentraci\u00f3n y difusividades m\u00e1sicas. A pesar de ello, la mayor\u00eda de productos que se desarrollan en la industria le da una mayor importancia a las transferencias de masa convectivas que se desarrollan al entrar en contacto con el aire del medio ambiente. Para modelar este tipo de transferencia es necesario agregar algunos t\u00e9rminos convectivos que dependen de la velocidad del fluido a su alrededor y la distancia a la cual se encuentran de la superficie que realiza dicha transferencia. En principio se puede establecer un espacio (capa l\u00edmite) en el cual esta transferencia es f\u00e1cilmente modelable y de all\u00ed determinar par\u00e1metros como los coeficientes convectivos m\u00e1sicos que permiten extrapolar su comportamiento de una manera cercana.\n",
      "\n",
      "Para un compuesto A que se encuentra en una placa a una concentraci\u00f3n en la superficie $C_{As}=0.5mol/m^3$ se realiza el an\u00e1lisis de la capa l\u00edmite m\u00e1sica a una sustancia de sus alrededores a una velocidad de $ V_\u221e=150cm/s$ y con una concentraci\u00f3n del compuesto a una distancia suficientemente lejana $C_{A\u221e} = 0.1 mol/m^3$. La difusividad m\u00e1sica del compuesto corresponde a $1*10^-13 cm^2/s$. \n",
      "\n",
      "Partiendo de la segunda ley de Fick y teniendo en cuenta el t\u00e9rmino de transferencia convectiva en medio de la capa l\u00edmite se puede determinar una ecuaci\u00f3n diferencial que permita estimar el tama\u00f1o de la capa l\u00edmite y los par\u00e1metros para el c\u00e1lculo de los coeficientes convectivos.\n",
      "\n",
      "$$v_x\\frac{ \u2202C_A}{\u2202x}+v_y\\frac{\u2202C_A}{\u2202y}=D_{AB}\\frac{\u2202^2 C_A}{\u2202y^2} $$\n",
      "\n",
      "Para facilitar el trabajo de las variables se procede con la adimensionalizaci\u00f3n del espacio en t\u00e9rminos de la velocidad de flujo de los alrededores $v_\u221e$ y la viscosidad cinem\u00e1tica $\u03c5$\n",
      "\n",
      "$$\u03b7=y/2 \\sqrt{v_\u221e/\u03c5x}$$"
     ]
    },
    {
     "cell_type": "markdown",
     "metadata": {},
     "source": [
      "Con base en esta variable adimensional se define la funci\u00f3n de flujo de masa a partir de la cual se definen las velocidades y las concentraciones por medio de la analog\u00eda en el comportamiento de los gradientes de velocidad con los de concentraci\u00f3n\n",
      "$$\u03c8=f(\u03b7) \\sqrt{\u03c5xv_\u221e}$$\n",
      "\n",
      "\n",
      "$v_x=\u2202\u03c8/\u2202y=v_\u221e/2 f^\\prime(\u03b7)$\n",
      "\n",
      "$v_y=-\u2202\u03c8/\u2202x=1/2 \\sqrt{(v_\u221e \u03c5)/x} (\u03b7f^\\prime (\u03b7)-f)$\n",
      "\n",
      "$(\u2202C_A)/\u2202x=(\u2202v_x)/\u2202x$\n",
      "\n",
      "$(\u2202C_A)/\u2202y=(\u2202v_x)/\u2202y$\n",
      "\n",
      "Al derivar las expresiones para la velocidad y la concentraci\u00f3n, se puede evaluar en la ecuaci\u00f3n modificada de Fick y se obtiene que $$f^{\\prime\\prime\\prime}(\\eta)+f(\\eta)*f^{\\prime\\prime}(\\eta)=0$$\n",
      "\n",
      "Debido a que esta funci\u00f3n $f(\\eta)$ depende del espacio definimos que las condiciones de frontera corresponden a: \n",
      "\n",
      "$\n",
      "f(0)=f^\\prime(0)=0$\n",
      "\n",
      "$f^\\prime(\\infty)=2$\n",
      "\n",
      "Esto se debe a que la concentraci\u00f3n adimensional y normalizada corresponde a la mitad de la primera derivada de f\n",
      "\n",
      "$f^\\prime(\u03b7)/2=\\frac{c_A-c_{A,s}}{c_{A,\u221e}- c_{A,s}}=\\frac{C_A}{C_{A,\u221e}}$\n",
      "\n",
      "Aqu\u00ed tenemos el problema de que para que pueda obtenerse una correcta soluci\u00f3n a esta ecuaci\u00f3n es necesario que la condici\u00f3n inicial para la segunda derivada sea evaluada en 0. Para eso tomamos un valor considerablemente grande para que pueda ser considerado como infinito en este contexto. Este valor puede tomarse como 10 debido a que el orden de los valores de la variable adimensional $\\eta$ son mucho menores. "
     ]
    },
    {
     "cell_type": "markdown",
     "metadata": {},
     "source": [
      "Para hallar el valor correcto de este valor es necesario realizar una serie de soluciones a la ecuaci\u00f3n fijando distintos valores a la segunda derivada evaluada en cero hasta encontrar donde los valores de la primera derivada en el valor suficientemente grande $f^{\\prime}(10)=2$. Para ello definimos lo siguiente\n",
      "\n",
      "$$f^{\\prime\\prime}(\\eta)=d2$$\n",
      "$$f^{\\prime}(\\eta)=d1$$\n",
      "$$f(\\eta)=d0$$\n",
      "\n",
      "$$f^{\\prime\\prime\\prime}(\\eta)=-f(\\eta)*f^{\\prime\\prime}(\\eta)=func3(d0,d2)$$"
     ]
    },
    {
     "cell_type": "code",
     "collapsed": false,
     "input": [
      "%pylab inline"
     ],
     "language": "python",
     "metadata": {},
     "outputs": [
      {
       "output_type": "stream",
       "stream": "stdout",
       "text": [
        "Populating the interactive namespace from numpy and matplotlib\n"
       ]
      }
     ],
     "prompt_number": 33
    },
    {
     "cell_type": "code",
     "collapsed": false,
     "input": [
      "def func3(d0,d2):\n",
      "    return -d0*d2\n",
      "\n",
      "def RungeKutta(eta,t, f0, f1, f2):\n",
      "    \n",
      "    \n",
      "    k1=eta*f1           #f0=t*f1\n",
      "    l1=eta*f2           #f1=t*f2\n",
      "    m1=eta*func3(f0,f2) #f2=t*func3\n",
      "    \n",
      "    k2=eta*(f1+l1/2.)\n",
      "    l2=eta*(f2+m1/2.)\n",
      "    m2=eta*func3(f0+k1/2.,f2+m1/2.)\n",
      "    \n",
      "    k3=eta*(f1+l2/2.)\n",
      "    l3=eta*(f2+m2/2.)\n",
      "    m3=eta*func3(f0+k2/2.,f2+m2/2.)\n",
      "    \n",
      "    k4=eta*(f1+l3)           \n",
      "    l4=eta*(f2+m3)           \n",
      "    m4=eta*func3(f0+k3,f2+m3) \n",
      "    \n",
      "    f0+=(k1+2.*k2+2.*k3+k4)/6.\n",
      "    f1+=(l1+2.*l2+2.*l3+l4)/6.\n",
      "    f2+=(m1+2.*m2+2.*m3+m4)/6.\n",
      "    t+=eta\n",
      "    return t,f0, f1, f2\n",
      "    \n",
      "def Itera(numIter,eta,t,f0, f1, f2):\n",
      "    \n",
      "    step=eta/numIter\n",
      "    \n",
      "    #Inicializaci\u00f3n arreglo para almacenar posiciones\n",
      "    history=np.array([[f2]])\n",
      "    \n",
      "    #Ciclo de Iteraci\u00f3n para el m\u00e9todo de RungeKutta\n",
      "    for __ in range(numIter):\n",
      "        #Aplicar rungekutta con el lapso de Tiempo calculado\n",
      "        a=RungeKutta(step,t,f0, f1, f2)\n",
      "        t=a[0]\n",
      "        f0=a[1]\n",
      "        f1=a[2]\n",
      "        f2=a[3]\n",
      "        #Almacenar las posiciones y velocidades en cada tiempo\n",
      "        history=append(history,[[f2]],axis=0)\n",
      "    \n",
      "    return history\n",
      "    \n",
      "    "
     ],
     "language": "python",
     "metadata": {},
     "outputs": [],
     "prompt_number": 34
    },
    {
     "cell_type": "code",
     "collapsed": false,
     "input": [
      "q=[]\n",
      "r=[]\n",
      "eta=10.\n",
      "\n",
      "for i in range(1,2000):\n",
      "    f0=0.\n",
      "    f1=0.\n",
      "    t=0.\n",
      "    q.append(i/1000.)\n",
      "    f2=i/1000.\n",
      "    x=Itera(100000,eta,t,f0, f1, f2)\n",
      "    \n",
      "    r.append(x[-1])\n",
      "\n",
      "plot(q,r)\n",
      "grid()\n",
      "xlabel('q')\n",
      "ylabel('r')\n"
     ],
     "language": "python",
     "metadata": {},
     "outputs": []
    },
    {
     "cell_type": "code",
     "collapsed": false,
     "input": [],
     "language": "python",
     "metadata": {},
     "outputs": []
    }
   ],
   "metadata": {}
  }
 ]
}