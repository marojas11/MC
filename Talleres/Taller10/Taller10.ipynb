{
 "metadata": {
  "name": "",
  "signature": "sha256:b081b3179033d35a6fe91a34b790f1def78a85bbf9417b7f3ca188206ee610dd"
 },
 "nbformat": 3,
 "nbformat_minor": 0,
 "worksheets": [
  {
   "cells": [
    {
     "cell_type": "code",
     "collapsed": false,
     "input": [
      "%pylab inline\n"
     ],
     "language": "python",
     "metadata": {},
     "outputs": [
      {
       "output_type": "stream",
       "stream": "stdout",
       "text": [
        "Populating the interactive namespace from numpy and matplotlib\n"
       ]
      }
     ],
     "prompt_number": 1
    },
    {
     "cell_type": "code",
     "collapsed": false,
     "input": [
      "N=20\n",
      "lattice=np.ones((N,N,N))\n",
      "T=10.\n",
      "beta=1./T\n",
      "def total_energy():\n",
      "    global lattice\n",
      "    return -sum(sum(lattice*(np.roll(lattice,1,axis=1)+\\\n",
      "                         np.roll(lattice,-1,axis=1)+\\\n",
      "                         np.roll(lattice,1,axis=0)+\\\n",
      "                         np.roll(lattice,-1,axis=0)+\\\n",
      "                         np.roll(lattice,1,axis=2)+\\\n",
      "                         np.roll(lattice,-1,axis=2))))\n",
      "def block_energy(i,j,k):\n",
      "    global lattice\n",
      "    global N\n",
      "    return -(lattice[i,j,k]*(lattice[(i-1)%N,j,k]+\\\n",
      "                                  lattice[(i+1)%N,j,k]+\\\n",
      "                                  lattice[i,(j+1)%N,k]+\\\n",
      "                                  lattice[i,(j-1)%N,k]+\\\n",
      "                                  lattice[i,j,(k+1)%N]+\\\n",
      "                                  lattice[i,j,(k-1)%N]))\n",
      "def flipone():\n",
      "    global lattice\n",
      "    global beta\n",
      "    global N\n",
      "    # Pick a random site\n",
      "    nx, ny,nz= np.random.randint(0,N),np.random.randint(0,N),np.random.randint(0,N)\n",
      "    # Calculate current energy of site and neighbors\n",
      "    en_i=block_energy(nx,ny,nz)\n",
      "    # If it were flipped\n",
      "    en_f=-en_i\n",
      "    if en_f<en_i: # This could be simplified\n",
      "        lattice[nx,ny,nz]*=-1\n",
      "    elif np.random.random()<min(1,np.exp(-beta*(en_f-en_i))):\n",
      "        lattice[nx,ny,nz]*=-1\n",
      "\n",
      "def magnetization():\n",
      "    global lattice\n",
      "    global N\n",
      "    return sum(sum(lattice))/N**2"
     ],
     "language": "python",
     "metadata": {},
     "outputs": [],
     "prompt_number": 3
    },
    {
     "cell_type": "code",
     "collapsed": false,
     "input": [
      "# Animaci\u00f3n\n",
      "%matplotlib \n",
      "from matplotlib import animation\n",
      "T=10\n",
      "beta=1./T\n",
      "fig=plt.figure(figsize=(10,10))\n",
      "tplot=plt.imshow(lattice[10],cmap='gist_heat',vmin=-1.,vmax=1.,interpolation='None')\n",
      "#plt.xlim(xmin+dx,xmax-dx)\n",
      "#plt.ylim(ymin+dy,ymax-dy)\n",
      "\n",
      "def animate(i):\n",
      "    global lattice\n",
      "    #global T\n",
      "    for __ in range(100):\n",
      "        flipone()\n",
      "    tplot.set_array(lattice[10])\n",
      "    return 0\n",
      "    #plt.title(\"T=\"+str(T)+\" M=\"+str(round(magnetization()/N**2,3)))\n",
      "\n",
      "animacion = animation.FuncAnimation(fig, animate, np.arange(2,1000000),interval=1, blit=False)\n",
      "plt.show()"
     ],
     "language": "python",
     "metadata": {},
     "outputs": [
      {
       "output_type": "stream",
       "stream": "stdout",
       "text": [
        "Using matplotlib backend: Qt4Agg\n"
       ]
      }
     ],
     "prompt_number": 9
    },
    {
     "cell_type": "code",
     "collapsed": false,
     "input": [
      "%timeit flipone()"
     ],
     "language": "python",
     "metadata": {},
     "outputs": [
      {
       "output_type": "stream",
       "stream": "stdout",
       "text": [
        "100000 loops, best of 3: 18.1 \u00b5s per loop\n"
       ]
      }
     ],
     "prompt_number": 7
    },
    {
     "cell_type": "code",
     "collapsed": false,
     "input": [
      "#Magnetizaci\u00f3n promedio\n",
      "magnetization()"
     ],
     "language": "python",
     "metadata": {},
     "outputs": [
      {
       "metadata": {},
       "output_type": "pyout",
       "prompt_number": 10,
       "text": [
        "-0.155"
       ]
      }
     ],
     "prompt_number": 10
    },
    {
     "cell_type": "code",
     "collapsed": false,
     "input": [
      "magnetizaciones=[]\n",
      "lattice=np.ones((N,N,N))\n",
      "numIter=1000000\n",
      "for temp in np.linspace(0.1,8,40):\n",
      "    print temp,\n",
      "    T=temp\n",
      "    beta=1./T\n",
      "    mag=[]\n",
      "    for i in range(numIter):\n",
      "        flipone()\n",
      "        if i>numIter-100:\n",
      "            mag.append(magnetization())\n",
      "    magnetizaciones.append([T,np.mean(mag)/20.])\n",
      "magnetizaciones=np.array(magnetizaciones)"
     ],
     "language": "python",
     "metadata": {},
     "outputs": [
      {
       "output_type": "stream",
       "stream": "stdout",
       "text": [
        "0.1 "
       ]
      },
      {
       "output_type": "stream",
       "stream": "stdout",
       "text": [
        "0.302564102564 "
       ]
      },
      {
       "output_type": "stream",
       "stream": "stdout",
       "text": [
        "0.505128205128 "
       ]
      },
      {
       "output_type": "stream",
       "stream": "stdout",
       "text": [
        "0.707692307692 "
       ]
      },
      {
       "output_type": "stream",
       "stream": "stdout",
       "text": [
        "0.910256410256 "
       ]
      },
      {
       "output_type": "stream",
       "stream": "stdout",
       "text": [
        "1.11282051282 "
       ]
      },
      {
       "output_type": "stream",
       "stream": "stdout",
       "text": [
        "1.31538461538 "
       ]
      },
      {
       "output_type": "stream",
       "stream": "stdout",
       "text": [
        "1.51794871795 "
       ]
      },
      {
       "output_type": "stream",
       "stream": "stdout",
       "text": [
        "1.72051282051 "
       ]
      },
      {
       "output_type": "stream",
       "stream": "stdout",
       "text": [
        "1.92307692308 "
       ]
      },
      {
       "output_type": "stream",
       "stream": "stdout",
       "text": [
        "2.12564102564 "
       ]
      },
      {
       "output_type": "stream",
       "stream": "stdout",
       "text": [
        "2.32820512821 "
       ]
      },
      {
       "output_type": "stream",
       "stream": "stdout",
       "text": [
        "2.53076923077 "
       ]
      },
      {
       "output_type": "stream",
       "stream": "stdout",
       "text": [
        "2.73333333333 "
       ]
      },
      {
       "output_type": "stream",
       "stream": "stdout",
       "text": [
        "2.9358974359 "
       ]
      },
      {
       "output_type": "stream",
       "stream": "stdout",
       "text": [
        "3.13846153846 "
       ]
      },
      {
       "output_type": "stream",
       "stream": "stdout",
       "text": [
        "3.34102564103 "
       ]
      },
      {
       "output_type": "stream",
       "stream": "stdout",
       "text": [
        "3.54358974359 "
       ]
      },
      {
       "output_type": "stream",
       "stream": "stdout",
       "text": [
        "3.74615384615 "
       ]
      },
      {
       "output_type": "stream",
       "stream": "stdout",
       "text": [
        "3.94871794872 "
       ]
      },
      {
       "output_type": "stream",
       "stream": "stdout",
       "text": [
        "4.15128205128 "
       ]
      },
      {
       "output_type": "stream",
       "stream": "stdout",
       "text": [
        "4.35384615385 "
       ]
      },
      {
       "output_type": "stream",
       "stream": "stdout",
       "text": [
        "4.55641025641 "
       ]
      },
      {
       "output_type": "stream",
       "stream": "stdout",
       "text": [
        "4.75897435897 "
       ]
      },
      {
       "output_type": "stream",
       "stream": "stdout",
       "text": [
        "4.96153846154 "
       ]
      },
      {
       "output_type": "stream",
       "stream": "stdout",
       "text": [
        "5.1641025641 "
       ]
      },
      {
       "output_type": "stream",
       "stream": "stdout",
       "text": [
        "5.36666666667 "
       ]
      },
      {
       "output_type": "stream",
       "stream": "stdout",
       "text": [
        "5.56923076923 "
       ]
      },
      {
       "output_type": "stream",
       "stream": "stdout",
       "text": [
        "5.77179487179 "
       ]
      },
      {
       "output_type": "stream",
       "stream": "stdout",
       "text": [
        "5.97435897436 "
       ]
      },
      {
       "output_type": "stream",
       "stream": "stdout",
       "text": [
        "6.17692307692 "
       ]
      },
      {
       "output_type": "stream",
       "stream": "stdout",
       "text": [
        "6.37948717949 "
       ]
      },
      {
       "output_type": "stream",
       "stream": "stdout",
       "text": [
        "6.58205128205 "
       ]
      },
      {
       "output_type": "stream",
       "stream": "stdout",
       "text": [
        "6.78461538462 "
       ]
      },
      {
       "output_type": "stream",
       "stream": "stdout",
       "text": [
        "6.98717948718 "
       ]
      },
      {
       "output_type": "stream",
       "stream": "stdout",
       "text": [
        "7.18974358974 "
       ]
      },
      {
       "output_type": "stream",
       "stream": "stdout",
       "text": [
        "7.39230769231 "
       ]
      },
      {
       "output_type": "stream",
       "stream": "stdout",
       "text": [
        "7.59487179487 "
       ]
      },
      {
       "output_type": "stream",
       "stream": "stdout",
       "text": [
        "7.79743589744 "
       ]
      },
      {
       "output_type": "stream",
       "stream": "stdout",
       "text": [
        "8.0\n"
       ]
      }
     ],
     "prompt_number": 17
    },
    {
     "cell_type": "code",
     "collapsed": false,
     "input": [
      "%matplotlib inline\n",
      "plt.figure(figsize=(10,6))\n",
      "plt.plot(magnetizaciones[:,0],magnetizaciones[:,1],\"o-\")\n",
      "plt.xlabel(\"T\")\n",
      "plt.ylabel(\"M\")\n",
      "plt.title(u\"Magnetizaci\u00f3n en el Modelo de Ising 3D\") \n",
      "\n",
      "plt.axvline(4.51, color='red')\n",
      "plt.show()"
     ],
     "language": "python",
     "metadata": {},
     "outputs": [
      {
       "metadata": {},
       "output_type": "display_data",
       "png": "[encoded data removed]",
       "text": [
        "<matplotlib.figure.Figure at 0xda2bef0>"
       ]
      }
     ],
     "prompt_number": 18
    },
    {
     "cell_type": "code",
     "collapsed": false,
     "input": [],
     "language": "python",
     "metadata": {},
     "outputs": []
    }
   ],
   "metadata": {}
  }
 ]
}