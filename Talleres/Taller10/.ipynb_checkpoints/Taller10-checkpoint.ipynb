{
 "metadata": {
  "name": "",
  "signature": "sha256:9d2efdb147cff47e9d0d5b56a57ba452468d83721f864cde44f390e429a67729"
 },
 "nbformat": 3,
 "nbformat_minor": 0,
 "worksheets": []
}