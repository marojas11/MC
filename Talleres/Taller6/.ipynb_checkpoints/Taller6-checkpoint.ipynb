{
 "metadata": {
  "name": "",
  "signature": "sha256:118b52473a04f242e936e9c9b7a6c33bc6bf0fbf3b7510444432dc803695193c"
 },
 "nbformat": 3,
 "nbformat_minor": 0,
 "worksheets": [
  {
   "cells": [
    {
     "cell_type": "code",
     "collapsed": false,
     "input": [
      "%pylab inline\n"
     ],
     "language": "python",
     "metadata": {},
     "outputs": [
      {
       "output_type": "stream",
       "stream": "stdout",
       "text": [
        "Populating the interactive namespace from numpy and matplotlib\n"
       ]
      }
     ],
     "prompt_number": 1
    },
    {
     "cell_type": "code",
     "collapsed": false,
     "input": [
      "gps=genfromtxt(\"limpio.csv\",delimiter=\",\")\n",
      "\n",
      "lon=gps[:,0]\n",
      "lat=gps[:,1]\n",
      "h=gps[:,3]\n",
      "m=gps[:,4]\n",
      "s=gps[:,5]"
     ],
     "language": "python",
     "metadata": {},
     "outputs": [],
     "prompt_number": 3
    },
    {
     "cell_type": "code",
     "collapsed": false,
     "input": [],
     "language": "python",
     "metadata": {},
     "outputs": []
    }
   ],
   "metadata": {}
  }
 ]
}