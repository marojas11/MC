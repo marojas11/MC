{
 "metadata": {
  "name": "",
  "signature": "sha256:414ea3ff73546a6e7c4a5f4952ec11dd615130ffbe3fa27e9153802ee3d29b83"
 },
 "nbformat": 3,
 "nbformat_minor": 0,
 "worksheets": [
  {
   "cells": [
    {
     "cell_type": "code",
     "collapsed": false,
     "input": [
      "%pylab inline\n"
     ],
     "language": "python",
     "metadata": {},
     "outputs": [
      {
       "output_type": "stream",
       "stream": "stdout",
       "text": [
        "Populating the interactive namespace from numpy and matplotlib\n"
       ]
      }
     ],
     "prompt_number": 2
    },
    {
     "cell_type": "code",
     "collapsed": false,
     "input": [
      "gps=genfromtxt(\"limpio.csv\",delimiter=\",\")\n",
      "\n",
      "lon=gps[:,0]\n",
      "lat=gps[:,1]\n",
      "h=gps[:,3]\n",
      "m=gps[:,4]\n",
      "s=gps[:,5]"
     ],
     "language": "python",
     "metadata": {},
     "outputs": [],
     "prompt_number": 3
    },
    {
     "cell_type": "code",
     "collapsed": false,
     "input": [
      "print lon"
     ],
     "language": "python",
     "metadata": {},
     "outputs": [
      {
       "output_type": "stream",
       "stream": "stdout",
       "text": [
        "[-74.07830811 -74.07826233 -74.07821655 ..., -74.08422852 -74.08422852\n",
        " -74.08422852]\n"
       ]
      }
     ],
     "prompt_number": 4
    },
    {
     "cell_type": "code",
     "collapsed": false,
     "input": [],
     "language": "python",
     "metadata": {},
     "outputs": []
    }
   ],
   "metadata": {}
  }
 ]
}