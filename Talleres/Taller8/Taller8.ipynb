{
 "metadata": {
  "name": "",
  "signature": "sha256:f42af9f0ecc6b15c77d94b1db99f682b18f407781718a52daed1041c51f5f0b9"
 },
 "nbformat": 3,
 "nbformat_minor": 0,
 "worksheets": [
  {
   "cells": [
    {
     "cell_type": "markdown",
     "metadata": {},
     "source": [
      "#Taller 8\n",
      "\n",
      "\n",
      "Resuelva la ecuaci\u00f3n de onda con condiciones de frontera correspondientes a la topolog\u00eda de un cubo.\n",
      "\n",
      "![](https://raw.githubusercontent.com/ComputoCienciasUniandes/MetodosComputacionalesLaboratorio/master/2015-V/actividades/talleres/Taller8/cube.png? raw=true =200x)."
     ]
    },
    {
     "cell_type": "code",
     "collapsed": false,
     "input": [
      "%pylab inline"
     ],
     "language": "python",
     "metadata": {},
     "outputs": [
      {
       "output_type": "stream",
       "stream": "stdout",
       "text": [
        "Populating the interactive namespace from numpy and matplotlib\n"
       ]
      }
     ],
     "prompt_number": 1
    },
    {
     "cell_type": "code",
     "collapsed": false,
     "input": [
      "Nt=2000\n",
      "Nl=50\n",
      "L=10. # Lado del cubo\n",
      "tmin=0\n",
      "tmax=.3\n",
      "xmin=-L/2.\n",
      "xmax=L/2.\n",
      "ymin=-L/2.\n",
      "ymax=L/2.\n",
      "dt=(tmax-tmin)/Nt\n",
      "dx=(xmax-xmin)/Nl\n",
      "dy=(ymax-ymin)/Nl\n",
      "\n",
      "v=425. # m/s\n",
      "r=v*dt/dx\n",
      "xcoords=np.linspace(xmin,xmax,Nl)\n",
      "ycoords=np.linspace(ymin,ymax,Nl)\n",
      "tcoords=np.linspace(tmin,tmax,Nt)\n",
      "xmesh,ymesh=np.meshgrid(xcoords,ycoords)\n",
      "cara2=meshgrid(xcoords,ycoords)\n",
      "cara3=meshgrid(xcoords,ycoords)\n",
      "cara4=meshgrid(xcoords,ycoords)\n",
      "cara5=meshgrid(xcoords,ycoords)\n",
      "cara6=meshgrid(xcoords,ycoords)"
     ],
     "language": "python",
     "metadata": {},
     "outputs": [],
     "prompt_number": 28
    },
    {
     "cell_type": "code",
     "collapsed": false,
     "input": [
      "drum=np.zeros((Nt,Nl,Nl))\n",
      "drum[0]= np.exp(-xmesh**2)*np.exp(-ymesh**2)\n",
      "drum[1]=drum[0]+r**2/2.*(np.roll(drum[0],1,axis=0)+np.roll(drum[0],-1,axis=0)+np.roll(drum[0],1,axis=1)+np.roll(drum[0],-1,axis=1)-4*drum[0])\n",
      "\n",
      "drum[:,0,:]=drum[:,:,0]\n",
      "drum[:,Nl-1,:]=drum[:,:,Nl-1]\n",
      "imshow(drum[0],cmap='gist_heat')\n",
      "\n",
      "for i in range(2,Nt):\n",
      "    pdrum=drum[i-1]\n",
      "    ppdrum=drum[i-2]\n",
      "    drum[i]=2*(1.-2.*r**2)*pdrum-ppdrum+r**2*(np.roll(pdrum,1,axis=1)+np.roll(pdrum,-1,axis=1)+np.roll(pdrum,1,axis=0)+np.roll(pdrum,-1,axis=0))\n",
      "    drum[:,0,:]=drum[:,:,0]\n",
      "    drum[:,Nl-1,:]=drum[:,:,Nl-1]\n",
      "    figure()\n",
      "    imshow(drum[i],cmap='gist_heat')"
     ],
     "language": "python",
     "metadata": {},
     "outputs": []
    },
    {
     "cell_type": "code",
     "collapsed": false,
     "input": [],
     "language": "python",
     "metadata": {},
     "outputs": []
    }
   ],
   "metadata": {}
  }
 ]
}