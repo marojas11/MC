{
 "metadata": {
  "name": "",
  "signature": "sha256:4992fe0f7178d618b408a756715608bf329b4dfd899a7ef9d51ac1a206196fda"
 },
 "nbformat": 3,
 "nbformat_minor": 0,
 "worksheets": [
  {
   "cells": [
    {
     "cell_type": "markdown",
     "metadata": {},
     "source": [
      "#Taller 8\n",
      "\n",
      "\n",
      "Resuelva la ecuaci\u00f3n de onda con condiciones de frontera correspondientes a la topolog\u00eda de un cubo.\n",
      "\n",
      "![](https://raw.githubusercontent.com/ComputoCienciasUniandes/MetodosComputacionalesLaboratorio/master/2015-V/actividades/talleres/Taller8/cube.png? raw=true =200x)."
     ]
    },
    {
     "cell_type": "code",
     "collapsed": false,
     "input": [
      "%pylab inline"
     ],
     "language": "python",
     "metadata": {},
     "outputs": [
      {
       "output_type": "stream",
       "stream": "stdout",
       "text": [
        "Populating the interactive namespace from numpy and matplotlib\n"
       ]
      }
     ],
     "prompt_number": 13
    },
    {
     "cell_type": "code",
     "collapsed": false,
     "input": [
      "Nt=2000\n",
      "Nl=50\n",
      "L=10. # Lado del cubo\n",
      "tmin=0\n",
      "tmax=.3\n",
      "xmin=-L/2.\n",
      "xmax=L/2.\n",
      "ymin=-L/2.\n",
      "ymax=L/2.\n",
      "dt=(tmax-tmin)/Nt\n",
      "dx=(xmax-xmin)/Nl\n",
      "dy=(ymax-ymin)/Nl\n",
      "\n",
      "v=425. # m/s\n",
      "r=v*dt/dx\n",
      "xcoords=np.linspace(xmin,xmax,Nl)\n",
      "ycoords=np.linspace(ymin,ymax,Nl)\n",
      "tcoords=np.linspace(tmin,tmax,Nt)\n",
      "xmesh,ymesh=np.meshgrid(xcoords,ycoords)\n",
      "cara2=meshgrid(xcoords,ycoords)\n",
      "xmesh3,ymesh3=meshgrid(xcoords,ycoords)\n",
      "cara4=meshgrid(xcoords,ycoords)\n",
      "cara5=meshgrid(xcoords,ycoords)\n",
      "cara6=meshgrid(xcoords,ycoords)"
     ],
     "language": "python",
     "metadata": {},
     "outputs": [],
     "prompt_number": 14
    },
    {
     "cell_type": "code",
     "collapsed": false,
     "input": [
      "drum=np.zeros((Nt,Nl,Nl))\n",
      "\n",
      "\n",
      "\n",
      "drum[0]= np.exp(-xmesh**2)*np.exp(-ymesh**2)\n",
      "drum[1]=drum[0]+r**2/2.*(np.roll(drum[0],1,axis=0)+np.roll(drum[0],-1,axis=0)+np.roll(drum[0],1,axis=1)+np.roll(drum[0],-1,axis=1)-4*drum[0])\n",
      "\n",
      "drum[:,0,:]=drum[:,:,0]\n",
      "drum[:,Nl-1,:]=drum[:,:,Nl-1]\n",
      "imshow(drum[0],cmap='gist_heat')\n",
      "\n",
      "for i in range(2,Nt):\n",
      "    pdrum=drum[i-1]\n",
      "    ppdrum=drum[i-2]\n",
      "    drum[i]=2*(1.-2.*r**2)*pdrum-ppdrum+r**2*(np.roll(pdrum,1,axis=1)+np.roll(pdrum,-1,axis=1)+np.roll(pdrum,1,axis=0)+np.roll(pdrum,-1,axis=0))\n",
      "    a=drum[:,0,:]\n",
      "    b=drum[:,:,0]\n",
      "    drum[:,0,:]=b\n",
      "    drum[:,:,0]=a\n",
      "    a=drum[:,Nl-1,:]\n",
      "    b=drum[:,:,Nl-1]\n",
      "    drum[:,Nl-1,:]=a\n",
      "    drum[:,:,Nl-1]=b\n",
      "    \n"
     ],
     "language": "python",
     "metadata": {},
     "outputs": [
      {
       "metadata": {},
       "output_type": "display_data",
       "png": "[encoded data removed]",
       "text": [
        "<matplotlib.figure.Figure at 0x8d965f0>"
       ]
      }
     ],
     "prompt_number": 15
    },
    {
     "cell_type": "code",
     "collapsed": false,
     "input": [
      "\n",
      "%matplotlib\n",
      "from matplotlib import animation\n",
      "\n",
      "fig=plt.figure(figsize=(10,10))\n",
      "plt.hold(True)\n",
      "plt.pcolor(xcoords,ycoords,np.abs(drum[0]),cmap='gist_heat',vmin=0.,vmax=1.)\n",
      "plt.xlim(xmin+dx,xmax-dx)\n",
      "plt.ylim(ymin+dy,ymax-dy)\n",
      "#plt.colorbar()\n",
      "\n",
      "def animate(i):\n",
      "    plt.pcolor(xcoords,ycoords,np.abs(drum[i]),vmin=0.,vmax=1.)\n",
      "    plt.xlim(xmin+dx,xmax-dx)\n",
      "    plt.ylim(ymin+dy,ymax-dy)\n",
      "animacion = animation.FuncAnimation(fig, animate, np.arange(1,len(drum)),interval=20, blit=False)\n",
      "plt.show()\n",
      "plt.hold(False)"
     ],
     "language": "python",
     "metadata": {},
     "outputs": [
      {
       "output_type": "stream",
       "stream": "stdout",
       "text": [
        "Using matplotlib backend: Qt4Agg\n"
       ]
      }
     ],
     "prompt_number": 18
    },
    {
     "cell_type": "code",
     "collapsed": false,
     "input": [],
     "language": "python",
     "metadata": {},
     "outputs": []
    },
    {
     "cell_type": "code",
     "collapsed": false,
     "input": [
      "drum=np.zeros((Nt,Nl,Nl))\n",
      "drum2=np.zeros((Nt,Nl,Nl))\n",
      "drum3=np.zeros((Nt,Nl,Nl))\n",
      "drum4=np.zeros((Nt,Nl,Nl))\n",
      "drum5=np.zeros((Nt,Nl,Nl))\n",
      "drum6=np.zeros((Nt,Nl,Nl))\n",
      "drumt=np.zeros((Nt,4*Nl,3*Nl))\n",
      "\n",
      "drum[0]= np.exp(-xmesh**2)*np.exp(-ymesh**2)\n",
      "drum[1]=drum[0]+r**2/2.*(np.roll(drum[0],1,axis=0)+np.roll(drum[0],-1,axis=0)+np.roll(drum[0],1,axis=1)+np.roll(drum[0],-1,axis=1)-4*drum[0])\n",
      "drum3[0]= np.exp(-xmesh3**2)*np.exp(-ymesh3**2)\n",
      "drum3[1]=drum3[0]+r**2/2.*(np.roll(drum3[0],1,axis=0)+np.roll(drum3[0],-1,axis=0)+np.roll(drum3[0],1,axis=1)+np.roll(drum3[0],-1,axis=1)-4*drum3[0])\n",
      "\n",
      "drum[:,0,:]=drum[:,:,0]\n",
      "drum[:,Nl-1,:]=drum[:,:,Nl-1]\n",
      "drum3[:,0,:]=drum3[:,:,0]\n",
      "drum3[:,Nl-1,:]=drum3[:,:,Nl-1]\n",
      "imshow(drum[0],cmap='gist_heat')\n",
      "\n",
      "for i in range(2,Nt):\n",
      "    pdrum=drum[i-1]\n",
      "    ppdrum=drum[i-2]\n",
      "    pdrum3=drum3[i-1]\n",
      "    ppdrum3=drum3[i-2]\n",
      "    \n",
      "    drum[i]=2*(1.-2.*r**2)*pdrum-ppdrum+r**2*(np.roll(pdrum,1,axis=1)+np.roll(pdrum,-1,axis=1)+np.roll(pdrum,1,axis=0)+np.roll(pdrum,-1,axis=0))\n",
      "    drum3[i]=2*(1.-2.*r**2)*pdrum3-ppdrum3+r**2*(np.roll(pdrum3,1,axis=1)+np.roll(pdrum3,-1,axis=1)+np.roll(pdrum3,1,axis=0)+np.roll(pdrum3,-1,axis=0))\n",
      "\n",
      "    pdrum=drum2[i-1]\n",
      "    ppdrum=drum2[i-2]\n",
      "    drum2[i]=2*(1.-2.*r**2)*pdrum-ppdrum+r**2*(np.roll(pdrum,1,axis=1)+np.roll(pdrum,-1,axis=1)+np.roll(pdrum,1,axis=0)+np.roll(pdrum,-1,axis=0))\n",
      "    pdrum=drum4[i-1]\n",
      "    ppdrum=drum4[i-2]\n",
      "    drum4[i]=2*(1.-2.*r**2)*pdrum-ppdrum+r**2*(np.roll(pdrum,1,axis=1)+np.roll(pdrum,-1,axis=1)+np.roll(pdrum,1,axis=0)+np.roll(pdrum,-1,axis=0))\n",
      "\n",
      "    pdrum=drum5[i-1]\n",
      "    ppdrum=drum5[i-2]\n",
      "    drum5[i]=2*(1.-2.*r**2)*pdrum-ppdrum+r**2*(np.roll(pdrum,1,axis=1)+np.roll(pdrum,-1,axis=1)+np.roll(pdrum,1,axis=0)+np.roll(pdrum,-1,axis=0))\n",
      "\n",
      "    pdrum=drum6[i-1]\n",
      "    ppdrum=drum6[i-2]\n",
      "    drum6[i]=2*(1.-2.*r**2)*pdrum-ppdrum+r**2*(np.roll(pdrum,1,axis=1)+np.roll(pdrum,-1,axis=1)+np.roll(pdrum,1,axis=0)+np.roll(pdrum,-1,axis=0))\n",
      "\n",
      "    a=drum[:,0,:]\n",
      "    b=drum[:,:,0]\n",
      "    c=drum[:,Nl-1,:]\n",
      "    d=drum[:,:,Nl-1]\n",
      "    \n",
      "    a2=drum2[:,0,:]\n",
      "    b2=drum2[:,:,0]\n",
      "    c2=drum2[:,Nl-1,:]\n",
      "    d2=drum2[:,:,Nl-1]\n",
      "    \n",
      "    a3=drum3[:,0,:]\n",
      "    b3=drum3[:,:,0]\n",
      "    c3=drum3[:,Nl-1,:]\n",
      "    d3=drum3[:,:,Nl-1]\n",
      "    \n",
      "    a4=drum4[:,0,:]\n",
      "    b4=drum4[:,:,0]\n",
      "    c4=drum4[:,Nl-1,:]\n",
      "    d4=drum4[:,:,Nl-1]\n",
      "    \n",
      "    a5=drum5[:,0,:]\n",
      "    b5=drum5[:,:,0]\n",
      "    c5=drum5[:,Nl-1,:]\n",
      "    d5=drum5[:,:,Nl-1]\n",
      "    \n",
      "    a6=drum6[:,0,:]\n",
      "    b6=drum6[:,:,0]\n",
      "    c6=drum6[:,Nl-1,:]\n",
      "    d6=drum6[:,:,Nl-1]\n",
      "    \n",
      "    drum[:,0,:]=c4\n",
      "    drum[:,:,0]=d6\n",
      "    drum[:,Nl-1,:]=a5\n",
      "    drum[:,:,Nl-1]=b2\n",
      "    \n",
      "    drum2[:,0,:]=d4\n",
      "    drum2[:,:,0]=d\n",
      "    drum2[:,Nl-1,:]=d5\n",
      "    drum2[:,:,Nl-1]=b3\n",
      "    \n",
      "    drum3[:,0,:]=a4\n",
      "    drum3[:,:,0]=d2\n",
      "    drum3[:,Nl-1,:]=c5\n",
      "    drum3[:,:,Nl-1]=b6\n",
      "    \n",
      "    drum4[:,0,:]=a3\n",
      "    drum4[:,:,0]=a6\n",
      "    drum4[:,Nl-1,:]=a\n",
      "    drum4[:,:,Nl-1]=a2\n",
      "    \n",
      "    drum5[:,0,:]=c\n",
      "    drum5[:,:,0]=c6\n",
      "    drum5[:,Nl-1,:]=c3\n",
      "    drum5[:,:,Nl-1]=c2\n",
      "    \n",
      "    drum6[:,0,:]=b4\n",
      "    drum6[:,:,0]=d3\n",
      "    drum6[:,Nl-1,:]=b5\n",
      "    drum6[:,:,Nl-1]=b\n",
      "    \n",
      "    drumt[i,0:Nl-1,Nl:Nl*2-1]=drum6\n",
      "    drumt[i,Nl:2*Nl-1,0:Nl-1]=drum4\n",
      "    drumt[i,Nl:2*Nl-1,Nl:Nl*2-1]=drum\n",
      "    drumt[i,Nl:2*Nl-1,Nl*2:Nl*3-1]=drum5\n",
      "    drumt[i,2*Nl:3*Nl-1,Nl:Nl*2-1]=drum2\n",
      "    drumt[i,3*Nl:4*Nl-1,Nl:Nl*2-1]=drum2\n",
      "    \n",
      "    \n",
      "    "
     ],
     "language": "python",
     "metadata": {},
     "outputs": [
      {
       "ename": "MemoryError",
       "evalue": "",
       "output_type": "pyerr",
       "traceback": [
        "\u001b[1;31m---------------------------------------------------------------------------\u001b[0m\n\u001b[1;31mMemoryError\u001b[0m                               Traceback (most recent call last)",
        "\u001b[1;32m<ipython-input-30-50d1097d2b43>\u001b[0m in \u001b[0;36m<module>\u001b[1;34m()\u001b[0m\n\u001b[0;32m      5\u001b[0m \u001b[0mdrum5\u001b[0m\u001b[1;33m=\u001b[0m\u001b[0mnp\u001b[0m\u001b[1;33m.\u001b[0m\u001b[0mzeros\u001b[0m\u001b[1;33m(\u001b[0m\u001b[1;33m(\u001b[0m\u001b[0mNt\u001b[0m\u001b[1;33m,\u001b[0m\u001b[0mNl\u001b[0m\u001b[1;33m,\u001b[0m\u001b[0mNl\u001b[0m\u001b[1;33m)\u001b[0m\u001b[1;33m)\u001b[0m\u001b[1;33m\u001b[0m\u001b[0m\n\u001b[0;32m      6\u001b[0m \u001b[0mdrum6\u001b[0m\u001b[1;33m=\u001b[0m\u001b[0mnp\u001b[0m\u001b[1;33m.\u001b[0m\u001b[0mzeros\u001b[0m\u001b[1;33m(\u001b[0m\u001b[1;33m(\u001b[0m\u001b[0mNt\u001b[0m\u001b[1;33m,\u001b[0m\u001b[0mNl\u001b[0m\u001b[1;33m,\u001b[0m\u001b[0mNl\u001b[0m\u001b[1;33m)\u001b[0m\u001b[1;33m)\u001b[0m\u001b[1;33m\u001b[0m\u001b[0m\n\u001b[1;32m----> 7\u001b[1;33m \u001b[0mdrumt\u001b[0m\u001b[1;33m=\u001b[0m\u001b[0mnp\u001b[0m\u001b[1;33m.\u001b[0m\u001b[0mzeros\u001b[0m\u001b[1;33m(\u001b[0m\u001b[1;33m(\u001b[0m\u001b[0mNt\u001b[0m\u001b[1;33m,\u001b[0m\u001b[1;36m4\u001b[0m\u001b[1;33m*\u001b[0m\u001b[0mNl\u001b[0m\u001b[1;33m,\u001b[0m\u001b[1;36m3\u001b[0m\u001b[1;33m*\u001b[0m\u001b[0mNl\u001b[0m\u001b[1;33m)\u001b[0m\u001b[1;33m)\u001b[0m\u001b[1;33m\u001b[0m\u001b[0m\n\u001b[0m\u001b[0;32m      8\u001b[0m \u001b[1;33m\u001b[0m\u001b[0m\n\u001b[0;32m      9\u001b[0m \u001b[0mdrum\u001b[0m\u001b[1;33m[\u001b[0m\u001b[1;36m0\u001b[0m\u001b[1;33m]\u001b[0m\u001b[1;33m=\u001b[0m \u001b[0mnp\u001b[0m\u001b[1;33m.\u001b[0m\u001b[0mexp\u001b[0m\u001b[1;33m(\u001b[0m\u001b[1;33m-\u001b[0m\u001b[0mxmesh\u001b[0m\u001b[1;33m**\u001b[0m\u001b[1;36m2\u001b[0m\u001b[1;33m)\u001b[0m\u001b[1;33m*\u001b[0m\u001b[0mnp\u001b[0m\u001b[1;33m.\u001b[0m\u001b[0mexp\u001b[0m\u001b[1;33m(\u001b[0m\u001b[1;33m-\u001b[0m\u001b[0mymesh\u001b[0m\u001b[1;33m**\u001b[0m\u001b[1;36m2\u001b[0m\u001b[1;33m)\u001b[0m\u001b[1;33m\u001b[0m\u001b[0m\n",
        "\u001b[1;31mMemoryError\u001b[0m: "
       ]
      }
     ],
     "prompt_number": 30
    },
    {
     "cell_type": "code",
     "collapsed": false,
     "input": [],
     "language": "python",
     "metadata": {},
     "outputs": []
    },
    {
     "cell_type": "code",
     "collapsed": false,
     "input": [
      "%matplotlib\n",
      "from matplotlib import animation\n",
      "\n",
      "fig=plt.figure(figsize=(10,10))\n",
      "plt.hold(True)\n",
      "plt.pcolor(xcoords,ycoords,np.abs(drumt[0]),cmap='gist_heat',vmin=0.,vmax=1.)\n",
      "plt.xlim(xmin+dx,xmax-dx)\n",
      "plt.ylim(ymin+dy,ymax-dy)\n",
      "#plt.colorbar()\n",
      "\n",
      "def animate(i):\n",
      "    plt.pcolor(xcoords,ycoords,np.abs(drumt[i]),vmin=0.,vmax=1.)\n",
      "    plt.xlim(xmin+dx,xmax-dx)\n",
      "    plt.ylim(ymin+dy,ymax-dy)\n",
      "animacion = animation.FuncAnimation(fig, animate, np.arange(1,len(drumt)),interval=0, blit=False)\n",
      "plt.show()\n",
      "plt.hold(False)"
     ],
     "language": "python",
     "metadata": {},
     "outputs": [
      {
       "output_type": "stream",
       "stream": "stdout",
       "text": [
        "Using matplotlib backend: Qt4Agg\n"
       ]
      }
     ],
     "prompt_number": 28
    },
    {
     "cell_type": "code",
     "collapsed": false,
     "input": [
      "2000*150*200"
     ],
     "language": "python",
     "metadata": {},
     "outputs": [
      {
       "metadata": {},
       "output_type": "pyout",
       "prompt_number": 31,
       "text": [
        "60000000"
       ]
      }
     ],
     "prompt_number": 31
    },
    {
     "cell_type": "code",
     "collapsed": false,
     "input": [],
     "language": "python",
     "metadata": {},
     "outputs": []
    }
   ],
   "metadata": {}
  }
 ]
}