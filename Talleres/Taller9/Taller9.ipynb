{
 "metadata": {
  "name": "",
  "signature": "sha256:9665569bf23127265008f2dbe6d5f35ba57996464c57bcbb327d964db6fdf225"
 },
 "nbformat": 3,
 "nbformat_minor": 0,
 "worksheets": [
  {
   "cells": [
    {
     "cell_type": "markdown",
     "metadata": {},
     "source": [
      "#Taller 9 - Ecuaciones en Derivadas Parciales\n",
      "*M\u00e9todos Computacionales - Laboratorio*\n",
      "\n",
      "14-Jul-2015 & 15-Jul-2015\n",
      "\n",
      "## Ecuaci\u00f3n de Onda con Amortiguamiento 8 \u2735\n",
      "\n",
      "1) \u2735\u2735\u2735 Modifique la soluci\u00f3n de la ecuaci\u00f3n de onda 2D por diferencias finitas para incluir efectos de amortiguamiento. Determine la ecuaci\u00f3n de evoluci\u00f3n modificada y escriba el desarrollo algebraico correspondiente.\n",
      "\n",
      "$$\\frac{\\partial^2 \\psi}{\\partial{x}^2} + 2\\eta \\frac{\\partial\\psi}{\\partial{t}} = \\frac{1}{v^2}\\frac{\\partial^2 \\psi}{\\partial{t}^2}$$\n",
      "    \n"
     ]
    },
    {
     "cell_type": "markdown",
     "metadata": {},
     "source": [
      "$$\\frac{\\partial^2 \\psi}{\\partial{y}^2} +\\frac{\\partial^2 \\psi}{\\partial{x}^2} + 2\\eta \\frac{\\partial\\psi}{\\partial{t}} = \\frac{1}{v^2}\\frac{\\partial^2 \\psi}{\\partial{t}^2}\n",
      "$$\n"
     ]
    },
    {
     "cell_type": "markdown",
     "metadata": {},
     "source": [
      "$$\n",
      "\\frac{ \\psi^{t}_{i+1,j} - 2  \\psi^{t}_{i,j} + \\psi^{t}_{i-1,j}}{(\\Delta x)^2}+\\frac{\\psi^{t}_{i,j+1} - 2 \\psi^{t}_{i,j} + \\psi^{t}_{i,j-1}}{(\\Delta y)^2}+\\eta  \\frac{\\psi^{t-1}_{i,j}+ \\psi^{t+1}_{i,j}}{(\\Delta t)}= \\frac{1}{v^2} \\frac{ \\psi^{t+1}_{i,j}-2 \\psi^{t}_{i,j}+ \\psi^{t-1}_{i,j}}{(\\Delta t)^2}$$"
     ]
    },
    {
     "cell_type": "markdown",
     "metadata": {},
     "source": [
      "$$\n",
      "\\frac{ \\psi^{t}_{i+1,j} - 2  \\psi^{t}_{i,j} + \\psi^{t}_{i-1,j}}{(\\Delta x)^2}+\\frac{\\psi^{t}_{i,j+1} - 2 \\psi^{t}_{i,j} + \\psi^{t}_{i,j-1}}{(\\Delta y)^2} - \\eta  \\frac{\\psi^{t-1}_{i,j}}{(\\Delta t)}- \\frac{1}{v^2} \\frac{-2 \\psi^{t}_{i,j}+ \\psi^{t-1}_{i,j}}{(\\Delta t)^2}= \\left(\\frac{1}{v^2}- \\eta(\\Delta t)\\right)  \\frac{ \\psi^{t+1}_{i,j}}{(\\Delta t)^2}   $$"
     ]
    },
    {
     "cell_type": "markdown",
     "metadata": {},
     "source": [
      "\n",
      " \n",
      " $$\n",
      " \\psi^{t+1}_{i,j}   = \\frac{(\\Delta t)^2}{\\left(\\frac{1}{v^2}- \\eta(\\Delta t)\\right)} \\left(\\frac{ \\psi^{t}_{i+1,j} - 2  \\psi^{t}_{i,j} + \\psi^{t}_{i-1,j}}{(\\Delta x)^2}+\\frac{\\psi^{t}_{i,j+1} - 2 \\psi^{t}_{i,j} + \\psi^{t}_{i,j-1}}{(\\Delta y)^2} - \\eta  \\frac{\\psi^{t-1}_{i,j}}{(\\Delta t)}- \\frac{1}{v^2} \\frac{-2 \\psi^{t}_{i,j}+ \\psi^{t-1}_{i,j}}{(\\Delta t)^2} \\right)$$\n"
     ]
    },
    {
     "cell_type": "markdown",
     "metadata": {},
     "source": [
      "2) \u2735 Programe lo anterior y haga una animaci\u00f3n de lo que le acontece a una deformaci\u00f3n inicial similar a la que hemos utilizado en anteriores ocasiones. Considere una membrana con extremos fijos.\n",
      "\n"
     ]
    },
    {
     "cell_type": "code",
     "collapsed": false,
     "input": [
      "%pylab inline"
     ],
     "language": "python",
     "metadata": {},
     "outputs": [
      {
       "output_type": "stream",
       "stream": "stdout",
       "text": [
        "Populating the interactive namespace from numpy and matplotlib\n"
       ]
      }
     ],
     "prompt_number": 27
    },
    {
     "cell_type": "code",
     "collapsed": false,
     "input": [
      "eta=1.0e-3\n",
      "v=400.\n",
      "Nt=1000\n",
      "\n",
      "\n",
      "tmin=0\n",
      "tmax=1000*dt\n",
      "xmin=-0.5\n",
      "xmax=0.5\n",
      "ymin=-0.5\n",
      "ymax=0.5\n",
      "dt=1.5e-5\n",
      "dx=1.0e-2\n",
      "dy=dx\n",
      "\n",
      "Nl=int(1./1.0e-2)\n",
      "\n",
      "\n",
      "psi=zeros((Nt,Nl,Nl))\n",
      "xcoords=np.linspace(xmin,xmax,Nl)\n",
      "ycoords=np.linspace(ymin,ymax,Nl)\n",
      "tcoords=np.linspace(tmin,tmax,Nt)\n",
      "\n",
      "xmesh,ymesh=meshgrid(xcoords,ycoords)\n",
      "\n",
      "psi[0]= np.exp(-xmesh**2/(2*0.1**2))*np.exp(-ymesh**2/(2*0.1**2))\n",
      "psi[1]=dt**2/(1/v**2-2*eta*dt)*((roll(psi[0],1,axis=0)-2*psi[0]+roll(psi[0],-1,axis=0))/dx**2+\n",
      "                                (roll(psi[0],1,axis=1)-2*psi[0]+roll(psi[0],-1,axis=1))/dy**2\n",
      "                                -1/v**2*(-2*psi[0]/dt**2))\n",
      "\n",
      "psi[0,0]=0\n",
      "psi[0,-1]=0\n",
      "psi[0,:,0]=0\n",
      "psi[0,:,-1]=0\n",
      "\n",
      "for i in range(2,Nt):\n",
      "    \n",
      "    p=psi[i-1]\n",
      "    pp=psi[i-2]\n",
      "    psi[i]=dt**2/(1/v**2-eta*dt)*((roll(p,1,axis=0)-2*p+roll(p,-1,axis=0))/dx**2+\n",
      "                                    (roll(p,1,axis=1)-2*p+roll(p,-1,axis=1))/dy**2-\n",
      "                                    eta*pp/dt-1/v**2*(-2*p+pp)/dt**2)\n",
      "    \n",
      "    psi[i,0,:]=0\n",
      "    psi[i,-1,:]=0\n",
      "    psi[i,:,0]=0\n",
      "    psi[i,:,-1]=0\n",
      "\n",
      "\n",
      "pcolor(xcoords,ycoords,psi[0])"
     ],
     "language": "python",
     "metadata": {},
     "outputs": [
      {
       "metadata": {},
       "output_type": "pyout",
       "prompt_number": 28,
       "text": [
        "<matplotlib.collections.PolyCollection at 0x11084ef0>"
       ]
      },
      {
       "metadata": {},
       "output_type": "display_data",
       "png": "[encoded data removed]",
       "text": [
        "<matplotlib.figure.Figure at 0x1107ed70>"
       ]
      }
     ],
     "prompt_number": 28
    },
    {
     "cell_type": "code",
     "collapsed": false,
     "input": [
      "%matplotlib\n",
      "from matplotlib import animation\n",
      "\n",
      "fig=plt.figure(figsize=(10,10))\n",
      "plt.hold(True)\n",
      "plt.pcolor(xcoords,ycoords,psi[0],cmap='gist_heat')\n",
      "\n",
      "#plt.colorbar()\n",
      "\n",
      "def animate(i):\n",
      "    plt.pcolor(xcoords,ycoords,psi[i],cmap='gist_heat')\n",
      "    \n",
      "animacion = animation.FuncAnimation(fig, animate, np.arange(1,len(psi)),interval=1, blit=False)\n",
      "plt.show()\n",
      "plt.hold(False)"
     ],
     "language": "python",
     "metadata": {},
     "outputs": [
      {
       "output_type": "stream",
       "stream": "stdout",
       "text": [
        "Using matplotlib backend: Qt4Agg\n"
       ]
      }
     ],
     "prompt_number": 32
    },
    {
     "cell_type": "markdown",
     "metadata": {},
     "source": [
      "$$\n",
      " \\psi^{t+1}_{i,j}   = \\frac{(\\Delta t)^2}{\\left(\\frac{1}{v^2}- 2\\eta(\\Delta t)\\right)} \\left(\\frac{ \\psi^{t}_{i+1,j} - 2  \\psi^{t}_{i,j} + \\psi^{t}_{i-1,j}}{(\\Delta x)^2}+\\frac{\\psi^{t}_{i,j+1} - 2 \\psi^{t}_{i,j} + \\psi^{t}_{i,j-1}}{(\\Delta y)^2} - 2\\eta  \\frac{\\psi^{t-1}_{i,j}}{(\\Delta t)}- \\frac{1}{v^2} \\frac{-2 \\psi^{t}_{i,j}+ \\psi^{t-1}_{i,j}}{(\\Delta t)^2} \\right)$$\n",
      "\n",
      "3) \u2735\u2735\u2735\u2735 Ahora haga una animaci\u00f3n que simule gotas sobre la superficie de una piscina de agua. Extremos fijos. [Aqu\u00ed](https://github.com/ComputoCienciasUniandes/MetodosComputacionalesLaboratorio/raw/master/2015-V/actividades/talleres/Taller9/pool.mp4) se muestra un ejemplo del resultado esperado donde se usaron los siguientes par\u00e1metros:\n",
      "\n",
      "    # unidades arbitrarias\n",
      "    xmin=-0.5\n",
      "    xmax=0.5\n",
      "    ymin=-0.5\n",
      "    ymax=0.5\n",
      "    dt=1.5e-5\n",
      "    dx=1.0e-2\n",
      "    v=400.\n",
      "    eta=1000.\n",
      "    r=v*dt/dx\n",
      "\n",
      "  **Al terminar la clase del mi\u00e9rcoles ejecute `lottery.sh` para saber si su taller va a ser revisado.**\n"
     ]
    },
    {
     "cell_type": "code",
     "collapsed": false,
     "input": [],
     "language": "python",
     "metadata": {},
     "outputs": []
    }
   ],
   "metadata": {}
  }
 ]
}