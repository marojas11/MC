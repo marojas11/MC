{
 "metadata": {
  "name": "",
  "signature": "sha256:31072db81ab96388fd2df64ebaf04bde083b09f219c090fbb47ddc830a949968"
 },
 "nbformat": 3,
 "nbformat_minor": 0,
 "worksheets": [
  {
   "cells": [
    {
     "cell_type": "markdown",
     "metadata": {},
     "source": [
      "#Taller 9 - Ecuaciones en Derivadas Parciales\n",
      "*M\u00e9todos Computacionales - Laboratorio*\n",
      "\n",
      "14-Jul-2015 & 15-Jul-2015\n",
      "\n",
      "## Ecuaci\u00f3n de Onda con Amortiguamiento 8 \u2735\n",
      "\n",
      "1) \u2735\u2735\u2735 Modifique la soluci\u00f3n de la ecuaci\u00f3n de onda 2D por diferencias finitas para incluir efectos de amortiguamiento. Determine la ecuaci\u00f3n de evoluci\u00f3n modificada y escriba el desarrollo algebraico correspondiente.\n",
      "\n",
      "$$\\frac{\\partial^2 \\psi}{\\partial{x}^2} + 2\\eta \\frac{\\partial\\psi}{\\partial{t}} = \\frac{1}{v^2}\\frac{\\partial^2 \\psi}{\\partial{t}^2}$$\n",
      "    \n"
     ]
    },
    {
     "cell_type": "markdown",
     "metadata": {},
     "source": [
      "$$\\frac{\\partial^2 \\psi}{\\partial{y}^2} +\\frac{\\partial^2 \\psi}{\\partial{x}^2} + 2\\eta \\frac{\\partial\\psi}{\\partial{t}} = \\frac{1}{v^2}\\frac{\\partial^2 \\psi}{\\partial{t}^2}\n",
      "$$\n"
     ]
    },
    {
     "cell_type": "markdown",
     "metadata": {},
     "source": [
      "$$\n",
      "\\frac{\\psi(t,x+\\Delta x,y) - 2 \\psi(t,x,y) + \\psi(t,x-\\Delta x,y)}{(\\Delta x)^2}+\\frac{\\psi(t,x,y+\\Delta y) - 2 \\psi(t,x,y) + \\psi(t,x,y-\\Delta y)}{(\\Delta y)^2}+ 2\\eta \\frac{\\psi(t+\\Delta t,x,y) - \\psi(t-\\Delta t,x,y)}{(\\Delta t)} = \\frac{1}{v^2} \\frac{\\psi(t+\\Delta t,x,y) - 2 \\psi(t,x,y) + \\psi(t-\\Delta t,x,y)}{(\\Delta t)^2}$$"
     ]
    },
    {
     "cell_type": "markdown",
     "metadata": {},
     "source": [
      "$$\n",
      "\\frac{\\psi(t_n,x_{n+1},y_n) - 2 \\psi(t_n,x_n,y_n) + \\psi(t_n,x_{n-1},y_n)}{(\\Delta x)^2}+\\frac{\\psi(t_n,x_n,y_{n+1}) - 2 \\psi(t_n,x_n,y_n) + \\psi(t_n,x_n,y_{n+1})}{(\\Delta y)^2} - 2\\eta  \\frac{\\psi(t_{n-1},x_n,y_n)}{(\\Delta t)} - \\frac{1}{v^2} \\frac{-2 \\psi(t_n,x_n,y_n) + \\psi(t_{n-1},x_n,y_n)}{(\\Delta t)^2}= \\left(\\frac{1}{v^2}- 2\\eta(\\Delta t)\\right)  \\frac{\\psi(t_{n+1},x_n,y_n)}{(\\Delta t)^2}   $$"
     ]
    },
    {
     "cell_type": "markdown",
     "metadata": {},
     "source": [
      "$$\n",
      " \\psi(t_{n+1},x_n,y_n)    = \\frac{(\\Delta t)^2}{\\left(\\frac{1}{v^2}- 2\\eta(\\Delta t)\\right)} \\left(\\frac{\\psi(t_n,x_{n+1},y_n) - 2 \\psi(t_n,x_n,y_n) + \\psi(t_n,x_{n-1},y_n)}{(\\Delta x)^2}+\\frac{\\psi(t_n,x_n,y_{n+1}) - 2 \\psi(t_n,x_n,y_n) + \\psi(t_n,x_n,y_{n+1})}{(\\Delta y)^2} - 2\\eta  \\frac{\\psi(t_{n-1},x_n,y_n)}{(\\Delta t)}- \\frac{1}{v^2} \\frac{-2 \\psi(t_n,x_n,y_n) + \\psi(t_{n-1},x_n,y_n)}{(\\Delta t)^2} \\right)$$"
     ]
    },
    {
     "cell_type": "markdown",
     "metadata": {},
     "source": [
      "2) \u2735 Programe lo anterior y haga una animaci\u00f3n de lo que le acontece a una deformaci\u00f3n inicial similar a la que hemos utilizado en anteriores ocasiones. Considere una membrana con extremos fijos.\n",
      "\n"
     ]
    },
    {
     "cell_type": "code",
     "collapsed": false,
     "input": [
      "%pylab inline"
     ],
     "language": "python",
     "metadata": {},
     "outputs": [
      {
       "output_type": "stream",
       "stream": "stdout",
       "text": [
        "Populating the interactive namespace from numpy and matplotlib\n"
       ]
      }
     ],
     "prompt_number": 1
    },
    {
     "cell_type": "code",
     "collapsed": false,
     "input": [
      "eta=1.\n",
      "v=1.\n",
      "dx=1\n",
      "dy=1\n",
      "dt=1\n",
      "Nt=100\n",
      "Nl=100\n",
      "phi=zeros((Nt,Nl,Nl))\n",
      "\n",
      "\n",
      "\n"
     ],
     "language": "python",
     "metadata": {},
     "outputs": []
    },
    {
     "cell_type": "markdown",
     "metadata": {},
     "source": [
      "3) \u2735\u2735\u2735\u2735 Ahora haga una animaci\u00f3n que simule gotas sobre la superficie de una piscina de agua. Extremos fijos. [Aqu\u00ed](https://github.com/ComputoCienciasUniandes/MetodosComputacionalesLaboratorio/raw/master/2015-V/actividades/talleres/Taller9/pool.mp4) se muestra un ejemplo del resultado esperado donde se usaron los siguientes par\u00e1metros:\n",
      "\n",
      "    # unidades arbitrarias\n",
      "    xmin=-0.5\n",
      "    xmax=0.5\n",
      "    ymin=-0.5\n",
      "    ymax=0.5\n",
      "    dt=1.5e-5\n",
      "    dx=1.0e-2\n",
      "    v=400.\n",
      "    eta=1000.\n",
      "    r=v*dt/dx\n",
      "\n",
      "  **Al terminar la clase del mi\u00e9rcoles ejecute `lottery.sh` para saber si su taller va a ser revisado.**\n"
     ]
    },
    {
     "cell_type": "code",
     "collapsed": false,
     "input": [],
     "language": "python",
     "metadata": {},
     "outputs": []
    }
   ],
   "metadata": {}
  }
 ]
}