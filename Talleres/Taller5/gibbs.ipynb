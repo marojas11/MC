{
 "metadata": {
  "name": "",
  "signature": "sha256:63cc8d6946f0fdb75d9d0b8324cae360612d5e173fba29a6530ffc1fdcba82ac"
 },
 "nbformat": 3,
 "nbformat_minor": 0,
 "worksheets": [
  {
   "cells": [
    {
     "cell_type": "markdown",
     "metadata": {},
     "source": [
      "#Laboratorio Metodos Computacionales\n",
      "##Taller 5\n",
      "**Miguel Angel Rojas Aparicio**"
     ]
    },
    {
     "cell_type": "code",
     "collapsed": false,
     "input": [
      "%pylab inline"
     ],
     "language": "python",
     "metadata": {},
     "outputs": [
      {
       "output_type": "stream",
       "stream": "stdout",
       "text": [
        "Populating the interactive namespace from numpy and matplotlib\n",
        "\n"
       ]
      }
     ],
     "prompt_number": 2
    },
    {
     "cell_type": "code",
     "collapsed": false,
     "input": [
      "from scipy.optimize import basinhopping"
     ],
     "language": "python",
     "metadata": {},
     "outputs": [],
     "prompt_number": 3
    },
    {
     "cell_type": "code",
     "collapsed": false,
     "input": [
      "def square (x,fun,freq,N):\n",
      "    term=0\n",
      "    \n",
      "    for i in range(1,N+1):\n",
      "        term+=(sin(2*pi*(2*i-1)*freq*x)/(2*i-1))\n",
      "       \n",
      "    return fun*4/pi*term\n",
      "\n",
      "x=linspace(0,2*pi,1000)\n",
      "y=[]\n",
      "for i in range(len(x)):\n",
      "    y.append(square(x[i],pi/0.1,1/(2*pi),1000))\n",
      "    \n",
      "plot(x,y)\n",
      "\n"
     ],
     "language": "python",
     "metadata": {},
     "outputs": [
      {
       "metadata": {},
       "output_type": "pyout",
       "prompt_number": 4,
       "text": [
        "[<matplotlib.lines.Line2D at 0xbe71bf0>]"
       ]
      },
      {
       "metadata": {},
       "output_type": "display_data",
       "png": "[encoded data removed]",
       "text": [
        "<matplotlib.figure.Figure at 0xbdf4910>"
       ]
      }
     ],
     "prompt_number": 4
    },
    {
     "cell_type": "code",
     "collapsed": false,
     "input": [
      "type(y[0])"
     ],
     "language": "python",
     "metadata": {},
     "outputs": [
      {
       "metadata": {},
       "output_type": "pyout",
       "prompt_number": 5,
       "text": [
        "numpy.float64"
       ]
      }
     ],
     "prompt_number": 5
    },
    {
     "cell_type": "code",
     "collapsed": false,
     "input": [
      "def cteGibbs (N, square):\n",
      "    mini= basinhopping(lambda x: square(x,pi/4,1/(2*pi),N),1,niter=200)\n",
      "    return abs(mini.fun*(2))\n"
     ],
     "language": "python",
     "metadata": {},
     "outputs": [
      {
       "output_type": "stream",
       "stream": "stdout",
       "text": [
        "\n"
       ]
      }
     ],
     "prompt_number": 9
    },
    {
     "cell_type": "code",
     "collapsed": false,
     "input": [
      "print \"La constante de Gibbs es:\", cteGibbs(100,square)"
     ],
     "language": "python",
     "metadata": {},
     "outputs": [
      {
       "output_type": "stream",
       "stream": "stdout",
       "text": [
        "La constante de Gibbs es: "
       ]
      },
      {
       "output_type": "stream",
       "stream": "stdout",
       "text": [
        "1.8519501421\n"
       ]
      }
     ],
     "prompt_number": 10
    },
    {
     "cell_type": "code",
     "collapsed": false,
     "input": [
      "N=range(1,30)\n",
      "cte=[]\n",
      "for i in range(len(N)):\n",
      "    cte.append((cteGibbs(N[i],square)-pi/2)/pi)\n",
      "plot(N,cte)\n",
      "ylabel(\"$(G-\\pi\\/2)/\\pi$\")\n",
      "xlabel(\"N\")"
     ],
     "language": "python",
     "metadata": {},
     "outputs": [
      {
       "metadata": {},
       "output_type": "pyout",
       "prompt_number": 16,
       "text": [
        "<matplotlib.text.Text at 0xc4ec090>"
       ]
      },
      {
       "metadata": {},
       "output_type": "display_data",
       "png": "[encoded data removed]",
       "text": [
        "<matplotlib.figure.Figure at 0xc240ed0>"
       ]
      }
     ],
     "prompt_number": 16
    },
    {
     "cell_type": "code",
     "collapsed": false,
     "input": [],
     "language": "python",
     "metadata": {},
     "outputs": []
    }
   ],
   "metadata": {}
  }
 ]
}