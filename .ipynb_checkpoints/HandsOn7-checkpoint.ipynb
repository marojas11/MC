{
 "metadata": {
  "name": "",
  "signature": "sha256:e0ec47cf6f8039f231a21b4c6fb1ff8a875476c1d9d1b5ceae5c1a7c8651891f"
 },
 "nbformat": 3,
 "nbformat_minor": 0,
 "worksheets": [
  {
   "cells": [
    {
     "cell_type": "code",
     "collapsed": false,
     "input": [
      "%pylab inline"
     ],
     "language": "python",
     "metadata": {},
     "outputs": [
      {
       "output_type": "stream",
       "stream": "stdout",
       "text": [
        "Populating the interactive namespace from numpy and matplotlib\n"
       ]
      }
     ],
     "prompt_number": 1
    },
    {
     "cell_type": "code",
     "collapsed": false,
     "input": [
      "from scipy import interpolate\n",
      "from scipy.optimize import curve_fit\n",
      "poly=genfromtxt(\"polyunkown.csv\",delimiter=\",\")"
     ],
     "language": "python",
     "metadata": {},
     "outputs": [],
     "prompt_number": 28
    },
    {
     "cell_type": "code",
     "collapsed": false,
     "input": [
      "print poly"
     ],
     "language": "python",
     "metadata": {},
     "outputs": [
      {
       "output_type": "stream",
       "stream": "stdout",
       "text": [
        "[[ -5.00000000e+00  -1.26706914e+09]\n",
        " [ -4.74358974e+00  -6.47700894e+08]\n",
        " [ -4.48717949e+00  -3.19754304e+08]\n",
        " [ -4.23076923e+00  -1.51906610e+08]\n",
        " [ -3.97435897e+00  -6.91630276e+07]\n",
        " [ -3.71794872e+00  -3.00364035e+07]\n",
        " [ -3.46153846e+00  -1.23736168e+07]\n",
        " [ -3.20512821e+00  -4.80386176e+06]\n",
        " [ -2.94871795e+00  -1.74398755e+06]\n",
        " [ -2.69230769e+00  -5.86418705e+05]\n",
        " [ -2.43589744e+00  -1.80437261e+05]\n",
        " [ -2.17948718e+00  -4.99933117e+04]\n",
        " [ -1.92307692e+00  -1.21936564e+04]\n",
        " [ -1.66666667e+00  -2.53141232e+03]\n",
        " [ -1.41025641e+00  -4.24966093e+02]\n",
        " [ -1.15384615e+00  -5.43423102e+01]\n",
        " [ -8.97435897e-01  -6.62231212e+00]\n",
        " [ -6.41025641e-01  -2.88680634e+00]\n",
        " [ -3.84615385e-01  -2.44055823e+00]\n",
        " [ -1.28205128e-01  -1.59215469e+00]\n",
        " [  1.28205128e-01  -3.05478837e-01]\n",
        " [  3.84615385e-01   1.61063060e+00]\n",
        " [  6.41025641e-01   5.19642192e+00]\n",
        " [  8.97435897e-01   1.30874525e+01]\n",
        " [  1.15384615e+00   4.04918428e+01]\n",
        " [  1.41025641e+00   2.09708164e+02]\n",
        " [  1.66666667e+00   1.31467348e+03]\n",
        " [  1.92307692e+00   7.38003804e+03]\n",
        " [  2.17948718e+00   3.49994566e+04]\n",
        " [  2.43589744e+00   1.42110795e+05]\n",
        " [  2.69230769e+00   5.05635321e+05]\n",
        " [  2.94871795e+00   1.60987872e+06]\n",
        " [  3.20512821e+00   4.66594813e+06]\n",
        " [  3.46153846e+00   1.24812309e+07]\n",
        " [  3.71794872e+00   3.11572382e+07]\n",
        " [  3.97435897e+00   7.32405973e+07]\n",
        " [  4.23076923e+00   1.63320531e+08]\n",
        " [  4.48717949e+00   3.47601256e+08]\n",
        " [  4.74358974e+00   7.09735046e+08]\n",
        " [  5.00000000e+00   1.39624991e+09]]\n"
       ]
      }
     ],
     "prompt_number": 3
    },
    {
     "cell_type": "code",
     "collapsed": false,
     "input": [
      "x=poly[:,0]\n",
      "y=poly[:,1]"
     ],
     "language": "python",
     "metadata": {},
     "outputs": [],
     "prompt_number": 29
    },
    {
     "cell_type": "code",
     "collapsed": false,
     "input": [
      "def lagrangep(absc,j):\n",
      "    pol=np.poly1d([0,1])\n",
      "    k=len(absc)\n",
      "    for m in range(k):\n",
      "        if m!=j:\n",
      "            pol*=1./(absc[j]-absc[m])*np.poly1d([1.,-absc[m]])\n",
      "    return pol   \n",
      "\n",
      "def interlagr(absc,orde):\n",
      "    poly=np.poly1d([0])\n",
      "    for i in range(len(absc)):\n",
      "        poly+=orde[i]*lagrangep(absc,i)\n",
      "    return poly\n",
      "\n",
      "po=interlagr(x,y)\n",
      "print po\n"
     ],
     "language": "python",
     "metadata": {},
     "outputs": [
      {
       "output_type": "stream",
       "stream": "stdout",
       "text": [
        "            39             38             37            36\n",
        "-3.693e-21 x  - 2.432e-21 x  + 6.157e-19 x  + 3.52e-19 x \n",
        "              35             34             33             32\n",
        " - 4.566e-17 x  - 2.765e-17 x  + 1.959e-15 x  + 3.057e-15 x \n",
        "             31             30             29             28\n",
        " - 7.95e-14 x  + 8.041e-14 x  + 8.226e-13 x  + 1.005e-12 x \n",
        "              27             26             25             24\n",
        " - 6.333e-12 x  - 1.324e-10 x  + 8.595e-10 x  - 2.274e-09 x \n",
        "              23             22             21             20\n",
        " + 5.127e-09 x  - 1.697e-08 x  + 3.758e-08 x  - 1.425e-08 x \n",
        "              19             18             17             16\n",
        " - 7.943e-08 x  + 1.041e-07 x  - 1.494e-07 x  + 7.043e-07 x \n",
        "              15             14     13       12     11     10     9\n",
        " - 1.163e-06 x  + 2.183e-07 x  + 1 x  + 0.5 x  + 2 x  - 6 x  + 7 x\n",
        "      8     7     6     5     4     3     2\n",
        " + 3 x - 5 x - 4 x + 6 x + 7 x + 1 x + 3 x + 5 x - 1\n"
       ]
      }
     ],
     "prompt_number": 30
    },
    {
     "cell_type": "code",
     "collapsed": false,
     "input": [
      "fit=polyfit(x,y,13)\n",
      "print fit"
     ],
     "language": "python",
     "metadata": {},
     "outputs": [
      {
       "output_type": "stream",
       "stream": "stdout",
       "text": [
        "[ 1.          0.5         2.00000001 -6.00000001  6.99999969  3.00000028\n",
        " -4.99999561 -4.0000031   5.99997098  7.00001446  1.00007962  2.99997674\n",
        "  4.99993972 -0.99999437]\n"
       ]
      }
     ],
     "prompt_number": 41
    },
    {
     "cell_type": "code",
     "collapsed": false,
     "input": [
      "fig=plt.figure()\n",
      "ixv=np.linspace(-5,5,100)\n",
      "ax=fig.add_subplot(111)\n",
      "ax.plot(x,y,\"o\",ms=10,label=\"puntos muestrales\")\n",
      "ax.plot(ixv,po(ixv),label=u\"Interpolaci\u00f3n\")\n",
      "plt.legend()\n",
      "\n",
      "plt.show(fig)"
     ],
     "language": "python",
     "metadata": {},
     "outputs": [
      {
       "metadata": {},
       "output_type": "display_data",
       "png": "[encoded data removed]",
       "text": [
        "<matplotlib.figure.Figure at 0x37bc650>"
       ]
      }
     ],
     "prompt_number": 40
    },
    {
     "cell_type": "code",
     "collapsed": false,
     "input": [
      "poly=genfromtxt(\"4lunas.tsv\",delimiter=\"\\t\")\n",
      "semieje=poly[1:5,1]\n",
      "semi"
     ],
     "language": "python",
     "metadata": {},
     "outputs": [
      {
       "output_type": "stream",
       "stream": "stdout",
       "text": [
        "[  421.6   670.   1070.4  1882.7]\n"
       ]
      }
     ],
     "prompt_number": 23
    },
    {
     "cell_type": "code",
     "collapsed": false,
     "input": [],
     "language": "python",
     "metadata": {},
     "outputs": []
    }
   ],
   "metadata": {}
  }
 ]
}