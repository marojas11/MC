{
 "metadata": {
  "name": "",
  "signature": "sha256:a96371269fd2597c4e18782c528a53c6944b30345db11073c7fbf4b71b1821b6"
 },
 "nbformat": 3,
 "nbformat_minor": 0,
 "worksheets": []
}