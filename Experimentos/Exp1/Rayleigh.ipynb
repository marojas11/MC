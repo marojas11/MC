{
 "metadata": {
  "name": "",
  "signature": "sha256:5d256400610fbcfc882c52bd852903c345d2ad487a63afb00b8f0f860609459b"
 },
 "nbformat": 3,
 "nbformat_minor": 0,
 "worksheets": [
  {
   "cells": [
    {
     "cell_type": "markdown",
     "metadata": {},
     "source": [
      "#Experimento 1 - Distribuci\u00f3n de Velocidades de Maxwell - Boltzmann 2D\n",
      "##Introducci\u00f3n\n",
      "\n",
      "Nuestra hip\u00f3tesis es que en equilibrio las rapideces se distribuyen de acuerdo a la distribuci\u00f3n de Rayleigh\n"
     ]
    },
    {
     "cell_type": "code",
     "collapsed": false,
     "input": [
      "%pylab inline"
     ],
     "language": "python",
     "metadata": {},
     "outputs": [
      {
       "output_type": "stream",
       "stream": "stdout",
       "text": [
        "Populating the interactive namespace from numpy and matplotlib\n"
       ]
      }
     ],
     "prompt_number": 2
    },
    {
     "cell_type": "code",
     "collapsed": false,
     "input": [
      "from matplotlib import animation\n",
      "print \"Hola\""
     ],
     "language": "python",
     "metadata": {},
     "outputs": [
      {
       "output_type": "stream",
       "stream": "stdout",
       "text": [
        "Hola\n"
       ]
      }
     ],
     "prompt_number": 19
    },
    {
     "cell_type": "code",
     "collapsed": false,
     "input": [
      "import scipy.stats "
     ],
     "language": "python",
     "metadata": {},
     "outputs": [],
     "prompt_number": 56
    },
    {
     "cell_type": "code",
     "collapsed": false,
     "input": [
      "animate=genfromtxt(\"Rayleigh.csv\",delimiter=\",\")\n",
      "x=animate[:,0]\n",
      "y=animate[:,1]\n",
      "vx=animate[:,2]\n",
      "vy=animate[:,3]\n",
      "v=sqrt(vx**2+vy**2)\n",
      "vfinal=v[400000:401600]\n",
      "print vfinal\n"
     ],
     "language": "python",
     "metadata": {},
     "outputs": [
      {
       "output_type": "stream",
       "stream": "stdout",
       "text": [
        "[ 1.34721628  1.40499525  1.06361021 ...,  0.71753988  1.42283995\n",
        "  1.04315399]\n"
       ]
      }
     ],
     "prompt_number": 69
    },
    {
     "cell_type": "code",
     "collapsed": false,
     "input": [
      "hist(vfinal, bins=50 , normed=True)\n",
      "\n",
      "n = linspace(0,5,153)\n",
      "#Generar un arrreglo de numeros con distribucion rayleigh con la media y la desviaci\u00f3n estandar de los datos en el rango establecido\n",
      "rdist = scipy.stats.rayleigh(var(vfinal))\n",
      "#Graficar el ajuste rayleigh\n",
      "plot(n,rdist.pdf(n), c='r')\n",
      "#Graficar el histograma para los \u00faltimos 1600 datos\n",
      "\n",
      "\n"
     ],
     "language": "python",
     "metadata": {},
     "outputs": [
      {
       "metadata": {},
       "output_type": "display_data",
       "png": "[encoded data removed]",
       "text": [
        "<matplotlib.figure.Figure at 0x145abfd0>"
       ]
      }
     ],
     "prompt_number": 80
    },
    {
     "cell_type": "code",
     "collapsed": false,
     "input": [
      "fig=figure()\n",
      "print \"Hola\""
     ],
     "language": "python",
     "metadata": {},
     "outputs": [
      {
       "output_type": "stream",
       "stream": "stdout",
       "text": [
        "Hola\n"
       ]
      },
      {
       "metadata": {},
       "output_type": "display_data",
       "text": [
        "<matplotlib.figure.Figure at 0x295f290>"
       ]
      }
     ],
     "prompt_number": 20
    },
    {
     "cell_type": "code",
     "collapsed": false,
     "input": [
      "n = linspace(-3,3,10000)\n",
      "print n\n",
      "#Generar un arrreglo de numeros con distribucion rayleigh con la media y la desviaci\u00f3n estandar de los datos en el rango establecido\n",
      "rdist = scipy.stats.rayleigh()\n",
      "print rdist\n",
      "#Graficar el ajuste rayleigh\n",
      "plot(n,rdist.pdf(n))\n",
      "print \"Hola\""
     ],
     "language": "python",
     "metadata": {},
     "outputs": [
      {
       "output_type": "stream",
       "stream": "stdout",
       "text": [
        "[-3.         -2.99939994 -2.99879988 ...,  2.99879988  2.99939994  3.        ]\n"
       ]
      }
     ],
     "prompt_number": 33
    },
    {
     "cell_type": "code",
     "collapsed": false,
     "input": [
      "from scipy.optimize import curve_fit\n"
     ],
     "language": "python",
     "metadata": {},
     "outputs": [],
     "prompt_number": 34
    },
    {
     "cell_type": "code",
     "collapsed": false,
     "input": [],
     "language": "python",
     "metadata": {},
     "outputs": [
      {
       "metadata": {},
       "output_type": "display_data",
       "png": "[encoded data removed]",
       "text": [
        "<matplotlib.figure.Figure at 0xdeeea10>"
       ]
      }
     ],
     "prompt_number": 57
    },
    {
     "cell_type": "code",
     "collapsed": false,
     "input": [
      "print(type(ndist.pdf(n)))"
     ],
     "language": "python",
     "metadata": {},
     "outputs": [],
     "prompt_number": 55
    },
    {
     "cell_type": "code",
     "collapsed": false,
     "input": [
      "figure"
     ],
     "language": "python",
     "metadata": {},
     "outputs": []
    }
   ],
   "metadata": {}
  }
 ]
}